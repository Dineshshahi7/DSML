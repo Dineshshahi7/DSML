{
 "cells": [
  {
   "cell_type": "markdown",
   "id": "cb9d0c7f-b5d8-475f-bc4b-48874e04c4fa",
   "metadata": {},
   "source": [
    "# Python Functions\n",
    "\n",
    "A function is a block of code that performs a specific task and can be reused throughout a program. \n",
    "\n",
    "Functions are defined using the `def` keyword in python, followed by the function name and any parameters the function takes. \n",
    "\n",
    "```python\n",
    "def <function_name>(parameters):\n",
    "    do something\n",
    "    .\n",
    "    .\n",
    "    return <result>\n",
    "```"
   ]
  },
  {
   "cell_type": "markdown",
   "id": "fd7e25b6-95bd-4467-a0f9-09eea20354dd",
   "metadata": {},
   "source": [
    "A method is a function that is associated with an object. \n",
    "It allows you to perform actions on the object or manipulate its data in some way. \n",
    "Methods can be called on any object of a particular class or data type. \n",
    "While talking about data-types in our previous lecture, we also talked about methods associated with respective data-type.\n"
   ]
  },
  {
   "cell_type": "code",
   "execution_count": 7,
   "id": "c5100643-b9bc-40d9-ae6c-297e16ececb9",
   "metadata": {},
   "outputs": [],
   "source": [
    "def calculate_sum(num1, num2):\n",
    "    result = num1 + num2\n",
    "    return result"
   ]
  },
  {
   "cell_type": "code",
   "execution_count": 4,
   "id": "623c467b-1046-4ab0-80de-4faf9ebabf1b",
   "metadata": {},
   "outputs": [],
   "source": [
    "value = calculate_sum(4,6)"
   ]
  },
  {
   "cell_type": "code",
   "execution_count": 5,
   "id": "fb8aafb4-5746-4171-b4f0-4a5bba448f58",
   "metadata": {},
   "outputs": [
    {
     "data": {
      "text/plain": [
       "10"
      ]
     },
     "execution_count": 5,
     "metadata": {},
     "output_type": "execute_result"
    }
   ],
   "source": [
    "value"
   ]
  },
  {
   "cell_type": "code",
   "execution_count": null,
   "id": "3b6a17e0-1423-42da-84c9-1ed0f0cf25d9",
   "metadata": {},
   "outputs": [],
   "source": []
  }
 ],
 "metadata": {
  "kernelspec": {
   "display_name": "Python 3 (ipykernel)",
   "language": "python",
   "name": "python3"
  },
  "language_info": {
   "codemirror_mode": {
    "name": "ipython",
    "version": 3
   },
   "file_extension": ".py",
   "mimetype": "text/x-python",
   "name": "python",
   "nbconvert_exporter": "python",
   "pygments_lexer": "ipython3",
   "version": "3.10.12"
  }
 },
 "nbformat": 4,
 "nbformat_minor": 5
}
