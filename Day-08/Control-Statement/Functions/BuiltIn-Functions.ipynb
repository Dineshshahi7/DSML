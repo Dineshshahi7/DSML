{
 "cells": [
  {
   "cell_type": "markdown",
   "id": "01ea412c-8e78-4164-8a75-5682862a9a43",
   "metadata": {},
   "source": [
    "# Python Built-In Functions\n",
    "\n",
    "Python provides a large number of built-in functions that can be used to perform common tasks in your code. If you want to go through all the built-in functions available wiht python [visit this page](https://docs.python.org/3/library/functions.html). Here are some of the most commonly used built-in functions in Python.\n"
   ]
  },
  {
   "cell_type": "markdown",
   "id": "3713efa7-68b7-4280-b75b-89eeb5450d6b",
   "metadata": {},
   "source": [
    "## print()\n",
    "\n",
    "In Python, the `print()` function is used to output text or values to the console. It can be used to display text messages, variable values, or the results of calculations, among other things. In addition to this `print()` function can be customized with various arguments like:\n",
    "\n",
    "- `sep:` Used to specify the separator between multiple items being printed. The default separator is a space character. For example, print(\"x\", \"y\", sep=\"-\") would output x-y.\n",
    "- `end:` Used to specify the string that should be printed at the end of the line. The default is a newline character (\"\\n\"). For example, print(\"x\", end=\".\") would output x. without moving to the next line.\n",
    "- `file:` Used to specify the file object where the output should be directed. By default, the output is sent to the console. For example, print(\"x\", file=my_file) would write the output to the my_file file object.\n",
    "\n",
    "Here are some examples of how to use the `print()` function in Python:"
   ]
  },
  {
   "cell_type": "code",
   "execution_count": 6,
   "id": "f905a009-6fe2-46cb-ad55-4d139b2a34c3",
   "metadata": {},
   "outputs": [
    {
     "name": "stdout",
     "output_type": "stream",
     "text": [
      "4_5\n"
     ]
    }
   ],
   "source": [
    "print(4,5, sep = \"_\")"
   ]
  },
  {
   "cell_type": "code",
   "execution_count": 8,
   "id": "65fc87c7-598d-462f-9861-75cb837c7fb3",
   "metadata": {},
   "outputs": [
    {
     "name": "stdout",
     "output_type": "stream",
     "text": [
      "Hello-world."
     ]
    }
   ],
   "source": [
    "print(\"Hello\",\"world\", sep=\"-\", end = \".\")"
   ]
  },
  {
   "cell_type": "code",
   "execution_count": 11,
   "id": "ae1c469c-fc23-49ef-a4e6-c933b437f546",
   "metadata": {},
   "outputs": [
    {
     "name": "stdout",
     "output_type": "stream",
     "text": [
      "Hello_world\n",
      "Welcome."
     ]
    }
   ],
   "source": [
    "print(\"Hello\",\"world\", sep=\"_\", end=\"\\n\") # Defining End of line\n",
    "print(\"Welcome\", end=\".\") # Defining End of line"
   ]
  },
  {
   "cell_type": "code",
   "execution_count": null,
   "id": "f019ec8d-9b7a-49bb-896b-546680f64a3f",
   "metadata": {},
   "outputs": [],
   "source": []
  },
  {
   "cell_type": "markdown",
   "id": "c9e5ead8-5649-4bcb-ba25-ccef88dd867a",
   "metadata": {},
   "source": [
    "## input()\n",
    "\n",
    "In Python, the input() function is used to accept input from the user. It prompts the user to enter a value, and then returns the entered value as a string.\n",
    "\n",
    "Note that the `input()` function always returns a string, so you may need to convert the entered value to another data type if you need to use it as a number or other data type. For example, if you want to accept a number as input, you can convert the entered value to an integer using the `int()` function:"
   ]
  },
  {
   "cell_type": "code",
   "execution_count": 12,
   "id": "28ea12ca-8457-442e-829a-da4e65c306ed",
   "metadata": {},
   "outputs": [
    {
     "name": "stdin",
     "output_type": "stream",
     "text": [
      "What is your name? Shailesh\n"
     ]
    }
   ],
   "source": [
    "name = input(\"What is your name?\")\n"
   ]
  },
  {
   "cell_type": "code",
   "execution_count": 13,
   "id": "4fc56482-d343-4175-802f-13673e6bebd2",
   "metadata": {},
   "outputs": [
    {
     "data": {
      "text/plain": [
       "'Shailesh'"
      ]
     },
     "execution_count": 13,
     "metadata": {},
     "output_type": "execute_result"
    }
   ],
   "source": [
    "name"
   ]
  },
  {
   "cell_type": "code",
   "execution_count": 14,
   "id": "9e44893a-ec71-4c36-b3ca-4b6d68d0b060",
   "metadata": {},
   "outputs": [
    {
     "name": "stdin",
     "output_type": "stream",
     "text": [
      "Age 22\n"
     ]
    }
   ],
   "source": [
    "age = int(input(\"Age\"))\n"
   ]
  },
  {
   "cell_type": "code",
   "execution_count": 15,
   "id": "9937e953-d900-490a-97e0-706c9ed0cde6",
   "metadata": {},
   "outputs": [
    {
     "data": {
      "text/plain": [
       "22"
      ]
     },
     "execution_count": 15,
     "metadata": {},
     "output_type": "execute_result"
    }
   ],
   "source": [
    "age"
   ]
  },
  {
   "cell_type": "markdown",
   "id": "747f12ca-8d48-440d-b8c9-8e619201e91c",
   "metadata": {},
   "source": [
    "## type()\n",
    "\n",
    "In Python, the `type()` function is used to find the data type of a variable or expression. It returns the type of the object as a string.\n",
    "\n",
    "Here are some examples of how to use the `type()` function in Python:"
   ]
  },
  {
   "cell_type": "code",
   "execution_count": 16,
   "id": "c42cdbcb-4be2-404d-b2ed-b7fd4d0139b4",
   "metadata": {},
   "outputs": [
    {
     "data": {
      "text/plain": [
       "int"
      ]
     },
     "execution_count": 16,
     "metadata": {},
     "output_type": "execute_result"
    }
   ],
   "source": [
    "type(1)"
   ]
  },
  {
   "cell_type": "code",
   "execution_count": 19,
   "id": "c5f99d1e-a50b-43eb-a65d-e7eb4abe3642",
   "metadata": {},
   "outputs": [
    {
     "data": {
      "text/plain": [
       "dict"
      ]
     },
     "execution_count": 19,
     "metadata": {},
     "output_type": "execute_result"
    }
   ],
   "source": [
    "type({})"
   ]
  },
  {
   "cell_type": "code",
   "execution_count": 20,
   "id": "e03c7675-68b4-4dd2-8c6b-e5e04913c7cc",
   "metadata": {},
   "outputs": [
    {
     "data": {
      "text/plain": [
       "bool"
      ]
     },
     "execution_count": 20,
     "metadata": {},
     "output_type": "execute_result"
    }
   ],
   "source": [
    "type(4 == 2)"
   ]
  },
  {
   "cell_type": "code",
   "execution_count": 23,
   "id": "90fb8726-247c-43c7-a87f-ea6e1314b2ee",
   "metadata": {},
   "outputs": [
    {
     "data": {
      "text/plain": [
       "builtin_function_or_method"
      ]
     },
     "execution_count": 23,
     "metadata": {},
     "output_type": "execute_result"
    }
   ],
   "source": [
    "type(sum)"
   ]
  },
  {
   "cell_type": "code",
   "execution_count": null,
   "id": "a577a73d-9466-41d8-8e93-564f06d2c17a",
   "metadata": {},
   "outputs": [],
   "source": []
  },
  {
   "cell_type": "markdown",
   "id": "6ca3e96d-b0fb-4925-aa34-46dee1dc6fdc",
   "metadata": {},
   "source": [
    "## len()\n",
    "\n",
    "In Python, the `len()` function is used to get the length of a sequence or collection, such as a `str, list, tuple, or dict`. It returns the number of elements or characters in the sequence.\n",
    "\n",
    "Note that the `len()` function only works with sequences and collections that have a defined length. It cannot be used with other types of data, such as numbers or booleans."
   ]
  },
  {
   "cell_type": "code",
   "execution_count": 24,
   "id": "ad001cf0-25cc-4ebd-b18f-6e6b4e03b8a8",
   "metadata": {},
   "outputs": [
    {
     "data": {
      "text/plain": [
       "5"
      ]
     },
     "execution_count": 24,
     "metadata": {},
     "output_type": "execute_result"
    }
   ],
   "source": [
    "len(\"apple\")"
   ]
  },
  {
   "cell_type": "code",
   "execution_count": 25,
   "id": "372c2789-436e-4fca-85d1-45bba9a19efe",
   "metadata": {},
   "outputs": [
    {
     "data": {
      "text/plain": [
       "4"
      ]
     },
     "execution_count": 25,
     "metadata": {},
     "output_type": "execute_result"
    }
   ],
   "source": [
    "len([\"hari\",\"saimon\",\"ad\",\"jhon\"])"
   ]
  },
  {
   "cell_type": "code",
   "execution_count": 26,
   "id": "a3790f70-a8a2-4cc3-94af-38307726baae",
   "metadata": {},
   "outputs": [
    {
     "data": {
      "text/plain": [
       "2"
      ]
     },
     "execution_count": 26,
     "metadata": {},
     "output_type": "execute_result"
    }
   ],
   "source": [
    "len({1:\"apple\",2:\"ball\"})"
   ]
  },
  {
   "cell_type": "code",
   "execution_count": null,
   "id": "89e5f170-846f-4850-b1d1-6bbcae1337fc",
   "metadata": {},
   "outputs": [],
   "source": []
  },
  {
   "cell_type": "code",
   "execution_count": null,
   "id": "76b8c483-484b-4465-bf57-7444186e595d",
   "metadata": {},
   "outputs": [],
   "source": []
  }
 ],
 "metadata": {
  "kernelspec": {
   "display_name": "Python 3 (ipykernel)",
   "language": "python",
   "name": "python3"
  },
  "language_info": {
   "codemirror_mode": {
    "name": "ipython",
    "version": 3
   },
   "file_extension": ".py",
   "mimetype": "text/x-python",
   "name": "python",
   "nbconvert_exporter": "python",
   "pygments_lexer": "ipython3",
   "version": "3.10.12"
  }
 },
 "nbformat": 4,
 "nbformat_minor": 5
}
