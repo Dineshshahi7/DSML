{
 "cells": [
  {
   "cell_type": "markdown",
   "id": "e9891eae-e493-4b8d-80e6-aec0fccb960f",
   "metadata": {},
   "source": [
    "# Python Comprehensions\n",
    "\n",
    "In Python, comprehensions provide a concise way to create sequences like lists, dictionaries, and sets. They are a more readable and often more efficient alternative to using traditional loops to generate sequences.\n",
    "\n",
    "There are three types of comprehensions in Python: list comprehensions, dictionary comprehensions, and set comprehensions.\n",
    "\n"
   ]
  },
  {
   "cell_type": "markdown",
   "id": "845f50e7-8673-4a57-a5a3-31c7ab4950de",
   "metadata": {},
   "source": [
    "## 1. List Comprehensions\n",
    "\n",
    "In Python, list comprehension is a concise way to create lists. It provides a compact syntax for mapping a given iterable (e.g. list, tuple) to a new list by applying a specific expression to each element in the original iterable.\n",
    "\n",
    "Syntax: \n",
    "```python\n",
    "output = [ <expression> for items in iterables if <condition>]\n",
    "```\n",
    "\n",
    "In this syntax, `expression` is the operation to be performed on each item in the iterable, `item` is the variable that represents each element in the iterable, and `condition` is an optional filter that can be applied to select only certain elements from the iterable.\n"
   ]
  },
  {
   "cell_type": "code",
   "execution_count": 3,
   "id": "e6397ca3-3c2e-44a5-8d63-6993d8cb3562",
   "metadata": {},
   "outputs": [
    {
     "name": "stdout",
     "output_type": "stream",
     "text": [
      "[1, 4, 9, 16, 25, 36, 49, 64, 81]\n"
     ]
    }
   ],
   "source": [
    "# Usual Way\n",
    "squared =  []\n",
    "for num in range(1,10):\n",
    "    squared.append(num ** 2)\n",
    "\n",
    "print(squared)"
   ]
  },
  {
   "cell_type": "code",
   "execution_count": 4,
   "id": "8040a55e-196a-445b-8878-d97d773bbcec",
   "metadata": {},
   "outputs": [
    {
     "name": "stdout",
     "output_type": "stream",
     "text": [
      "[1, 4, 9, 16, 25, 36, 49, 64, 81]\n"
     ]
    }
   ],
   "source": [
    "# list comprehensions\n",
    "squared = [num ** 2 for num in range(1,10)]\n",
    "print(squared)"
   ]
  },
  {
   "cell_type": "markdown",
   "id": "7a5b3327-03bd-410c-ad3b-6c57b69fbfb3",
   "metadata": {},
   "source": [
    "In this example, the expression `num ** 2` is applied to each element in the `numbers` list, and the results are stored in a new list called `c_squared`.\n",
    "\n",
    "You can also add an optional condition to the list comprehension. For example, here is a list comprehension that filters out even numbers from the original list:"
   ]
  },
  {
   "cell_type": "code",
   "execution_count": 5,
   "id": "351ef0eb-d88c-4cda-9009-058b588e568c",
   "metadata": {},
   "outputs": [
    {
     "name": "stdout",
     "output_type": "stream",
     "text": [
      "[2, 4, 6, 8]\n"
     ]
    }
   ],
   "source": [
    "# list comprehensions\n",
    "even = [num for num in range(1,10) if num % 2 == 0]\n",
    "print(even)"
   ]
  },
  {
   "cell_type": "code",
   "execution_count": null,
   "id": "68e99cd7-541e-4982-aed1-8dd77d814399",
   "metadata": {},
   "outputs": [],
   "source": []
  },
  {
   "cell_type": "code",
   "execution_count": 6,
   "id": "22c11b42-8799-4533-8dae-a0c49d910498",
   "metadata": {},
   "outputs": [
    {
     "name": "stdout",
     "output_type": "stream",
     "text": [
      "[1, 4, 3, 16, 5, 36, 7, 64, 9]\n"
     ]
    }
   ],
   "source": [
    "res = [num ** 2 if num%2 ==0 else num for num in range(1,10)]\n",
    "print(res)"
   ]
  },
  {
   "cell_type": "code",
   "execution_count": null,
   "id": "ff16e63c-0692-4a1b-b298-3f5827035d1e",
   "metadata": {},
   "outputs": [],
   "source": []
  },
  {
   "cell_type": "markdown",
   "id": "b5ad6b27-ea10-43b5-a9b1-b07379fb85f9",
   "metadata": {},
   "source": [
    "List comprehensions can also be nested, allowing you to create more complex sequences. Here is an example that creates a list of tuples:"
   ]
  },
  {
   "cell_type": "code",
   "execution_count": 8,
   "id": "2181dba0-f45a-40f2-8785-d034a354b90a",
   "metadata": {},
   "outputs": [
    {
     "name": "stdout",
     "output_type": "stream",
     "text": [
      "[('red', 'apple'), ('red', 'banana'), ('red', 'mango'), ('big', 'apple'), ('big', 'banana'), ('big', 'mango'), ('tasty', 'apple'), ('tasty', 'banana'), ('tasty', 'mango')]\n"
     ]
    }
   ],
   "source": [
    "adjective = ['red','big','tasty']\n",
    "fruits = ['apple','banana','mango']\n",
    "\n",
    "# for a in adjective:\n",
    "#     for f in fruits:\n",
    "#         print(a,f)\n",
    "\n",
    "pair = [(a,f) for a in adjective for f in fruits]\n",
    "print(pair)"
   ]
  },
  {
   "cell_type": "code",
   "execution_count": null,
   "id": "765bbe75-c0e5-442d-8cca-24e46ae6d990",
   "metadata": {},
   "outputs": [],
   "source": []
  },
  {
   "cell_type": "markdown",
   "id": "c0356f13-4e39-41d0-b596-d89eaf919fad",
   "metadata": {},
   "source": [
    "### Count number of letters for each words in following sentence."
   ]
  },
  {
   "cell_type": "code",
   "execution_count": 9,
   "id": "ed34417a-b7c8-41c4-aa4b-b1e9b81bd371",
   "metadata": {},
   "outputs": [
    {
     "name": "stdout",
     "output_type": "stream",
     "text": [
      "A single training set that has already been processed is usually split into several types of datasets in machine learning which is needed to check how well the training of the model went\n"
     ]
    }
   ],
   "source": [
    "sent = \"A single training set that has already been processed is usually split into several types of datasets in machine learning which is needed to check how well the training of the model went\"\n",
    "print(sent)"
   ]
  },
  {
   "cell_type": "code",
   "execution_count": 16,
   "id": "3ff0006c-7b70-4c77-b9c2-5210cfab63f8",
   "metadata": {},
   "outputs": [
    {
     "name": "stdout",
     "output_type": "stream",
     "text": [
      "[1, 6, 8, 3, 4, 3, 7, 4, 9, 2, 7, 5, 4, 7, 5, 2, 8, 2, 7, 8, 5, 2, 6, 2, 5, 3, 4, 3, 8, 2, 3, 5, 4]\n"
     ]
    }
   ],
   "source": [
    "coount = [len(word) for word in sent.split()]\n",
    "print(coount)"
   ]
  },
  {
   "cell_type": "code",
   "execution_count": null,
   "id": "e33eeed6-c9d2-45e5-bb1b-34210d2d91ee",
   "metadata": {},
   "outputs": [],
   "source": []
  },
  {
   "cell_type": "markdown",
   "id": "ffa35c24-823d-48c6-a86e-9df1eacfe8d1",
   "metadata": {},
   "source": [
    "## 2. Dictionary Comprehension\n",
    "\n",
    "In Python, dictionary comprehension is a concise way to create a new dictionary by transforming an existing iterable (such as a list or tuple) into key-value pairs. It provides a compact syntax for mapping a given iterable to a new dictionary by applying a specific expression to each element in the iterable.\n",
    "\n",
    "The basic syntax of a dictionary comprehension is as follows:\n",
    "\n",
    "```python\n",
    "new_dict = {key_expression: value_expression for item in iterable if condition}\n",
    "```\n",
    "\n",
    "In this syntax, `key_expression` is the expression that generates the key for the dictionary, `value_expression` is the expression that generates the value for the dictionary, `item` is the variable that represents each element in the iterable, and `condition` is an optional filter that can be applied to select only certain elements from the iterable."
   ]
  },
  {
   "cell_type": "code",
   "execution_count": 3,
   "id": "b08227a7-94c8-4f72-bd52-fa3cf8e075a0",
   "metadata": {},
   "outputs": [
    {
     "name": "stdout",
     "output_type": "stream",
     "text": [
      "{1: 1, 2: 4, 3: 9, 4: 16}\n"
     ]
    }
   ],
   "source": [
    "# Usual Way\n",
    "sqr_dict = {}\n",
    "\n",
    "for num in range(1,5):\n",
    "    sqr_dict[num] = num**2\n",
    "\n",
    "print(sqr_dict)"
   ]
  },
  {
   "cell_type": "code",
   "execution_count": 4,
   "id": "be988e07-fe0e-4e21-9974-04173eae6db0",
   "metadata": {},
   "outputs": [
    {
     "name": "stdout",
     "output_type": "stream",
     "text": [
      "{1: 1, 2: 4, 3: 9, 4: 16}\n"
     ]
    }
   ],
   "source": [
    "# Dict Comprehension\n",
    "sqr_dict = {num:num**2 for num in range(1,5)}\n",
    "print(sqr_dict)"
   ]
  },
  {
   "cell_type": "code",
   "execution_count": 5,
   "id": "2176f197-374c-4116-a93f-c90e0f6bcc02",
   "metadata": {},
   "outputs": [
    {
     "name": "stdout",
     "output_type": "stream",
     "text": [
      "{2: 4, 4: 16, 6: 36, 8: 64}\n"
     ]
    }
   ],
   "source": [
    "# Dict Comprehension\n",
    "sqr_dict = {num:num**2 for num in range(1,10) if num % 2 == 0}\n",
    "print(sqr_dict)"
   ]
  },
  {
   "cell_type": "markdown",
   "id": "f65f1597-9376-4947-8177-8838679892b6",
   "metadata": {},
   "source": [
    "### Count length of words \n",
    "Input:\n",
    "```\n",
    "    sent = \"A single training set that has already been processed is usually split into several types of datasets in machine learning which is needed to check how well the training of the model went\"\n",
    "```\n",
    "\n",
    "Sample OP:\n",
    "```{'single': 6, 'training': 8, 'already': 7, 'processed': 9, 'usually': 7, 'several': 7, 'datasets': 8}```\n"
   ]
  },
  {
   "cell_type": "code",
   "execution_count": 1,
   "id": "aebc89a1-a857-4a9a-aa67-ec906b5252aa",
   "metadata": {},
   "outputs": [],
   "source": [
    "sent = \"A single training set that has already been processed is usually split into several types of datasets in machine learning which is needed to check how well the training of the model went\"\n",
    "\n",
    "count_words = {word : len(word) for word in sent.split() if len(word) > 5 }"
   ]
  },
  {
   "cell_type": "code",
   "execution_count": 2,
   "id": "a1f78f70-7dd5-46f1-b68b-3bf41d3f27f4",
   "metadata": {},
   "outputs": [
    {
     "data": {
      "text/plain": [
       "{'single': 6,\n",
       " 'training': 8,\n",
       " 'already': 7,\n",
       " 'processed': 9,\n",
       " 'usually': 7,\n",
       " 'several': 7,\n",
       " 'datasets': 8,\n",
       " 'machine': 7,\n",
       " 'learning': 8,\n",
       " 'needed': 6}"
      ]
     },
     "execution_count": 2,
     "metadata": {},
     "output_type": "execute_result"
    }
   ],
   "source": [
    "count_words"
   ]
  },
  {
   "cell_type": "code",
   "execution_count": null,
   "id": "d4176ec5-d4f9-468a-9355-4fdc2fe7e419",
   "metadata": {},
   "outputs": [],
   "source": []
  },
  {
   "cell_type": "markdown",
   "id": "ffcdd2e0-c0ca-4731-8a19-d9c37192bf96",
   "metadata": {},
   "source": [
    "## 3. Set Comprehension\n",
    "\n",
    "Set comprehension is a concise way to create a new set by transforming an existing iterable (such as a list or tuple). It provides a compact syntax for mapping a given iterable to a new set by applying a specific expression to each element in the iterable.\n",
    "\n",
    "The basic syntax of a set comprehension is as follows:\n",
    "\n",
    "```python\n",
    "new_set = {expression for item in iterable if condition}\n",
    "```"
   ]
  },
  {
   "cell_type": "code",
   "execution_count": 3,
   "id": "d86a2c40-2363-4e04-b7da-604281d67326",
   "metadata": {},
   "outputs": [],
   "source": [
    "sq_odd = { num**2 for num in range(1,20) if num % 2 != 0}"
   ]
  },
  {
   "cell_type": "code",
   "execution_count": 4,
   "id": "876c99dc-f1b2-48de-acbe-994ed3a01566",
   "metadata": {},
   "outputs": [
    {
     "data": {
      "text/plain": [
       "{1, 9, 25, 49, 81, 121, 169, 225, 289, 361}"
      ]
     },
     "execution_count": 4,
     "metadata": {},
     "output_type": "execute_result"
    }
   ],
   "source": [
    "sq_odd"
   ]
  },
  {
   "cell_type": "code",
   "execution_count": null,
   "id": "50ec22be-50f9-4e83-877b-8876a3106014",
   "metadata": {},
   "outputs": [],
   "source": []
  },
  {
   "cell_type": "code",
   "execution_count": 8,
   "id": "956ff0db-c87b-40c2-a4fd-b2401bc660dc",
   "metadata": {},
   "outputs": [
    {
     "data": {
      "text/plain": [
       "{'aa', 'ab', 'ac', 'ba', 'bb', 'bc', 'ca', 'cb', 'cc'}"
      ]
     },
     "execution_count": 8,
     "metadata": {},
     "output_type": "execute_result"
    }
   ],
   "source": [
    "letters = ['c','b','a']\n",
    "pairs = {let1 + let2 for let1 in letters for let2 in letters}\n",
    "pairs"
   ]
  },
  {
   "cell_type": "code",
   "execution_count": null,
   "id": "fd803e86-57e4-4dca-95e4-ec9bb50d6586",
   "metadata": {},
   "outputs": [],
   "source": []
  },
  {
   "cell_type": "markdown",
   "id": "52b29cc0-8fe3-4949-9ae6-9b24db3ac19d",
   "metadata": {},
   "source": [
    "### Unique Vowels in a String\n",
    "Write a Python program that uses set comprehension to create a set of all unique vowels found in the following string: \"Set comprehensions can be nested\""
   ]
  },
  {
   "cell_type": "code",
   "execution_count": 19,
   "id": "b739e076-8be3-430e-8abd-789e299b60c8",
   "metadata": {},
   "outputs": [],
   "source": [
    "sent  = \"Set comprehensions can be nested\"\n",
    "output = {char for char in sent if char in set(\"aeiou\")}"
   ]
  },
  {
   "cell_type": "code",
   "execution_count": 20,
   "id": "c1ef33b7-108a-45cd-b230-f87e22b53271",
   "metadata": {},
   "outputs": [
    {
     "data": {
      "text/plain": [
       "{'a', 'e', 'i', 'o'}"
      ]
     },
     "execution_count": 20,
     "metadata": {},
     "output_type": "execute_result"
    }
   ],
   "source": [
    "output"
   ]
  },
  {
   "cell_type": "code",
   "execution_count": null,
   "id": "3e34017c-8282-4fc8-8402-06c002dabdfe",
   "metadata": {},
   "outputs": [],
   "source": []
  },
  {
   "cell_type": "code",
   "execution_count": null,
   "id": "9f860d55-20d4-4c72-b610-88221de08269",
   "metadata": {},
   "outputs": [],
   "source": []
  },
  {
   "cell_type": "code",
   "execution_count": 29,
   "id": "fe9c9ddd-ca5a-487c-aeec-a7fe4bfa9ca5",
   "metadata": {},
   "outputs": [
    {
     "data": {
      "text/plain": [
       "'even'"
      ]
     },
     "execution_count": 29,
     "metadata": {},
     "output_type": "execute_result"
    }
   ],
   "source": [
    "num = 4\n",
    "[\"odd\",\"even\"][num%2==0]\n"
   ]
  },
  {
   "cell_type": "code",
   "execution_count": null,
   "id": "5f60ed98-15a5-48c5-a741-01522df02a7b",
   "metadata": {},
   "outputs": [],
   "source": []
  }
 ],
 "metadata": {
  "kernelspec": {
   "display_name": "Python 3 (ipykernel)",
   "language": "python",
   "name": "python3"
  },
  "language_info": {
   "codemirror_mode": {
    "name": "ipython",
    "version": 3
   },
   "file_extension": ".py",
   "mimetype": "text/x-python",
   "name": "python",
   "nbconvert_exporter": "python",
   "pygments_lexer": "ipython3",
   "version": "3.10.12"
  }
 },
 "nbformat": 4,
 "nbformat_minor": 5
}
