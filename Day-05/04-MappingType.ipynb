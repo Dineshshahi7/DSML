{
 "cells": [
  {
   "cell_type": "markdown",
   "id": "5c1a5d14-c72f-4b56-8813-2661be9790f8",
   "metadata": {},
   "source": [
    "# Mapping Type\n",
    "\n",
    "Mapping Types are popularly known as dictionaries in python represented by `dict` keyword. In Python, dict is a built-in type that represents a collection of key-value pairs. It is also known as a dictionary or associative array in other programming languages.\n",
    "\n",
    "A dictionary is an unordered collection of elements where each element is a pair consisting of a key and a value. The key is used to index and uniquely identify the value in the dictionary.\n",
    "\n",
    "Here are some key features of Python dictionaries:\n",
    "\n",
    "- Dictionaries are unordered, meaning that the order of elements is not guaranteed.\n",
    "- Keys must be unique and immutable, while values can be of any data type, including other dictionaries (nested dictionaries).\n",
    "- Dictionary elements are accessed using the keys, rather than the index as in a list or tuple.\n",
    "- Dictionaries are mutable, meaning that you can add, delete, or modify elements after the dictionary has been created.\n",
    "\n",
    "Docs: https://python-reference.readthedocs.io/en/latest/docs/dict/"
   ]
  },
  {
   "cell_type": "markdown",
   "id": "aec8beb7-5520-46b9-8607-c06e71208314",
   "metadata": {},
   "source": [
    "## Creating a Dictionary\n",
    "\n",
    "You can create a dictionary by enclosing key-value pairs in curly braces {} or by using the dict() constructor."
   ]
  },
  {
   "cell_type": "markdown",
   "id": "4e288032-5030-4c5a-b31c-081a8880f9f4",
   "metadata": {},
   "source": [
    "```python\n",
    "dict = {\n",
    "    key : value,\n",
    "    key2 : value2\n",
    "}\n",
    "```"
   ]
  },
  {
   "cell_type": "code",
   "execution_count": 37,
   "id": "082240aa-765f-4b11-b7dd-747456304458",
   "metadata": {},
   "outputs": [],
   "source": [
    "person = {\n",
    "    \"name\" : \"Jhon Doe\",\n",
    "    \"age\" : 30,\n",
    "    \"gender\" : \"Male\",\n",
    "    \"subjects\" : [\"Maths\", \"Science\"]\n",
    "}"
   ]
  },
  {
   "cell_type": "code",
   "execution_count": 2,
   "id": "67970dca-96e0-406b-9c32-8ae7e19b0587",
   "metadata": {},
   "outputs": [
    {
     "data": {
      "text/plain": [
       "dict"
      ]
     },
     "execution_count": 2,
     "metadata": {},
     "output_type": "execute_result"
    }
   ],
   "source": [
    "type(person)"
   ]
  },
  {
   "cell_type": "code",
   "execution_count": 6,
   "id": "41dbe05f-ce34-4913-84aa-b08bac15da94",
   "metadata": {},
   "outputs": [],
   "source": [
    "# person = dict(name = \"Jhon\", city = \"NYC\")\n",
    "# print(person)"
   ]
  },
  {
   "cell_type": "code",
   "execution_count": null,
   "id": "9c867c24-242f-4dff-a332-f869fc384ea7",
   "metadata": {},
   "outputs": [],
   "source": []
  },
  {
   "cell_type": "markdown",
   "id": "838464b1-cff4-4aa5-bf11-5b6af6199a4f",
   "metadata": {},
   "source": [
    "## Accessing Elements\n",
    "\n",
    "You can access the value of a dictionary element by specifying the key inside square brackets []. If you try to access a key that doesn't exist, Python will raise a `KeyError` exception. You can avoid this by using the `get()` method, which returns None (or a default value you provide) instead of raising an exception."
   ]
  },
  {
   "cell_type": "code",
   "execution_count": 7,
   "id": "6c1a36a8-21d3-4e9a-9498-e9a3162648f6",
   "metadata": {},
   "outputs": [
    {
     "data": {
      "text/plain": [
       "30"
      ]
     },
     "execution_count": 7,
     "metadata": {},
     "output_type": "execute_result"
    }
   ],
   "source": [
    "person[\"age\"]"
   ]
  },
  {
   "cell_type": "code",
   "execution_count": 8,
   "id": "a0c48957-6af5-47a9-ab50-0dbcf6fe1c29",
   "metadata": {},
   "outputs": [
    {
     "ename": "KeyError",
     "evalue": "'DOB'",
     "output_type": "error",
     "traceback": [
      "\u001b[0;31m---------------------------------------------------------------------------\u001b[0m",
      "\u001b[0;31mKeyError\u001b[0m                                  Traceback (most recent call last)",
      "Cell \u001b[0;32mIn[8], line 1\u001b[0m\n\u001b[0;32m----> 1\u001b[0m \u001b[43mperson\u001b[49m\u001b[43m[\u001b[49m\u001b[38;5;124;43m\"\u001b[39;49m\u001b[38;5;124;43mDOB\u001b[39;49m\u001b[38;5;124;43m\"\u001b[39;49m\u001b[43m]\u001b[49m\n",
      "\u001b[0;31mKeyError\u001b[0m: 'DOB'"
     ]
    }
   ],
   "source": [
    "person[\"DOB\"]"
   ]
  },
  {
   "cell_type": "code",
   "execution_count": 18,
   "id": "e499710b-3f04-4ab3-8af3-0f26593ffa5d",
   "metadata": {},
   "outputs": [
    {
     "data": {
      "text/plain": [
       "1990"
      ]
     },
     "execution_count": 18,
     "metadata": {},
     "output_type": "execute_result"
    }
   ],
   "source": [
    "person.get(\"DOB\",1990)"
   ]
  },
  {
   "cell_type": "code",
   "execution_count": 14,
   "id": "302b3173-44ce-4b59-99a5-4bd8e12bab30",
   "metadata": {},
   "outputs": [
    {
     "data": {
      "text/plain": [
       "['Maths', 'Science']"
      ]
     },
     "execution_count": 14,
     "metadata": {},
     "output_type": "execute_result"
    }
   ],
   "source": [
    "person.get(\"subjects\")"
   ]
  },
  {
   "cell_type": "code",
   "execution_count": null,
   "id": "af4b6e18-3427-4026-aaa9-747f14ef22e7",
   "metadata": {},
   "outputs": [],
   "source": []
  },
  {
   "cell_type": "markdown",
   "id": "3aab8a95-73d9-42b7-aa57-4ff7bf3e1d49",
   "metadata": {},
   "source": [
    "## Modifying Elements\n",
    "\n",
    "You can modify the value of a dictionary element by specifying the key and assigning a new value to it."
   ]
  },
  {
   "cell_type": "code",
   "execution_count": 19,
   "id": "5ea58f4a-66e3-42b1-afb7-74820563c1cc",
   "metadata": {},
   "outputs": [
    {
     "name": "stdout",
     "output_type": "stream",
     "text": [
      "{'name': 'Jhon Doe', 'age': 30, 'gender': 'Male', 'subjects': ['Maths', 'Science']}\n"
     ]
    }
   ],
   "source": [
    "print(person)"
   ]
  },
  {
   "cell_type": "code",
   "execution_count": 20,
   "id": "8914339e-07a1-4973-a78a-500a01598548",
   "metadata": {},
   "outputs": [],
   "source": [
    "person['age'] = 60"
   ]
  },
  {
   "cell_type": "code",
   "execution_count": 21,
   "id": "a231e431-0402-44c0-baab-22aa0072c3a7",
   "metadata": {},
   "outputs": [
    {
     "name": "stdout",
     "output_type": "stream",
     "text": [
      "{'name': 'Jhon Doe', 'age': 60, 'gender': 'Male', 'subjects': ['Maths', 'Science']}\n"
     ]
    }
   ],
   "source": [
    "print(person)"
   ]
  },
  {
   "cell_type": "code",
   "execution_count": 22,
   "id": "81e8ff4f-4b3d-40e9-8b25-b1684f588841",
   "metadata": {},
   "outputs": [],
   "source": [
    "person['city'] = \"baltimore\""
   ]
  },
  {
   "cell_type": "code",
   "execution_count": 23,
   "id": "a180ccfd-8bec-4bfc-aaae-b7903444b9cc",
   "metadata": {},
   "outputs": [
    {
     "name": "stdout",
     "output_type": "stream",
     "text": [
      "{'name': 'Jhon Doe', 'age': 60, 'gender': 'Male', 'subjects': ['Maths', 'Science'], 'city': 'baltimore'}\n"
     ]
    }
   ],
   "source": [
    "print(person)"
   ]
  },
  {
   "cell_type": "code",
   "execution_count": null,
   "id": "6b868243-0430-4537-b3f2-e80de99b1741",
   "metadata": {},
   "outputs": [],
   "source": []
  },
  {
   "cell_type": "code",
   "execution_count": 25,
   "id": "34b52391-984f-42e9-a6e8-b3fc05f7413a",
   "metadata": {},
   "outputs": [
    {
     "data": {
      "text/plain": [
       "'baltimore'"
      ]
     },
     "execution_count": 25,
     "metadata": {},
     "output_type": "execute_result"
    }
   ],
   "source": [
    "person.pop('city')"
   ]
  },
  {
   "cell_type": "code",
   "execution_count": 26,
   "id": "4851fe52-0c08-44dd-88e4-03a9e031695e",
   "metadata": {},
   "outputs": [
    {
     "data": {
      "text/plain": [
       "{'name': 'Jhon Doe',\n",
       " 'age': 60,\n",
       " 'gender': 'Male',\n",
       " 'subjects': ['Maths', 'Science']}"
      ]
     },
     "execution_count": 26,
     "metadata": {},
     "output_type": "execute_result"
    }
   ],
   "source": [
    "person"
   ]
  },
  {
   "cell_type": "code",
   "execution_count": 27,
   "id": "a038d46a-e9ff-46a7-af52-799905e515ae",
   "metadata": {},
   "outputs": [],
   "source": [
    "del person['age']"
   ]
  },
  {
   "cell_type": "code",
   "execution_count": 29,
   "id": "93879ac1-ee5d-4e35-b2ad-afbc87a1b860",
   "metadata": {},
   "outputs": [
    {
     "data": {
      "text/plain": [
       "{'name': 'Jhon Doe', 'gender': 'Male', 'subjects': ['Maths', 'Science']}"
      ]
     },
     "execution_count": 29,
     "metadata": {},
     "output_type": "execute_result"
    }
   ],
   "source": [
    "person"
   ]
  },
  {
   "cell_type": "code",
   "execution_count": null,
   "id": "b5dee481-6bea-4782-8b8e-e3a1d0b25565",
   "metadata": {},
   "outputs": [],
   "source": []
  },
  {
   "cell_type": "markdown",
   "id": "9c10bbef-59b7-4cdb-a546-55b99c9d174c",
   "metadata": {},
   "source": [
    "## Dictionary Methods\n",
    "\n",
    "Some commonly used methods in Python dictionaries are `keys()`, `values()`, `items()`, `copy()`, `clear()`."
   ]
  },
  {
   "cell_type": "code",
   "execution_count": 30,
   "id": "8107e981-7fc8-4ab6-bcb8-30c2bd9f6032",
   "metadata": {},
   "outputs": [
    {
     "name": "stdout",
     "output_type": "stream",
     "text": [
      "{'name': 'Jhon Doe', 'gender': 'Male', 'subjects': ['Maths', 'Science']}\n"
     ]
    }
   ],
   "source": [
    "print(person)"
   ]
  },
  {
   "cell_type": "code",
   "execution_count": 31,
   "id": "ace3299c-9530-4769-858b-9b71e4a56324",
   "metadata": {},
   "outputs": [
    {
     "data": {
      "text/plain": [
       "dict_keys(['name', 'gender', 'subjects'])"
      ]
     },
     "execution_count": 31,
     "metadata": {},
     "output_type": "execute_result"
    }
   ],
   "source": [
    "person.keys() # Returns a view object that contains keys of the dictionary"
   ]
  },
  {
   "cell_type": "code",
   "execution_count": 32,
   "id": "87bf6ff6-153b-4ecf-9be0-dc713b29c6e9",
   "metadata": {},
   "outputs": [
    {
     "data": {
      "text/plain": [
       "dict_values(['Jhon Doe', 'Male', ['Maths', 'Science']])"
      ]
     },
     "execution_count": 32,
     "metadata": {},
     "output_type": "execute_result"
    }
   ],
   "source": [
    "person.values() # Returns a view object that contains values of the dictionary"
   ]
  },
  {
   "cell_type": "code",
   "execution_count": 33,
   "id": "5806be4d-e6cb-413a-b3ed-97574c6a789f",
   "metadata": {},
   "outputs": [
    {
     "name": "stdout",
     "output_type": "stream",
     "text": [
      "dict_items([('name', 'Jhon Doe'), ('gender', 'Male'), ('subjects', ['Maths', 'Science'])])\n"
     ]
    }
   ],
   "source": [
    "print(person.items()) # Returns a view object that contains key-value pairs of the dictionary as tuples"
   ]
  },
  {
   "cell_type": "code",
   "execution_count": null,
   "id": "41a82d19-944f-4159-ab0d-1eb8db9475d9",
   "metadata": {},
   "outputs": [],
   "source": []
  },
  {
   "cell_type": "code",
   "execution_count": 38,
   "id": "2b11056e-37dc-4072-912a-405fba2fdce8",
   "metadata": {},
   "outputs": [
    {
     "data": {
      "text/plain": [
       "{'name': 'Jhon Doe',\n",
       " 'age': 30,\n",
       " 'gender': 'Male',\n",
       " 'subjects': ['Maths', 'Science']}"
      ]
     },
     "execution_count": 38,
     "metadata": {},
     "output_type": "execute_result"
    }
   ],
   "source": [
    "person2 = person.copy()\n",
    "person2['gender'] = \"Others\"\n",
    "person"
   ]
  },
  {
   "cell_type": "code",
   "execution_count": null,
   "id": "0d9413f9-6f6f-4106-851d-3eda64a6e8fd",
   "metadata": {},
   "outputs": [],
   "source": []
  },
  {
   "cell_type": "code",
   "execution_count": null,
   "id": "e9c2d20b-e580-4afa-8665-db0c0a9d655e",
   "metadata": {},
   "outputs": [],
   "source": []
  },
  {
   "cell_type": "markdown",
   "id": "49ab6502-610f-43ee-88a5-6abb5c6c549a",
   "metadata": {},
   "source": [
    "## Merge Dicts"
   ]
  },
  {
   "cell_type": "code",
   "execution_count": 39,
   "id": "48348d04-85c1-4e1e-934e-7ea87982ec18",
   "metadata": {},
   "outputs": [],
   "source": [
    "dict1 = {\"name\":\"sam\", \"age\": 65}\n",
    "dict2 = {\"regno\": 456, \"subjects\" : [\"maths\"]}"
   ]
  },
  {
   "cell_type": "code",
   "execution_count": 41,
   "id": "f2d7d96e-b566-4627-a3c7-5fe8d265fea3",
   "metadata": {},
   "outputs": [
    {
     "data": {
      "text/plain": [
       "{'name': 'sam', 'age': 65, 'regno': 456, 'subjects': ['maths']}"
      ]
     },
     "execution_count": 41,
     "metadata": {},
     "output_type": "execute_result"
    }
   ],
   "source": [
    "dict1 | dict2"
   ]
  },
  {
   "cell_type": "code",
   "execution_count": null,
   "id": "a2cfd1fc-2c29-49c1-ba7c-7c82dc20f370",
   "metadata": {},
   "outputs": [],
   "source": []
  },
  {
   "cell_type": "markdown",
   "id": "60336a50-bb6d-43f0-a6ba-db9fae9541ca",
   "metadata": {},
   "source": [
    "## sorted() method\n",
    "We can also sort the dictionary elements both by dictionary keys and values using `sorted()` method. Let's see how we can do it for real:"
   ]
  },
  {
   "cell_type": "code",
   "execution_count": 55,
   "id": "d7c11288-ab9f-4f0e-80f7-7cf5619333ba",
   "metadata": {},
   "outputs": [],
   "source": [
    "person = {\"name\": \"John\", \"age\": \"30\", \"city\": \"New York\", \"gender\": \"Male\"}"
   ]
  },
  {
   "cell_type": "code",
   "execution_count": 56,
   "id": "13c68d32-8aa1-4ef0-aed4-4e77d7e2b9d9",
   "metadata": {},
   "outputs": [
    {
     "data": {
      "text/plain": [
       "dict_items([('name', 'John'), ('age', '30'), ('city', 'New York'), ('gender', 'Male')])"
      ]
     },
     "execution_count": 56,
     "metadata": {},
     "output_type": "execute_result"
    }
   ],
   "source": [
    "person.items()"
   ]
  },
  {
   "cell_type": "code",
   "execution_count": 59,
   "id": "44972016-dcc4-4094-9f86-3a3012aadff5",
   "metadata": {},
   "outputs": [
    {
     "data": {
      "text/plain": [
       "{'age': '30', 'name': 'John', 'gender': 'Male', 'city': 'New York'}"
      ]
     },
     "execution_count": 59,
     "metadata": {},
     "output_type": "execute_result"
    }
   ],
   "source": [
    "dict(\n",
    "    sorted(\n",
    "        person.items(), \n",
    "        key = lambda item: item[1]\n",
    "    )\n",
    ")"
   ]
  },
  {
   "cell_type": "code",
   "execution_count": 62,
   "id": "aa695079-668b-4129-bc7a-f8503fe8740e",
   "metadata": {},
   "outputs": [
    {
     "data": {
      "text/plain": [
       "{'age': '30', 'city': 'New York', 'gender': 'Male', 'name': 'John'}"
      ]
     },
     "execution_count": 62,
     "metadata": {},
     "output_type": "execute_result"
    }
   ],
   "source": [
    "\n",
    "dict(set(person.items()))"
   ]
  },
  {
   "cell_type": "code",
   "execution_count": null,
   "id": "2f45f02f-ad21-4f4e-80e2-b4e66614249c",
   "metadata": {},
   "outputs": [],
   "source": []
  }
 ],
 "metadata": {
  "kernelspec": {
   "display_name": "Python 3 (ipykernel)",
   "language": "python",
   "name": "python3"
  },
  "language_info": {
   "codemirror_mode": {
    "name": "ipython",
    "version": 3
   },
   "file_extension": ".py",
   "mimetype": "text/x-python",
   "name": "python",
   "nbconvert_exporter": "python",
   "pygments_lexer": "ipython3",
   "version": "3.10.12"
  }
 },
 "nbformat": 4,
 "nbformat_minor": 5
}
