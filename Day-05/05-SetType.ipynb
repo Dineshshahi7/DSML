{
 "cells": [
  {
   "cell_type": "markdown",
   "id": "5c0b6177-a5f3-4391-9f3e-24b011c7449b",
   "metadata": {},
   "source": [
    "# Python Set Type\n",
    "\n",
    "A set is an unordered collection of unique elements in Python. Sets are mutable, meaning their contents can be changed after they are created. Sets are created using curly braces `{}` or the `set()` constructor.\n"
   ]
  },
  {
   "cell_type": "markdown",
   "id": "d810e654-e00e-4e2b-bd93-1238b7b970fb",
   "metadata": {},
   "source": [
    "## Creating a Set\n",
    "\n",
    "To create a set, you can use curly braces `{}` with comma-separated values inside or the `set()` constructor with a list as an argument. Here are some examples:"
   ]
  },
  {
   "cell_type": "code",
   "execution_count": 1,
   "id": "a4cf19de-07dd-4d97-a6b4-826290ddd742",
   "metadata": {},
   "outputs": [],
   "source": [
    "setA = {4,5,6,3,1,1,2,1}"
   ]
  },
  {
   "cell_type": "code",
   "execution_count": 2,
   "id": "2c3be104-f1ff-4789-8c6b-6fae75d58581",
   "metadata": {},
   "outputs": [
    {
     "data": {
      "text/plain": [
       "set"
      ]
     },
     "execution_count": 2,
     "metadata": {},
     "output_type": "execute_result"
    }
   ],
   "source": [
    "type(setA)"
   ]
  },
  {
   "cell_type": "code",
   "execution_count": 3,
   "id": "835cb0a0-b110-47d8-96ba-1fb9f36a2a9d",
   "metadata": {},
   "outputs": [
    {
     "name": "stdout",
     "output_type": "stream",
     "text": [
      "{1, 2, 3, 4, 5, 6}\n"
     ]
    }
   ],
   "source": [
    "print(setA)"
   ]
  },
  {
   "cell_type": "code",
   "execution_count": 5,
   "id": "57198517-b504-40a3-8c03-158296bf3043",
   "metadata": {},
   "outputs": [
    {
     "data": {
      "text/plain": [
       "{'i', 'm', 'p', 's'}"
      ]
     },
     "execution_count": 5,
     "metadata": {},
     "output_type": "execute_result"
    }
   ],
   "source": [
    "set(\"mississippi\")"
   ]
  },
  {
   "cell_type": "markdown",
   "id": "3f4e4a86-adf6-4cb7-81f0-6ebf451d233a",
   "metadata": {},
   "source": [
    "## Set Operations\n",
    "\n",
    "Docs : https://www.w3schools.com/python/python_ref_set.asp\n",
    "\n",
    "Sets in Python support a variety of operations, including union, intersection, difference, and symmetric difference. Here are some examples:"
   ]
  },
  {
   "cell_type": "code",
   "execution_count": 15,
   "id": "5eec5913-2a5c-4a59-9f7a-be54a5e3a955",
   "metadata": {},
   "outputs": [],
   "source": [
    "A = {1,2,3,4, 5,6,7}\n",
    "B = {3,4,5,6}"
   ]
  },
  {
   "cell_type": "code",
   "execution_count": 16,
   "id": "5c444984-d929-4fc1-bc96-875c34b66e4b",
   "metadata": {},
   "outputs": [
    {
     "data": {
      "text/plain": [
       "{1, 2, 3, 4, 5, 6, 7}"
      ]
     },
     "execution_count": 16,
     "metadata": {},
     "output_type": "execute_result"
    }
   ],
   "source": [
    "aUb = A.union(B)\n",
    "aUb"
   ]
  },
  {
   "cell_type": "code",
   "execution_count": 17,
   "id": "1b41ba16-9d02-4c6a-a72b-312a46396858",
   "metadata": {},
   "outputs": [
    {
     "data": {
      "text/plain": [
       "{3, 4, 5, 6}"
      ]
     },
     "execution_count": 17,
     "metadata": {},
     "output_type": "execute_result"
    }
   ],
   "source": [
    "aNb = A.intersection(B)\n",
    "aNb"
   ]
  },
  {
   "cell_type": "code",
   "execution_count": 18,
   "id": "50115feb-9bf5-4167-8fad-b43bd7a63c38",
   "metadata": {},
   "outputs": [
    {
     "data": {
      "text/plain": [
       "{1, 2, 7}"
      ]
     },
     "execution_count": 18,
     "metadata": {},
     "output_type": "execute_result"
    }
   ],
   "source": [
    "A_B = A.difference(B)\n",
    "A_B"
   ]
  },
  {
   "cell_type": "code",
   "execution_count": 19,
   "id": "f9d12b54-06b4-4bfb-aa2f-0d955147c9c9",
   "metadata": {},
   "outputs": [
    {
     "data": {
      "text/plain": [
       "False"
      ]
     },
     "execution_count": 19,
     "metadata": {},
     "output_type": "execute_result"
    }
   ],
   "source": [
    "A.isdisjoint(B)"
   ]
  },
  {
   "cell_type": "code",
   "execution_count": 20,
   "id": "6a35925b-cfff-4b02-a723-1d64da4a3ae8",
   "metadata": {},
   "outputs": [
    {
     "data": {
      "text/plain": [
       "True"
      ]
     },
     "execution_count": 20,
     "metadata": {},
     "output_type": "execute_result"
    }
   ],
   "source": [
    "A >= B"
   ]
  },
  {
   "cell_type": "code",
   "execution_count": null,
   "id": "6255606c-3de0-4d41-a733-3917a5d4af24",
   "metadata": {},
   "outputs": [],
   "source": []
  },
  {
   "cell_type": "code",
   "execution_count": 21,
   "id": "58d2a915-a3c7-4491-aa05-bc50cd025c3a",
   "metadata": {},
   "outputs": [],
   "source": [
    "A.add(55)"
   ]
  },
  {
   "cell_type": "code",
   "execution_count": 22,
   "id": "8b1a1b9a-e162-4343-849a-fddd648e2807",
   "metadata": {},
   "outputs": [
    {
     "data": {
      "text/plain": [
       "{1, 2, 3, 4, 5, 6, 7, 55}"
      ]
     },
     "execution_count": 22,
     "metadata": {},
     "output_type": "execute_result"
    }
   ],
   "source": [
    "A"
   ]
  },
  {
   "cell_type": "code",
   "execution_count": 23,
   "id": "ea38eacf-c0fe-4404-839b-06501b0f1b5e",
   "metadata": {},
   "outputs": [],
   "source": [
    "A.discard(55)"
   ]
  },
  {
   "cell_type": "code",
   "execution_count": 24,
   "id": "4d5e5532-26bd-49ff-a1da-8dff33c49cfe",
   "metadata": {},
   "outputs": [
    {
     "data": {
      "text/plain": [
       "{1, 2, 3, 4, 5, 6, 7}"
      ]
     },
     "execution_count": 24,
     "metadata": {},
     "output_type": "execute_result"
    }
   ],
   "source": [
    "A"
   ]
  },
  {
   "cell_type": "code",
   "execution_count": 25,
   "id": "87501cef-5183-40ae-bf8e-5de93b3d335a",
   "metadata": {},
   "outputs": [
    {
     "data": {
      "text/plain": [
       "1"
      ]
     },
     "execution_count": 25,
     "metadata": {},
     "output_type": "execute_result"
    }
   ],
   "source": [
    "A.pop()"
   ]
  },
  {
   "cell_type": "code",
   "execution_count": 26,
   "id": "fbb2a6e5-8ee9-4875-8609-57be3723803b",
   "metadata": {},
   "outputs": [
    {
     "data": {
      "text/plain": [
       "{2, 3, 4, 5, 6, 7}"
      ]
     },
     "execution_count": 26,
     "metadata": {},
     "output_type": "execute_result"
    }
   ],
   "source": [
    "A"
   ]
  },
  {
   "cell_type": "code",
   "execution_count": null,
   "id": "ffd755c0-76e9-47f4-8888-c02c6b3a9215",
   "metadata": {},
   "outputs": [],
   "source": []
  }
 ],
 "metadata": {
  "kernelspec": {
   "display_name": "Python 3 (ipykernel)",
   "language": "python",
   "name": "python3"
  },
  "language_info": {
   "codemirror_mode": {
    "name": "ipython",
    "version": 3
   },
   "file_extension": ".py",
   "mimetype": "text/x-python",
   "name": "python",
   "nbconvert_exporter": "python",
   "pygments_lexer": "ipython3",
   "version": "3.10.12"
  }
 },
 "nbformat": 4,
 "nbformat_minor": 5
}
