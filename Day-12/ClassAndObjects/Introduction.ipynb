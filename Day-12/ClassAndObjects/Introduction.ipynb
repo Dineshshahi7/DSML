{
 "cells": [
  {
   "cell_type": "markdown",
   "id": "7d365b42-85bf-4691-ac30-7ffaeff432f9",
   "metadata": {},
   "source": [
    "# Object Oriented Programming\n",
    "\n",
    "Object-oriented programming is a programming paradigm that is centered around objects, which are instances of classes that encapsulate data and behavior. In Python, everything is an object, including integers, strings, lists, and functions. Python's support for OOP is a key feature of the language that makes it powerful and flexible.\n"
   ]
  },
  {
   "cell_type": "markdown",
   "id": "1da13ea4-3e12-4008-b0c5-49d086ef9c5c",
   "metadata": {},
   "source": [
    "# Class and Objects\n",
    "\n",
    "A class is a blueprint or a template for creating objects, which are instances of the class. Classes encapsulate data and the behavior that operates on that data. A class defines a set of attributes and methods that can be used to create objects. In Python, you can define a class using the class keyword. Attributes and methods are the two key components of a python class. Attributes are the characteristics or properties of an object, while methods are the functions that are associated with the object.\n",
    "\n",
    "Syntax:\n",
    "```python\n",
    "class ClassName:\n",
    "    def methods:\n",
    "        ..\n",
    "```"
   ]
  },
  {
   "cell_type": "code",
   "execution_count": 1,
   "id": "7c02f737-2404-40c6-af3b-2f0c11c3a4ce",
   "metadata": {},
   "outputs": [],
   "source": [
    "class Calculator:\n",
    "    def __init__(self, num1, num2):\n",
    "        self.num1 = num1\n",
    "        self.num2 = num2\n",
    "\n",
    "    def sum(self):\n",
    "        return self.num1 + self.num2\n",
    "        "
   ]
  },
  {
   "cell_type": "code",
   "execution_count": 2,
   "id": "afbc4e4f-caa5-42a8-bf63-ffa4f1ee8d4e",
   "metadata": {},
   "outputs": [],
   "source": [
    "cal_obj = Calculator(10,4)"
   ]
  },
  {
   "cell_type": "code",
   "execution_count": 3,
   "id": "af4a5a64-bdb0-4a04-8d4c-6893c12753b1",
   "metadata": {},
   "outputs": [
    {
     "data": {
      "text/plain": [
       "__main__.Calculator"
      ]
     },
     "execution_count": 3,
     "metadata": {},
     "output_type": "execute_result"
    }
   ],
   "source": [
    "type(cal_obj)"
   ]
  },
  {
   "cell_type": "code",
   "execution_count": 6,
   "id": "7e9d6299-2aad-4835-9ed7-ace34e24640f",
   "metadata": {},
   "outputs": [
    {
     "data": {
      "text/plain": [
       "14"
      ]
     },
     "execution_count": 6,
     "metadata": {},
     "output_type": "execute_result"
    }
   ],
   "source": [
    "cal_obj.sum()"
   ]
  },
  {
   "cell_type": "code",
   "execution_count": 7,
   "id": "f2d80982-82b1-4ab8-8c1f-73867b9aa5d8",
   "metadata": {},
   "outputs": [
    {
     "data": {
      "text/plain": [
       "62"
      ]
     },
     "execution_count": 7,
     "metadata": {},
     "output_type": "execute_result"
    }
   ],
   "source": [
    "cal_obj2 = Calculator(55,7)\n",
    "cal_obj2.sum()"
   ]
  },
  {
   "cell_type": "code",
   "execution_count": 8,
   "id": "80725dff-32af-4e7e-9f65-9b1ddefd4e6a",
   "metadata": {},
   "outputs": [],
   "source": [
    "class Dog:\n",
    "    count = 0 #Class attribute\n",
    "    \n",
    "    def __init__(self, name, age=3):\n",
    "        self.name = name\n",
    "        self.age = age\n",
    "\n",
    "        Dog.count += 1\n",
    "\n",
    "    def bark(self):\n",
    "        print(f\"{self.name} is barking!\")\n",
    "    \n",
    "    @classmethod\n",
    "    def get_count(cls):\n",
    "        return cls.count\n",
    "\n",
    "    @staticmethod\n",
    "    def get_vet_info():\n",
    "        return \"Dr. Sam, NYC\""
   ]
  },
  {
   "cell_type": "markdown",
   "id": "f3231adb-5f7a-4abe-8f5a-ce6551d4845e",
   "metadata": {},
   "source": [
    "## Types of Attributes\n",
    "\n",
    "#### 1. Instance Attributes\n",
    "\n",
    "These are the attributes that belong to instances of a class. They are defined within the constructor method `__init__` and can be accessed using the `self` keyword like `self.name` and `self.age` in the above `Dog` class.. They are initialized when a new instance of the class is created.\n",
    "\n",
    "#### 2. Class attributes\n",
    "\n",
    "Class attributes are attributes that belong to the class itself. They are defined outside the constructor method `__init__` and can be accessed using the class name. Class attributes are shared by all instances of the class like `count` attribute in the `Dog` class below."
   ]
  },
  {
   "cell_type": "markdown",
   "id": "80db2db7-b508-481e-bce9-c32bef12e9c2",
   "metadata": {},
   "source": [
    "## Types of Methods\n",
    "\n",
    "#### 1. Instance methods\n",
    "\n",
    "The most common type of method in Python. These are the methods that operate on an instance of a class and have access to the instance's attributes. Instance methods are defined within the class and are called on instances of the class like `bark` method of the `Dog` class above.\n",
    "\n",
    "#### 2. Class methods\n",
    "\n",
    "Class methods are methods that operate on the class itself rather than on instances of the class. They are defined using the `@classmethod` decorator and take the class itself as the first argument like `get_count` method of `Person` class below.\n",
    "\n",
    "#### 3. Static methods\n",
    "\n",
    "Static methods are methods that do not operate on the instance or the class, but are related to the class in some way. They are defined using the `@staticmethod` decorator and do not take the instance or the class as arguments like `get_full_name` in `Person` class below."
   ]
  },
  {
   "cell_type": "code",
   "execution_count": 9,
   "id": "22739d8b-960d-4990-bad0-a641bc60f3df",
   "metadata": {},
   "outputs": [],
   "source": [
    "class Person:\n",
    "    count = 0 #< Class attribute\n",
    "\n",
    "    def __init__(self, name:str, address:str = \"Kathmandu\"): #< Constructor / Initializer\n",
    "        \"\"\"\n",
    "        Creating a Person Class\n",
    "        \"\"\"\n",
    "        self.name = name\n",
    "        self.address = address\n",
    "\n",
    "        Person.count += 1\n",
    "\n",
    "    def get_details(self): #< Instance Method\n",
    "        print(f\"I am {self.name} from {self.address}\")\n",
    "\n",
    "    @classmethod\n",
    "    def get_count(cls): #< class Method\n",
    "        return cls.count\n",
    "\n",
    "    @staticmethod\n",
    "    def create_fullname(firstname, lastname): #< static methods\n",
    "        return f\"{lastname}, {firstname}\""
   ]
  },
  {
   "cell_type": "code",
   "execution_count": 10,
   "id": "f82d4fbb-c2ce-4117-aaeb-06a0968c64fe",
   "metadata": {},
   "outputs": [],
   "source": [
    "student1 = Person(\"yukesh\")"
   ]
  },
  {
   "cell_type": "code",
   "execution_count": 11,
   "id": "d704ecea-8cd3-4fc6-b237-4dd59e0f3df4",
   "metadata": {},
   "outputs": [],
   "source": [
    "student2 = Person(\"Reason\", \"Jhapa\")"
   ]
  },
  {
   "cell_type": "code",
   "execution_count": 13,
   "id": "4d4046ed-54bf-43a2-8551-a618b829e655",
   "metadata": {},
   "outputs": [
    {
     "name": "stdout",
     "output_type": "stream",
     "text": [
      "I am Reason from Jhapa\n"
     ]
    }
   ],
   "source": [
    "student2.get_details()"
   ]
  },
  {
   "cell_type": "code",
   "execution_count": 14,
   "id": "68a97fe4-62d5-496a-84ad-763d9ae351c8",
   "metadata": {},
   "outputs": [
    {
     "data": {
      "text/plain": [
       "2"
      ]
     },
     "execution_count": 14,
     "metadata": {},
     "output_type": "execute_result"
    }
   ],
   "source": [
    "student1.get_count()"
   ]
  },
  {
   "cell_type": "code",
   "execution_count": 15,
   "id": "86d8699a-ab8e-4411-8c8e-09c5a8ec4d92",
   "metadata": {},
   "outputs": [
    {
     "data": {
      "text/plain": [
       "2"
      ]
     },
     "execution_count": 15,
     "metadata": {},
     "output_type": "execute_result"
    }
   ],
   "source": [
    "student2.get_count()"
   ]
  },
  {
   "cell_type": "code",
   "execution_count": 16,
   "id": "845c12ad-21f2-4b10-868a-c53b1b8796c7",
   "metadata": {},
   "outputs": [
    {
     "data": {
      "text/plain": [
       "'bista, Shyam'"
      ]
     },
     "execution_count": 16,
     "metadata": {},
     "output_type": "execute_result"
    }
   ],
   "source": [
    "student1.create_fullname(\"Shyam\", \"bista\")"
   ]
  },
  {
   "cell_type": "markdown",
   "id": "2b4dc367-c319-4c3d-bf76-bbafa015c94a",
   "metadata": {},
   "source": [
    "## Library class with student and department\n",
    "\n",
    "method: can_burrow(book_name)"
   ]
  },
  {
   "cell_type": "code",
   "execution_count": 17,
   "id": "2582d9d4-1127-46c2-8cd0-6df1f8ee99da",
   "metadata": {},
   "outputs": [],
   "source": [
    "books = [ \n",
    "            (\"The Alchemist\", 25),\n",
    "            (\"The Da Vinci Code\", 30),\n",
    "            (\"A Brief History of Time\", 15),\n",
    "            (\"Angels & Demons\", 0),\n",
    "            (\"The Grand Design\", 0),\n",
    "            (\"1984\", 19)\n",
    "        ]"
   ]
  },
  {
   "cell_type": "code",
   "execution_count": 45,
   "id": "21b7b0b5-d31d-48de-bde9-458d071e223c",
   "metadata": {},
   "outputs": [],
   "source": [
    "class Library:\n",
    "    def __init__(self, name, depart = \"Maths\"):\n",
    "        self.name = name\n",
    "        self.depart = depart\n",
    "        self.books = [ \n",
    "            (\"The Alchemist\", 25),\n",
    "            (\"The Da Vinci Code\", 30),\n",
    "            (\"A Brief History of Time\", 15),\n",
    "            (\"Angels & Demons\", 0),\n",
    "            (\"The Grand Design\", 0),\n",
    "            (\"1984\", 19)\n",
    "        ]\n",
    "        \n",
    "    def can_burrow(self, book_name):\n",
    "        book_name =book_name.lower()\n",
    "        status = [name for name, amount in self.books if name.lower() == book_name and amount > 0]\n",
    "        # for name, amount in self.books:\n",
    "        #     if name.lower() == book_name and amount > 0:\n",
    "        #         return \"Can burrow\"\n",
    "\n",
    "        return \"Can Burrow\" if status else \"Can't Burrow\"\n",
    "        "
   ]
  },
  {
   "cell_type": "code",
   "execution_count": 46,
   "id": "29ade750-6f02-4b58-8f9b-6f7a46ec6af1",
   "metadata": {},
   "outputs": [],
   "source": [
    "student1 = Library(\"Shailesh\", \"CSE\")"
   ]
  },
  {
   "cell_type": "code",
   "execution_count": 47,
   "id": "45f749d9-295e-4a66-9a43-77b1149704af",
   "metadata": {},
   "outputs": [
    {
     "name": "stdout",
     "output_type": "stream",
     "text": [
      "[]\n"
     ]
    },
    {
     "data": {
      "text/plain": [
       "\"Can't Burrow\""
      ]
     },
     "execution_count": 47,
     "metadata": {},
     "output_type": "execute_result"
    }
   ],
   "source": [
    "student1.can_burrow(\"Angels & Demons\")"
   ]
  },
  {
   "cell_type": "code",
   "execution_count": null,
   "id": "63557423-2710-4e90-8364-7d79747fbbe2",
   "metadata": {},
   "outputs": [],
   "source": []
  },
  {
   "cell_type": "markdown",
   "id": "798cb89b-c0a4-425a-819e-257c9f9e5c2c",
   "metadata": {},
   "source": [
    "### Calculating Student Results: \n",
    "\n",
    "Develop a class to accept a student's name and marks in three subjects, then calculate and display the total and average marks."
   ]
  },
  {
   "cell_type": "code",
   "execution_count": 49,
   "id": "2a70b819-f4f1-4adf-a9f8-66ce3039efd6",
   "metadata": {},
   "outputs": [],
   "source": [
    "class StudentResult:\n",
    "    def __init__(self, name: str, marks: list):\n",
    "        self.name = name\n",
    "        self.marks = marks\n",
    "\n",
    "        self.subjects = len(self.marks)\n",
    "        self.total_marks = self.subjects * 100\n",
    "\n",
    "    def total(self):\n",
    "        return sum(self.marks)\n",
    "\n",
    "    def avergae(self):\n",
    "        return self.total() / self.subjects\n",
    "\n",
    "    def display(self):\n",
    "        print(f\"Name : {self.name}\")\n",
    "        print(\"-\"*50)\n",
    "        print(f\"Out of {self.total_marks}, {self.total()} is obtained\")\n",
    "        print(f\"Average Marks : {self.avergae()}\")"
   ]
  },
  {
   "cell_type": "code",
   "execution_count": 50,
   "id": "635fa084-c41b-41af-9784-ba64c415c98b",
   "metadata": {},
   "outputs": [],
   "source": [
    "bigyan = StudentResult(\"Bigyan\",[44,67,90])"
   ]
  },
  {
   "cell_type": "code",
   "execution_count": 51,
   "id": "b322a4ea-2eec-4cc6-9d27-ea69d9b7007f",
   "metadata": {},
   "outputs": [
    {
     "name": "stdout",
     "output_type": "stream",
     "text": [
      "Name : Bigyan\n",
      "--------------------------------------------------\n",
      "Out of 300, 201 is obtained\n",
      "Average Marks : 67.0\n"
     ]
    }
   ],
   "source": [
    "bigyan.display()"
   ]
  },
  {
   "cell_type": "code",
   "execution_count": null,
   "id": "e9aa5871-75e8-4ac7-8a0c-fd81958b40b5",
   "metadata": {},
   "outputs": [],
   "source": []
  }
 ],
 "metadata": {
  "kernelspec": {
   "display_name": "Python 3 (ipykernel)",
   "language": "python",
   "name": "python3"
  },
  "language_info": {
   "codemirror_mode": {
    "name": "ipython",
    "version": 3
   },
   "file_extension": ".py",
   "mimetype": "text/x-python",
   "name": "python",
   "nbconvert_exporter": "python",
   "pygments_lexer": "ipython3",
   "version": "3.10.12"
  }
 },
 "nbformat": 4,
 "nbformat_minor": 5
}
