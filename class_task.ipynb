{
 "cells": [
  {
   "cell_type": "markdown",
   "id": "a7b3e0a3-b604-45ce-9ae7-86b9bd0498ed",
   "metadata": {},
   "source": [
    "#### Q.No. 1 Ans"
   ]
  },
  {
   "cell_type": "code",
   "execution_count": 6,
   "id": "51d70248-3fbb-45f3-964a-0c411fae1665",
   "metadata": {},
   "outputs": [],
   "source": [
    "def filter_even_numbers(nums):\n",
    "    return [num for num in nums if num % 2 == 0]"
   ]
  },
  {
   "cell_type": "code",
   "execution_count": 7,
   "id": "91e3e2e2-8321-4db4-a485-60dd0d1b8999",
   "metadata": {},
   "outputs": [],
   "source": [
    "even_number = filter_even_numbers([1, 4, 5, 6])"
   ]
  },
  {
   "cell_type": "code",
   "execution_count": 8,
   "id": "278d57b2-01b7-42b2-a0af-75f67eb4c782",
   "metadata": {},
   "outputs": [
    {
     "data": {
      "text/plain": [
       "[4, 6]"
      ]
     },
     "execution_count": 8,
     "metadata": {},
     "output_type": "execute_result"
    }
   ],
   "source": [
    "even_number"
   ]
  },
  {
   "cell_type": "code",
   "execution_count": null,
   "id": "ae179a6f-7823-4361-b394-87dedd675a8d",
   "metadata": {},
   "outputs": [],
   "source": []
  },
  {
   "cell_type": "markdown",
   "id": "c3aa2ded-7666-4df7-96af-8d37c61794ab",
   "metadata": {},
   "source": [
    "#### Q.No, 2 Ans"
   ]
  },
  {
   "cell_type": "code",
   "execution_count": 10,
   "id": "416e7be4-596b-436e-8aaf-7458ee267cf9",
   "metadata": {},
   "outputs": [],
   "source": [
    "def count_vowels(sentence):\n",
    "    vowels = 'aeiou'\n",
    "    text = sentence.lower()\n",
    "    return {vow: text.count(vow) for vow in vowels if vow in text}"
   ]
  },
  {
   "cell_type": "code",
   "execution_count": 11,
   "id": "4326a197-18fa-4c80-8749-382e7099f9c6",
   "metadata": {},
   "outputs": [],
   "source": [
    "check = count_vowels(\"Skillshikshya is amazing\")"
   ]
  },
  {
   "cell_type": "code",
   "execution_count": 12,
   "id": "5a0c7d81-d17f-41da-a42b-1434d81f6648",
   "metadata": {},
   "outputs": [
    {
     "data": {
      "text/plain": [
       "{'a': 3, 'i': 4}"
      ]
     },
     "execution_count": 12,
     "metadata": {},
     "output_type": "execute_result"
    }
   ],
   "source": [
    "check"
   ]
  },
  {
   "cell_type": "code",
   "execution_count": null,
   "id": "6280b40c-22a2-4dd9-bb0f-abe1f303b97e",
   "metadata": {},
   "outputs": [],
   "source": []
  },
  {
   "cell_type": "markdown",
   "id": "5666260a-482a-4d5d-840f-29ddb6cd185e",
   "metadata": {},
   "source": [
    "#### Q.No.3 Ans"
   ]
  },
  {
   "cell_type": "code",
   "execution_count": 35,
   "id": "968ebe6d-ccfc-4179-b2a9-55065d3f061f",
   "metadata": {},
   "outputs": [],
   "source": [
    "class BankAccount:\n",
    "    balance = 0\n",
    "    def __init__(self, name, address):\n",
    "        self.name = name\n",
    "        self.address = address\n",
    "\n",
    "    def deposit(self, amount):\n",
    "        self.balance += amount\n",
    "        print(f\"your balance is {self.balance}\")\n",
    "\n",
    "    def withdraw(self, amount):\n",
    "        try:\n",
    "            if amount <= self.balance:\n",
    "                self.balance -= amount\n",
    "            else:\n",
    "                raise ValueError(\"Insufficient Balance !!!\")\n",
    "        except ValueError as e:\n",
    "            print(e)"
   ]
  },
  {
   "cell_type": "code",
   "execution_count": 36,
   "id": "14908cb2-89c5-4435-95ff-b99305056c8c",
   "metadata": {},
   "outputs": [],
   "source": [
    "ba = BankAccount(\"Dinesh\", \"Abc\")"
   ]
  },
  {
   "cell_type": "code",
   "execution_count": 37,
   "id": "f1da7ca2-dbcd-4481-a922-67ca918bfc76",
   "metadata": {},
   "outputs": [
    {
     "name": "stdout",
     "output_type": "stream",
     "text": [
      "your balance is 500\n"
     ]
    }
   ],
   "source": [
    "ba.deposit(500)"
   ]
  },
  {
   "cell_type": "code",
   "execution_count": 38,
   "id": "a653031a-d336-4d77-b84f-a2f8b4809d75",
   "metadata": {},
   "outputs": [
    {
     "name": "stdout",
     "output_type": "stream",
     "text": [
      "Insufficient Balance !!!\n"
     ]
    }
   ],
   "source": [
    "ba.withdraw(800)"
   ]
  },
  {
   "cell_type": "code",
   "execution_count": null,
   "id": "d686c270-2fd3-4d42-a258-9ae4516228fa",
   "metadata": {},
   "outputs": [],
   "source": []
  },
  {
   "cell_type": "code",
   "execution_count": null,
   "id": "5c2e13c8-b4a8-498f-9ede-45ab1c8bb19c",
   "metadata": {},
   "outputs": [],
   "source": []
  },
  {
   "cell_type": "markdown",
   "id": "93b968c1-9614-4bfd-832b-1c93bfdd5c37",
   "metadata": {},
   "source": [
    "#### Q.No. 4"
   ]
  },
  {
   "cell_type": "code",
   "execution_count": 51,
   "id": "5718c6fe-6f2e-4bf0-9fee-9a1608b7d14d",
   "metadata": {},
   "outputs": [],
   "source": [
    "def custom_sum(*args, **kwargs):\n",
    "    total = sum(args)  \n",
    "    if 'double' in kwargs:\n",
    "        if kwargs ['double'] == True:\n",
    "            total = total * 2\n",
    "    return total\n"
   ]
  },
  {
   "cell_type": "code",
   "execution_count": 52,
   "id": "27546996-e6de-455a-9e49-9332148de2cb",
   "metadata": {},
   "outputs": [
    {
     "data": {
      "text/plain": [
       "10"
      ]
     },
     "execution_count": 52,
     "metadata": {},
     "output_type": "execute_result"
    }
   ],
   "source": [
    "custom_sum(1,2,3,4)"
   ]
  },
  {
   "cell_type": "code",
   "execution_count": 53,
   "id": "d5f9681f-e21d-4693-8fa8-5696b56c0138",
   "metadata": {},
   "outputs": [
    {
     "data": {
      "text/plain": [
       "20"
      ]
     },
     "execution_count": 53,
     "metadata": {},
     "output_type": "execute_result"
    }
   ],
   "source": [
    "custom_sum(1,2,3,4,double=True)"
   ]
  },
  {
   "cell_type": "code",
   "execution_count": null,
   "id": "d24f2e9e-334c-4d6e-bee5-a7138d872420",
   "metadata": {},
   "outputs": [],
   "source": []
  }
 ],
 "metadata": {
  "kernelspec": {
   "display_name": "Python 3 (ipykernel)",
   "language": "python",
   "name": "python3"
  },
  "language_info": {
   "codemirror_mode": {
    "name": "ipython",
    "version": 3
   },
   "file_extension": ".py",
   "mimetype": "text/x-python",
   "name": "python",
   "nbconvert_exporter": "python",
   "pygments_lexer": "ipython3",
   "version": "3.12.7"
  }
 },
 "nbformat": 4,
 "nbformat_minor": 5
}
