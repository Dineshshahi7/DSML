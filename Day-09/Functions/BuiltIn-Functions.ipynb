{
 "cells": [
  {
   "cell_type": "markdown",
   "id": "01ea412c-8e78-4164-8a75-5682862a9a43",
   "metadata": {},
   "source": [
    "# Python Built-In Functions\n",
    "\n",
    "Python provides a large number of built-in functions that can be used to perform common tasks in your code. If you want to go through all the built-in functions available wiht python [visit this page](https://docs.python.org/3/library/functions.html). Here are some of the most commonly used built-in functions in Python.\n"
   ]
  },
  {
   "cell_type": "markdown",
   "id": "3713efa7-68b7-4280-b75b-89eeb5450d6b",
   "metadata": {
    "jp-MarkdownHeadingCollapsed": true
   },
   "source": [
    "## print()\n",
    "\n",
    "In Python, the `print()` function is used to output text or values to the console. It can be used to display text messages, variable values, or the results of calculations, among other things. In addition to this `print()` function can be customized with various arguments like:\n",
    "\n",
    "- `sep:` Used to specify the separator between multiple items being printed. The default separator is a space character. For example, print(\"x\", \"y\", sep=\"-\") would output x-y.\n",
    "- `end:` Used to specify the string that should be printed at the end of the line. The default is a newline character (\"\\n\"). For example, print(\"x\", end=\".\") would output x. without moving to the next line.\n",
    "- `file:` Used to specify the file object where the output should be directed. By default, the output is sent to the console. For example, print(\"x\", file=my_file) would write the output to the my_file file object.\n",
    "\n",
    "Here are some examples of how to use the `print()` function in Python:"
   ]
  },
  {
   "cell_type": "code",
   "execution_count": 6,
   "id": "f905a009-6fe2-46cb-ad55-4d139b2a34c3",
   "metadata": {},
   "outputs": [
    {
     "name": "stdout",
     "output_type": "stream",
     "text": [
      "4_5\n"
     ]
    }
   ],
   "source": [
    "print(4,5, sep = \"_\")"
   ]
  },
  {
   "cell_type": "code",
   "execution_count": 8,
   "id": "65fc87c7-598d-462f-9861-75cb837c7fb3",
   "metadata": {},
   "outputs": [
    {
     "name": "stdout",
     "output_type": "stream",
     "text": [
      "Hello-world."
     ]
    }
   ],
   "source": [
    "print(\"Hello\",\"world\", sep=\"-\", end = \".\")"
   ]
  },
  {
   "cell_type": "code",
   "execution_count": 11,
   "id": "ae1c469c-fc23-49ef-a4e6-c933b437f546",
   "metadata": {},
   "outputs": [
    {
     "name": "stdout",
     "output_type": "stream",
     "text": [
      "Hello_world\n",
      "Welcome."
     ]
    }
   ],
   "source": [
    "print(\"Hello\",\"world\", sep=\"_\", end=\"\\n\") # Defining End of line\n",
    "print(\"Welcome\", end=\".\") # Defining End of line"
   ]
  },
  {
   "cell_type": "code",
   "execution_count": null,
   "id": "f019ec8d-9b7a-49bb-896b-546680f64a3f",
   "metadata": {},
   "outputs": [],
   "source": []
  },
  {
   "cell_type": "markdown",
   "id": "c9e5ead8-5649-4bcb-ba25-ccef88dd867a",
   "metadata": {
    "jp-MarkdownHeadingCollapsed": true
   },
   "source": [
    "## input()\n",
    "\n",
    "In Python, the input() function is used to accept input from the user. It prompts the user to enter a value, and then returns the entered value as a string.\n",
    "\n",
    "Note that the `input()` function always returns a string, so you may need to convert the entered value to another data type if you need to use it as a number or other data type. For example, if you want to accept a number as input, you can convert the entered value to an integer using the `int()` function:"
   ]
  },
  {
   "cell_type": "code",
   "execution_count": 12,
   "id": "28ea12ca-8457-442e-829a-da4e65c306ed",
   "metadata": {},
   "outputs": [
    {
     "name": "stdin",
     "output_type": "stream",
     "text": [
      "What is your name? Shailesh\n"
     ]
    }
   ],
   "source": [
    "name = input(\"What is your name?\")\n"
   ]
  },
  {
   "cell_type": "code",
   "execution_count": 13,
   "id": "4fc56482-d343-4175-802f-13673e6bebd2",
   "metadata": {},
   "outputs": [
    {
     "data": {
      "text/plain": [
       "'Shailesh'"
      ]
     },
     "execution_count": 13,
     "metadata": {},
     "output_type": "execute_result"
    }
   ],
   "source": [
    "name"
   ]
  },
  {
   "cell_type": "code",
   "execution_count": 14,
   "id": "9e44893a-ec71-4c36-b3ca-4b6d68d0b060",
   "metadata": {},
   "outputs": [
    {
     "name": "stdin",
     "output_type": "stream",
     "text": [
      "Age 22\n"
     ]
    }
   ],
   "source": [
    "age = int(input(\"Age\"))\n"
   ]
  },
  {
   "cell_type": "code",
   "execution_count": 15,
   "id": "9937e953-d900-490a-97e0-706c9ed0cde6",
   "metadata": {},
   "outputs": [
    {
     "data": {
      "text/plain": [
       "22"
      ]
     },
     "execution_count": 15,
     "metadata": {},
     "output_type": "execute_result"
    }
   ],
   "source": [
    "age"
   ]
  },
  {
   "cell_type": "markdown",
   "id": "747f12ca-8d48-440d-b8c9-8e619201e91c",
   "metadata": {
    "jp-MarkdownHeadingCollapsed": true
   },
   "source": [
    "## type()\n",
    "\n",
    "In Python, the `type()` function is used to find the data type of a variable or expression. It returns the type of the object as a string.\n",
    "\n",
    "Here are some examples of how to use the `type()` function in Python:"
   ]
  },
  {
   "cell_type": "code",
   "execution_count": 16,
   "id": "c42cdbcb-4be2-404d-b2ed-b7fd4d0139b4",
   "metadata": {},
   "outputs": [
    {
     "data": {
      "text/plain": [
       "int"
      ]
     },
     "execution_count": 16,
     "metadata": {},
     "output_type": "execute_result"
    }
   ],
   "source": [
    "type(1)"
   ]
  },
  {
   "cell_type": "code",
   "execution_count": 19,
   "id": "c5f99d1e-a50b-43eb-a65d-e7eb4abe3642",
   "metadata": {},
   "outputs": [
    {
     "data": {
      "text/plain": [
       "dict"
      ]
     },
     "execution_count": 19,
     "metadata": {},
     "output_type": "execute_result"
    }
   ],
   "source": [
    "type({})"
   ]
  },
  {
   "cell_type": "code",
   "execution_count": 20,
   "id": "e03c7675-68b4-4dd2-8c6b-e5e04913c7cc",
   "metadata": {},
   "outputs": [
    {
     "data": {
      "text/plain": [
       "bool"
      ]
     },
     "execution_count": 20,
     "metadata": {},
     "output_type": "execute_result"
    }
   ],
   "source": [
    "type(4 == 2)"
   ]
  },
  {
   "cell_type": "code",
   "execution_count": 23,
   "id": "90fb8726-247c-43c7-a87f-ea6e1314b2ee",
   "metadata": {},
   "outputs": [
    {
     "data": {
      "text/plain": [
       "builtin_function_or_method"
      ]
     },
     "execution_count": 23,
     "metadata": {},
     "output_type": "execute_result"
    }
   ],
   "source": [
    "type(sum)"
   ]
  },
  {
   "cell_type": "code",
   "execution_count": null,
   "id": "a577a73d-9466-41d8-8e93-564f06d2c17a",
   "metadata": {},
   "outputs": [],
   "source": []
  },
  {
   "cell_type": "markdown",
   "id": "6ca3e96d-b0fb-4925-aa34-46dee1dc6fdc",
   "metadata": {},
   "source": [
    "## len()\n",
    "\n",
    "In Python, the `len()` function is used to get the length of a sequence or collection, such as a `str, list, tuple, or dict`. It returns the number of elements or characters in the sequence.\n",
    "\n",
    "Note that the `len()` function only works with sequences and collections that have a defined length. It cannot be used with other types of data, such as numbers or booleans."
   ]
  },
  {
   "cell_type": "code",
   "execution_count": 24,
   "id": "ad001cf0-25cc-4ebd-b18f-6e6b4e03b8a8",
   "metadata": {},
   "outputs": [
    {
     "data": {
      "text/plain": [
       "5"
      ]
     },
     "execution_count": 24,
     "metadata": {},
     "output_type": "execute_result"
    }
   ],
   "source": [
    "len(\"apple\")"
   ]
  },
  {
   "cell_type": "code",
   "execution_count": 25,
   "id": "372c2789-436e-4fca-85d1-45bba9a19efe",
   "metadata": {},
   "outputs": [
    {
     "data": {
      "text/plain": [
       "4"
      ]
     },
     "execution_count": 25,
     "metadata": {},
     "output_type": "execute_result"
    }
   ],
   "source": [
    "len([\"hari\",\"saimon\",\"ad\",\"jhon\"])"
   ]
  },
  {
   "cell_type": "code",
   "execution_count": 26,
   "id": "a3790f70-a8a2-4cc3-94af-38307726baae",
   "metadata": {},
   "outputs": [
    {
     "data": {
      "text/plain": [
       "2"
      ]
     },
     "execution_count": 26,
     "metadata": {},
     "output_type": "execute_result"
    }
   ],
   "source": [
    "len({1:\"apple\",2:\"ball\"})"
   ]
  },
  {
   "cell_type": "code",
   "execution_count": null,
   "id": "89e5f170-846f-4850-b1d1-6bbcae1337fc",
   "metadata": {},
   "outputs": [],
   "source": []
  },
  {
   "cell_type": "markdown",
   "id": "b0f68797-3804-4538-a061-5cf4af2e8f7a",
   "metadata": {},
   "source": [
    "## open()\n",
    "\n",
    "In Python, the `open()` function is used to open a file and return a file object. This file object can be used to read or write data to the file. Once the file is open, the `read()` function is called on the file object to read the contents of the file into a string variable, by specifying the mode as `\"r\"` (read). It's important to remember to close the file after you're done working with it. This is done using the `close()` function on the file object."
   ]
  },
  {
   "cell_type": "code",
   "execution_count": 4,
   "id": "81dbad11-942e-4c02-8181-df967e04ada7",
   "metadata": {},
   "outputs": [
    {
     "name": "stdout",
     "output_type": "stream",
     "text": [
      "[INFO] : File reading started\n",
      "[ERROR] : Error with biometric model\n",
      "\n"
     ]
    }
   ],
   "source": [
    "file = open(\"log.txt\", mode=\"r\")\n",
    "\n",
    "print(file.read())\n",
    "\n",
    "file.close()"
   ]
  },
  {
   "attachments": {
    "196c4749-8e9c-4e3c-a606-55b729cdd478.png": {
     "image/png": "[encoded data removed]"
    }
   },
   "cell_type": "markdown",
   "id": "07dcfa44-b146-4fed-bd92-a269ea5c4230",
   "metadata": {},
   "source": [
    "You can also use the `open()` function to open a file for writing, by specifying the mode as `\"w\"` (write), or for both reading and writing, by specifying the mode as `\"r+\"` or `\"w+\"`. In addition, you can specify the encoding of the file by adding the encoding parameter to the `open()` function.\n",
    "\n",
    "Here are a few different modes for opening a file:\n",
    "![image.png](attachment:196c4749-8e9c-4e3c-a606-55b729cdd478.png)"
   ]
  },
  {
   "cell_type": "code",
   "execution_count": 13,
   "id": "58cbe2ab-5297-4d8c-9e19-5fe06ab93117",
   "metadata": {},
   "outputs": [],
   "source": [
    "file = open(\"messgae.txt\", mode=\"w\")\n",
    "\n",
    "file.write(\"Welcome to DSML Class\")\n",
    "\n",
    "file.close()"
   ]
  },
  {
   "cell_type": "code",
   "execution_count": 14,
   "id": "df06d6a1-4508-4606-b05e-390f109d2856",
   "metadata": {},
   "outputs": [
    {
     "name": "stdout",
     "output_type": "stream",
     "text": [
      "Welcome to DSML Class\n"
     ]
    }
   ],
   "source": [
    "# Context Manager\n",
    "with open(\"messgae.txt\", mode = \"r+\") as file:\n",
    "    print(file.read())\n",
    "    file.write(\"This is First Message \\n\")\n"
   ]
  },
  {
   "cell_type": "code",
   "execution_count": 15,
   "id": "4ddd9a69-eb7e-465a-a61b-57811c9572bf",
   "metadata": {},
   "outputs": [
    {
     "name": "stdout",
     "output_type": "stream",
     "text": [
      "\n"
     ]
    }
   ],
   "source": [
    "# Context Manager\n",
    "with open(\"messgae.txt\", mode = \"w+\") as file:\n",
    "    print(file.read())\n",
    "    file.write(\"In the Beginning \\n\")\n"
   ]
  },
  {
   "cell_type": "code",
   "execution_count": null,
   "id": "be5806a8-4c3f-4164-9500-fdaac46843fc",
   "metadata": {},
   "outputs": [],
   "source": []
  },
  {
   "cell_type": "markdown",
   "id": "3e9964f3-69e9-4f08-b1b1-b7e129b34df1",
   "metadata": {},
   "source": [
    "## dir()\n",
    "\n",
    "In Python, the `dir()` function is used to list all the attributes and methods of an object. It returns a `sorted list` of names in the given object."
   ]
  },
  {
   "cell_type": "code",
   "execution_count": 16,
   "id": "70b62281-3fa6-43a7-88fc-b47531c99e33",
   "metadata": {},
   "outputs": [],
   "source": [
    "x = \"ram\""
   ]
  },
  {
   "cell_type": "code",
   "execution_count": 18,
   "id": "83af9390-9947-46fc-8352-0e8221a4ba17",
   "metadata": {},
   "outputs": [
    {
     "name": "stdout",
     "output_type": "stream",
     "text": [
      "['__add__', '__class__', '__contains__', '__delattr__', '__dir__', '__doc__', '__eq__', '__format__', '__ge__', '__getattribute__', '__getitem__', '__getnewargs__', '__gt__', '__hash__', '__init__', '__init_subclass__', '__iter__', '__le__', '__len__', '__lt__', '__mod__', '__mul__', '__ne__', '__new__', '__reduce__', '__reduce_ex__', '__repr__', '__rmod__', '__rmul__', '__setattr__', '__sizeof__', '__str__', '__subclasshook__', 'capitalize', 'casefold', 'center', 'count', 'encode', 'endswith', 'expandtabs', 'find', 'format', 'format_map', 'index', 'isalnum', 'isalpha', 'isascii', 'isdecimal', 'isdigit', 'isidentifier', 'islower', 'isnumeric', 'isprintable', 'isspace', 'istitle', 'isupper', 'join', 'ljust', 'lower', 'lstrip', 'maketrans', 'partition', 'removeprefix', 'removesuffix', 'replace', 'rfind', 'rindex', 'rjust', 'rpartition', 'rsplit', 'rstrip', 'split', 'splitlines', 'startswith', 'strip', 'swapcase', 'title', 'translate', 'upper', 'zfill']\n"
     ]
    }
   ],
   "source": [
    "print(dir(x))"
   ]
  },
  {
   "cell_type": "code",
   "execution_count": 20,
   "id": "eb219bc4-7223-495e-926d-9ff26ba9f23e",
   "metadata": {},
   "outputs": [
    {
     "data": {
      "text/plain": [
       "'RAM'"
      ]
     },
     "execution_count": 20,
     "metadata": {},
     "output_type": "execute_result"
    }
   ],
   "source": [
    "x.upper()"
   ]
  },
  {
   "cell_type": "code",
   "execution_count": 24,
   "id": "a2cf045e-e57a-403a-9744-1ee409b92200",
   "metadata": {},
   "outputs": [
    {
     "data": {
      "text/plain": [
       "'#%danish'"
      ]
     },
     "execution_count": 24,
     "metadata": {},
     "output_type": "execute_result"
    }
   ],
   "source": [
    "\"#%danish\".rstrip(\"#%\")"
   ]
  },
  {
   "cell_type": "code",
   "execution_count": 19,
   "id": "2ae8c068-f8ad-453c-b0ea-80b9b0dde738",
   "metadata": {},
   "outputs": [
    {
     "name": "stdout",
     "output_type": "stream",
     "text": [
      "['__abs__', '__add__', '__and__', '__bool__', '__ceil__', '__class__', '__delattr__', '__dir__', '__divmod__', '__doc__', '__eq__', '__float__', '__floor__', '__floordiv__', '__format__', '__ge__', '__getattribute__', '__getnewargs__', '__gt__', '__hash__', '__index__', '__init__', '__init_subclass__', '__int__', '__invert__', '__le__', '__lshift__', '__lt__', '__mod__', '__mul__', '__ne__', '__neg__', '__new__', '__or__', '__pos__', '__pow__', '__radd__', '__rand__', '__rdivmod__', '__reduce__', '__reduce_ex__', '__repr__', '__rfloordiv__', '__rlshift__', '__rmod__', '__rmul__', '__ror__', '__round__', '__rpow__', '__rrshift__', '__rshift__', '__rsub__', '__rtruediv__', '__rxor__', '__setattr__', '__sizeof__', '__str__', '__sub__', '__subclasshook__', '__truediv__', '__trunc__', '__xor__', 'as_integer_ratio', 'bit_count', 'bit_length', 'conjugate', 'denominator', 'from_bytes', 'imag', 'numerator', 'real', 'to_bytes']\n"
     ]
    }
   ],
   "source": [
    "i = 1\n",
    "print(dir(i))"
   ]
  },
  {
   "cell_type": "code",
   "execution_count": null,
   "id": "b8694dfe-6bf2-4614-ace7-bb426fc4b76d",
   "metadata": {},
   "outputs": [],
   "source": []
  },
  {
   "cell_type": "markdown",
   "id": "09834757-07bb-44da-aca8-1adbe0428d06",
   "metadata": {},
   "source": [
    "## enumerate()\n",
    "\n",
    "In Python, the `enumerate()` function used to iterate over a sequence (such as a list or tuple) and return a sequence of tuples containing the index and value of each element in the original sequence."
   ]
  },
  {
   "cell_type": "code",
   "execution_count": 36,
   "id": "94dccff0-a772-40ec-a4c4-bde85df681e6",
   "metadata": {},
   "outputs": [],
   "source": [
    "names = [\"Alice\",\"bob\",\"harris\"]"
   ]
  },
  {
   "cell_type": "code",
   "execution_count": 37,
   "id": "54bd43c7-54dd-4679-82b9-b12cf46ebd53",
   "metadata": {},
   "outputs": [
    {
     "data": {
      "text/plain": [
       "[(0, 'Alice'), (1, 'bob'), (2, 'harris')]"
      ]
     },
     "execution_count": 37,
     "metadata": {},
     "output_type": "execute_result"
    }
   ],
   "source": [
    "list(enumerate(names))"
   ]
  },
  {
   "cell_type": "code",
   "execution_count": 38,
   "id": "52e5cd3c-e152-478b-b702-1dc6356b2568",
   "metadata": {},
   "outputs": [
    {
     "name": "stdout",
     "output_type": "stream",
     "text": [
      "Alice : Roll 0\n",
      "bob : Roll 1\n",
      "harris : Roll 2\n"
     ]
    }
   ],
   "source": [
    "for (i, name) in enumerate(names):\n",
    "    print(f\"{name} : Roll {i}\")"
   ]
  },
  {
   "cell_type": "markdown",
   "id": "ddfb18be-66f8-4f29-9f43-c8847a45c9b5",
   "metadata": {},
   "source": [
    "In this example, the `enumerate()` function is used to iterate over the `names` list. For each element in the list, a `tuple` is returned that contains the index and value of the element. The `for` loop then unpacks the tuple into two variables, `i` and `name`, and prints them to the console.\n",
    "\n",
    "Note that the index values start at `0`, which is the index of the first element in the list. If you want to start the index at a different value, you can pass a second argument to the `enumerate()` function that specifies the starting value"
   ]
  },
  {
   "cell_type": "code",
   "execution_count": 39,
   "id": "5a763df1-9ccf-4d76-b1e0-5df3b4ee1592",
   "metadata": {},
   "outputs": [
    {
     "name": "stdout",
     "output_type": "stream",
     "text": [
      "Alice : Roll 1\n",
      "bob : Roll 2\n",
      "harris : Roll 3\n"
     ]
    }
   ],
   "source": [
    "for (i, name) in enumerate(names, start=1):\n",
    "    print(f\"{name} : Roll {i}\")\n"
   ]
  },
  {
   "cell_type": "code",
   "execution_count": null,
   "id": "5790fb1b-bb29-4933-bcd7-f8982a74644b",
   "metadata": {},
   "outputs": [],
   "source": []
  },
  {
   "cell_type": "code",
   "execution_count": 42,
   "id": "d7cc1ee3-3216-4e89-88d8-cd96149da431",
   "metadata": {},
   "outputs": [],
   "source": [
    "names = [\"Harris\",\"Ricky\",\"Shah\",\"Bob\",\"QA\"]\n",
    "score = [4,6,2,2,9]"
   ]
  },
  {
   "cell_type": "markdown",
   "id": "cf7c7423-f43d-4081-ad66-7a4f3ddbe04d",
   "metadata": {},
   "source": [
    "## zip()\n",
    "\n",
    "The `zip()` function in Python is used to combine two or more iterables (e.g., lists or tuples) into a single iterable that returns `tuples` containing the corresponding elements from each input iterable.\n",
    "\n",
    "The general syntax for `zip()` is:\n",
    "\n",
    "```python\n",
    "zip(iterable1, iterable2, ...)\n",
    "```\n",
    "\n",
    "where `iterable1`, `iterable2`, etc. are the iterables to be zipped. The `zip()` function returns an iterator of tuples, where the `i-th` tuple contains the `i-th` element from each of the input iterables. The resulting iterator has as many elements as the shortest input iterable.\n",
    "\n"
   ]
  },
  {
   "cell_type": "code",
   "execution_count": 45,
   "id": "123a40f8-83e3-455a-99d7-0f187654d7b7",
   "metadata": {},
   "outputs": [
    {
     "data": {
      "text/plain": [
       "[('Harris', 4), ('Ricky', 6), ('Shah', 2), ('Bob', 2), ('QA', 9)]"
      ]
     },
     "execution_count": 45,
     "metadata": {},
     "output_type": "execute_result"
    }
   ],
   "source": [
    "list(zip(names,score))"
   ]
  },
  {
   "cell_type": "code",
   "execution_count": 48,
   "id": "2be7dbd2-4d16-44ba-a46d-2d3e5af17a8b",
   "metadata": {},
   "outputs": [
    {
     "name": "stdout",
     "output_type": "stream",
     "text": [
      "Harris -> 4\n",
      "Ricky -> 6\n",
      "Shah -> 2\n",
      "Bob -> 2\n",
      "QA -> 9\n"
     ]
    }
   ],
   "source": [
    "for (player, s) in zip(names, score):\n",
    "    print(player, s , sep= \" -> \")"
   ]
  },
  {
   "cell_type": "code",
   "execution_count": 49,
   "id": "a8db733b-d989-4080-9878-582b7e574221",
   "metadata": {},
   "outputs": [],
   "source": [
    "name = \"Hari\"\n",
    "list1 = [2,5,6]\n",
    "set1 = set(\"aeiou\")"
   ]
  },
  {
   "cell_type": "code",
   "execution_count": 50,
   "id": "17d4d238-be2e-4063-877f-294818d362ff",
   "metadata": {},
   "outputs": [
    {
     "data": {
      "text/plain": [
       "[('H', 2, 'a'), ('a', 5, 'o'), ('r', 6, 'e')]"
      ]
     },
     "execution_count": 50,
     "metadata": {},
     "output_type": "execute_result"
    }
   ],
   "source": [
    "list(zip(name, list1, set1))"
   ]
  },
  {
   "cell_type": "code",
   "execution_count": null,
   "id": "470eb163-e4a7-4250-abe9-4dcf76029ba9",
   "metadata": {},
   "outputs": [],
   "source": []
  },
  {
   "cell_type": "code",
   "execution_count": 51,
   "id": "b53e57ec-23c5-4b9a-ab0d-6bd0c551fdfa",
   "metadata": {},
   "outputs": [],
   "source": []
  },
  {
   "cell_type": "markdown",
   "id": "912caa37-c8e1-47ba-9480-29c22d265e9e",
   "metadata": {},
   "source": [
    "## map()\n",
    "\n",
    "The `map()` function in Python applies a given function to each item of an iterable (e.g., a list or a tuple) and returns a new iterable with the transformed items.\n",
    "\n",
    "The general syntax for `map()` is:\n",
    "\n",
    "```python\n",
    "map(function, iterable)\n",
    "```\n",
    "\n",
    "where `function` is the function to be applied to each item in the iterable, and `iterable` is the object to be mapped. The `map()` function returns a map object, which is an iterable of the transformed items. To get a list of the transformed items, you can convert the map object to a list using the `list()` function."
   ]
  },
  {
   "cell_type": "code",
   "execution_count": 98,
   "id": "18c9873a-6d12-43f4-a328-9ef3e7df215b",
   "metadata": {},
   "outputs": [],
   "source": [
    "numbers = [2,4,6,8,0]\n",
    "\n",
    "def mult(x):\n",
    "    return x ** 2\n",
    "\n",
    "map_obj = map(mult, numbers)"
   ]
  },
  {
   "cell_type": "code",
   "execution_count": 99,
   "id": "c22aaafb-3783-4afe-bd7a-0b11211c3aaf",
   "metadata": {},
   "outputs": [
    {
     "data": {
      "text/plain": [
       "[4, 16, 36, 64, 0]"
      ]
     },
     "execution_count": 99,
     "metadata": {},
     "output_type": "execute_result"
    }
   ],
   "source": [
    "[a for a in map_obj]"
   ]
  },
  {
   "cell_type": "code",
   "execution_count": 66,
   "id": "34f3403e-a513-4ad4-9d53-3d9406cbc50b",
   "metadata": {},
   "outputs": [
    {
     "data": {
      "text/plain": [
       "[]"
      ]
     },
     "execution_count": 66,
     "metadata": {},
     "output_type": "execute_result"
    }
   ],
   "source": [
    "[a for a in map_obj]"
   ]
  },
  {
   "cell_type": "markdown",
   "id": "25e47ae1-f364-485b-9e34-e8cfa25c1f90",
   "metadata": {},
   "source": [
    "## filter()\n",
    "\n",
    "The `filter()` function in Python is used to filter an iterable (e.g., a list or a tuple) based on a given condition. It takes two arguments: a `function` that specifies the condition, and an `iterable` to be filtered. \n",
    "\n",
    "The function returns an iterator that contains the elements from the iterable that satisfy the condition specified by the function. The general syntax for `filter()` is:\n",
    "\n",
    "```python\n",
    "filter(function, iterable)\n",
    "```"
   ]
  },
  {
   "cell_type": "code",
   "execution_count": 59,
   "id": "b25c4e0b-c2a1-4d64-8ab1-56843db6596e",
   "metadata": {},
   "outputs": [],
   "source": [
    "def even(num):\n",
    "    return num % 2 == 0"
   ]
  },
  {
   "cell_type": "code",
   "execution_count": 88,
   "id": "71722ff6-cd54-44ac-9076-da5948773f52",
   "metadata": {},
   "outputs": [],
   "source": [
    "f_obj = filter(even, [1,3,4,6,8,9])"
   ]
  },
  {
   "cell_type": "code",
   "execution_count": 89,
   "id": "53229648-ef23-4488-8446-d775a4b52b40",
   "metadata": {},
   "outputs": [
    {
     "data": {
      "text/plain": [
       "[4, 6, 8]"
      ]
     },
     "execution_count": 89,
     "metadata": {},
     "output_type": "execute_result"
    }
   ],
   "source": [
    "list(f_obj)"
   ]
  },
  {
   "cell_type": "code",
   "execution_count": 90,
   "id": "c5372acb-d37e-47bc-997e-2fd383e35651",
   "metadata": {},
   "outputs": [
    {
     "data": {
      "text/plain": [
       "[]"
      ]
     },
     "execution_count": 90,
     "metadata": {},
     "output_type": "execute_result"
    }
   ],
   "source": [
    "list(f_obj)"
   ]
  },
  {
   "cell_type": "markdown",
   "id": "edcbd451-8565-4e3d-a796-b460164fa157",
   "metadata": {},
   "source": [
    "## reduce()\n",
    "\n",
    "The `reduce()` function in Python is used to apply a given function to the items of an iterable (e.g., a list or a tuple) in a cumulative way, that is, it applies the function to the first two elements, then to the result and the next element, and so on, until all the items have been processed. The general syntax for `reduce()` is:\n",
    "\n",
    "```python\n",
    "reduce(function, iterable[, initializer])\n",
    "```\n",
    "\n",
    "where `function` is the function to be applied cumulatively to the items of the iterable, and `initializer` is an optional initial value to be used as the starting point of the cumulative computation. If `initializer` is not provided, the first two elements of the iterable are used as the initial values.\n",
    "\n",
    "Here's an example that demonstrates how to use `reduce()` to compute the product of all the elements in a list:"
   ]
  },
  {
   "cell_type": "code",
   "execution_count": 67,
   "id": "10b52a07-76a9-43a2-96bb-6afdc2ff9869",
   "metadata": {},
   "outputs": [],
   "source": [
    "from functools import reduce"
   ]
  },
  {
   "cell_type": "code",
   "execution_count": 82,
   "id": "d96295fc-fd86-41a4-ab0e-cd0e7cf1ab60",
   "metadata": {},
   "outputs": [],
   "source": [
    "mylist = [1,2,3,4,5]"
   ]
  },
  {
   "cell_type": "code",
   "execution_count": 83,
   "id": "35068d73-21ec-4ab1-8058-31290577687d",
   "metadata": {},
   "outputs": [],
   "source": [
    "def add(x,y):\n",
    "    return x * y"
   ]
  },
  {
   "cell_type": "code",
   "execution_count": 84,
   "id": "4a1a9b66-1af3-497a-951e-12fcc0a9cf0c",
   "metadata": {},
   "outputs": [],
   "source": [
    "red_obj =reduce(add, mylist)"
   ]
  },
  {
   "cell_type": "code",
   "execution_count": 85,
   "id": "607d7027-04cc-477b-9715-3fa158a4fca0",
   "metadata": {},
   "outputs": [
    {
     "data": {
      "text/plain": [
       "120"
      ]
     },
     "execution_count": 85,
     "metadata": {},
     "output_type": "execute_result"
    }
   ],
   "source": [
    "red_obj"
   ]
  },
  {
   "cell_type": "markdown",
   "id": "d46d4c54-1e65-46f6-8524-276146214aad",
   "metadata": {},
   "source": [
    "For example, reduce(add, [1, 2, 3, 4, 5]) calculates((((1+2)+3)+4)+5)."
   ]
  },
  {
   "cell_type": "code",
   "execution_count": null,
   "id": "ac7fe5ee-dffd-48c8-a243-5535afce96a8",
   "metadata": {},
   "outputs": [],
   "source": []
  },
  {
   "cell_type": "code",
   "execution_count": null,
   "id": "bf83a139-10b6-4ff0-9fde-35ccc6fc3943",
   "metadata": {},
   "outputs": [],
   "source": []
  },
  {
   "cell_type": "code",
   "execution_count": 102,
   "id": "b8c99211-c03c-4f53-8ced-910605a95fff",
   "metadata": {},
   "outputs": [
    {
     "data": {
      "text/plain": [
       "[25, 45, 65]"
      ]
     },
     "execution_count": 102,
     "metadata": {},
     "output_type": "execute_result"
    }
   ],
   "source": [
    "team_a = [10, 20, 30]\n",
    "team_b = [15, 25, 35]\n",
    "# Output: [25, 45, 65]\n",
    "\n",
    "scores = [ sum(score) for score in zip(team_a, team_b) ]\n",
    "scores"
   ]
  },
  {
   "cell_type": "code",
   "execution_count": 104,
   "id": "8bc37891-21aa-44f8-8759-976c09225450",
   "metadata": {},
   "outputs": [
    {
     "data": {
      "text/plain": [
       "[25, 45, 65]"
      ]
     },
     "execution_count": 104,
     "metadata": {},
     "output_type": "execute_result"
    }
   ],
   "source": [
    "mobj = map(sum, zip(team_a, team_b))\n",
    "list(mobj)"
   ]
  },
  {
   "cell_type": "code",
   "execution_count": null,
   "id": "92e5d5b3-604c-456c-bc54-5c703e518153",
   "metadata": {},
   "outputs": [],
   "source": []
  },
  {
   "cell_type": "code",
   "execution_count": 111,
   "id": "1c6a155b-2ffe-4ac0-a660-b3d197f63ff4",
   "metadata": {},
   "outputs": [
    {
     "data": {
      "text/plain": [
       "False"
      ]
     },
     "execution_count": 111,
     "metadata": {},
     "output_type": "execute_result"
    }
   ],
   "source": [
    "team_tasks = [\n",
    "    [True, True, True],       # Alice\n",
    "    [True, False, True],      # Bob\n",
    "    [False, True, True]        # Carol\n",
    "]\n",
    "# Output: any_missed = True, all_done = False\n",
    "\n",
    "all([all(each) for each in team_tasks])"
   ]
  },
  {
   "cell_type": "code",
   "execution_count": 112,
   "id": "320ec612-f1d4-4ce0-bd1a-54471d314d25",
   "metadata": {},
   "outputs": [
    {
     "data": {
      "text/plain": [
       "True"
      ]
     },
     "execution_count": 112,
     "metadata": {},
     "output_type": "execute_result"
    }
   ],
   "source": [
    "any([all(each) for each in team_tasks])"
   ]
  },
  {
   "cell_type": "code",
   "execution_count": null,
   "id": "ae39c651-3e81-4e58-b3a1-7c55d7c4dbfa",
   "metadata": {},
   "outputs": [],
   "source": []
  }
 ],
 "metadata": {
  "kernelspec": {
   "display_name": "Python 3 (ipykernel)",
   "language": "python",
   "name": "python3"
  },
  "language_info": {
   "codemirror_mode": {
    "name": "ipython",
    "version": 3
   },
   "file_extension": ".py",
   "mimetype": "text/x-python",
   "name": "python",
   "nbconvert_exporter": "python",
   "pygments_lexer": "ipython3",
   "version": "3.12.7"
  }
 },
 "nbformat": 4,
 "nbformat_minor": 5
}
