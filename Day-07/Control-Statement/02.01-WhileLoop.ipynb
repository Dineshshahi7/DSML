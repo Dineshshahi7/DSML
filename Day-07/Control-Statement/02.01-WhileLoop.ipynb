{
 "cells": [
  {
   "cell_type": "markdown",
   "id": "8733eab4-0122-4fb0-b15e-fc653d2249b0",
   "metadata": {},
   "source": [
    "## 2. Python While Loop\n",
    "\n",
    "The `while` loop is used in Python to repeat a block of code as long as a certain condition is true. The basic syntax of a while loop is as follows:\n",
    "\n",
    "```python\n",
    "while condition:\n",
    "    do something\n",
    "```\n",
    "\n",
    "The `condition` is an expression that returns a boolean value (`True` or `False`). The code block that follows the `while` statement is executed repeatedly as long as the condition is `True`. If the condition is initially `False`, then the code block is skipped entirely.\n",
    "\n",
    "Here's an example of how to use the while loop in Python:"
   ]
  },
  {
   "cell_type": "code",
   "execution_count": 1,
   "id": "3e1780a5-1a96-4bf5-963f-6d73821f735b",
   "metadata": {},
   "outputs": [
    {
     "name": "stdout",
     "output_type": "stream",
     "text": [
      "0\n",
      "1\n",
      "2\n",
      "3\n",
      "4\n"
     ]
    }
   ],
   "source": [
    "i = 0\n",
    "\n",
    "while i < 5:\n",
    "    print(i)\n",
    "    i += 1"
   ]
  },
  {
   "cell_type": "markdown",
   "id": "b2a18550-20ac-4cb2-9368-012a1db6b77e",
   "metadata": {},
   "source": [
    "In this example, the `while` loop repeats the code block as long as `i` is less than `5`. The code block that follows the `while` statement (which is just a print statement and an increment statement in this case) is executed repeatedly as long as the condition is `True`.\n",
    "\n",
    "It's important to be careful with `while` loops to avoid creating an infinite loop. If the condition is always `True`, then the loop will continue to run indefinitely. Here's an example of an infinite loop:"
   ]
  },
  {
   "cell_type": "code",
   "execution_count": 2,
   "id": "6bb2bec1-ea96-49b0-b706-bbd8c2f43896",
   "metadata": {},
   "outputs": [],
   "source": [
    "# i = 0\n",
    "\n",
    "# while i < 5:\n",
    "#     print(i)"
   ]
  },
  {
   "cell_type": "code",
   "execution_count": null,
   "id": "d8274cbb-32fb-4f46-a2ad-a83d9ee10b4b",
   "metadata": {},
   "outputs": [],
   "source": []
  },
  {
   "cell_type": "markdown",
   "id": "45468436-19bd-4ae2-b0bb-d3965974acc5",
   "metadata": {},
   "source": [
    "**break statement**\n",
    "\n",
    "If we want to terminate loops at certain point we can use `break` inside the loops (works for both `for` and `while` loops). Here's an example:"
   ]
  },
  {
   "cell_type": "code",
   "execution_count": 3,
   "id": "e64e6ee4-b494-4379-a550-e7d25663c411",
   "metadata": {},
   "outputs": [
    {
     "name": "stdout",
     "output_type": "stream",
     "text": [
      "0\n",
      "1\n",
      "2\n",
      "3\n",
      "4\n"
     ]
    }
   ],
   "source": [
    "i = 0\n",
    "\n",
    "while i < 10:\n",
    "    print(i)\n",
    "    i += 1\n",
    "\n",
    "    if i == 5:\n",
    "        break"
   ]
  },
  {
   "cell_type": "code",
   "execution_count": 4,
   "id": "a0515b7c-2cba-4ce7-b18f-1c976b914e77",
   "metadata": {},
   "outputs": [
    {
     "name": "stdout",
     "output_type": "stream",
     "text": [
      "0\n",
      "1\n",
      "2\n",
      "3\n",
      "4\n",
      "5\n"
     ]
    }
   ],
   "source": [
    "for i in range(10):\n",
    "    print(i)\n",
    "    \n",
    "    if i==5:\n",
    "        break"
   ]
  },
  {
   "cell_type": "code",
   "execution_count": null,
   "id": "2aac8735-cd63-49a7-a7f6-873d9f6a0e26",
   "metadata": {},
   "outputs": [],
   "source": []
  },
  {
   "cell_type": "markdown",
   "id": "aff48cbc-008e-4cd2-8f5c-9e2f2033d7c2",
   "metadata": {},
   "source": [
    "**continue statement**\n",
    "\n",
    "If we want to skips loops at certain point we can use `continue` inside the loops (works for both `for` and `while` loops). Here's an example:"
   ]
  },
  {
   "cell_type": "code",
   "execution_count": 5,
   "id": "0864b442-1e63-4d95-96b6-d8a3ae8156f4",
   "metadata": {},
   "outputs": [
    {
     "name": "stdout",
     "output_type": "stream",
     "text": [
      "Saimon\n",
      "Jhon\n"
     ]
    }
   ],
   "source": [
    "names = [\"Saimon\", \"Jesus\", \"Jhon\"]\n",
    "\n",
    "for name in names:\n",
    "    if name == \"Jesus\":\n",
    "        continue\n",
    "        \n",
    "    print(name)"
   ]
  },
  {
   "cell_type": "markdown",
   "id": "0c2cb31e-a9ae-46d3-8776-fc6687a7fd02",
   "metadata": {},
   "source": [
    "### Write a Program to Calculate the Sum of the First N Natural Numbers (Use while loop)."
   ]
  },
  {
   "cell_type": "code",
   "execution_count": 11,
   "id": "0faea438-8d52-4544-914a-54cfb1279477",
   "metadata": {},
   "outputs": [
    {
     "name": "stdout",
     "output_type": "stream",
     "text": [
      "The sum of the first 5 natural numbers is: 120\n"
     ]
    }
   ],
   "source": [
    "number= 5\n",
    "total_prod = 1\n",
    "i =1\n",
    "while i <= number:\n",
    "    total_prod = total_prod * i\n",
    "    i+=1\n",
    "\n",
    "\n",
    "print(f\"The sum of the first {number} natural numbers is: {total_prod}\")"
   ]
  },
  {
   "cell_type": "code",
   "execution_count": 8,
   "id": "ecd7a7a2-be13-4acb-970b-2ce8a3c04d8b",
   "metadata": {},
   "outputs": [
    {
     "data": {
      "text/plain": [
       "int"
      ]
     },
     "execution_count": 8,
     "metadata": {},
     "output_type": "execute_result"
    }
   ],
   "source": [
    "type(total_prod)"
   ]
  },
  {
   "cell_type": "code",
   "execution_count": null,
   "id": "a7be5f9d-cab9-49fa-b77b-ff9e70d3ff52",
   "metadata": {},
   "outputs": [],
   "source": []
  }
 ],
 "metadata": {
  "kernelspec": {
   "display_name": "Python 3 (ipykernel)",
   "language": "python",
   "name": "python3"
  },
  "language_info": {
   "codemirror_mode": {
    "name": "ipython",
    "version": 3
   },
   "file_extension": ".py",
   "mimetype": "text/x-python",
   "name": "python",
   "nbconvert_exporter": "python",
   "pygments_lexer": "ipython3",
   "version": "3.10.12"
  }
 },
 "nbformat": 4,
 "nbformat_minor": 5
}
