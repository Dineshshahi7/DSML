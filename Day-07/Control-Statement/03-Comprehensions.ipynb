{
 "cells": [
  {
   "cell_type": "markdown",
   "id": "e9891eae-e493-4b8d-80e6-aec0fccb960f",
   "metadata": {},
   "source": [
    "# Python Comprehensions\n",
    "\n",
    "In Python, comprehensions provide a concise way to create sequences like lists, dictionaries, and sets. They are a more readable and often more efficient alternative to using traditional loops to generate sequences.\n",
    "\n",
    "There are three types of comprehensions in Python: list comprehensions, dictionary comprehensions, and set comprehensions.\n",
    "\n"
   ]
  },
  {
   "cell_type": "markdown",
   "id": "845f50e7-8673-4a57-a5a3-31c7ab4950de",
   "metadata": {},
   "source": [
    "## 1. List Comprehensions\n",
    "\n",
    "In Python, list comprehension is a concise way to create lists. It provides a compact syntax for mapping a given iterable (e.g. list, tuple) to a new list by applying a specific expression to each element in the original iterable.\n",
    "\n",
    "Syntax: \n",
    "```python\n",
    "output = [ <expression> for items in iterables if <condition>]\n",
    "```\n",
    "\n",
    "In this syntax, `expression` is the operation to be performed on each item in the iterable, `item` is the variable that represents each element in the iterable, and `condition` is an optional filter that can be applied to select only certain elements from the iterable.\n"
   ]
  },
  {
   "cell_type": "code",
   "execution_count": 3,
   "id": "e6397ca3-3c2e-44a5-8d63-6993d8cb3562",
   "metadata": {},
   "outputs": [
    {
     "name": "stdout",
     "output_type": "stream",
     "text": [
      "[1, 4, 9, 16, 25, 36, 49, 64, 81]\n"
     ]
    }
   ],
   "source": [
    "# Usual Way\n",
    "squared =  []\n",
    "for num in range(1,10):\n",
    "    squared.append(num ** 2)\n",
    "\n",
    "print(squared)"
   ]
  },
  {
   "cell_type": "code",
   "execution_count": 4,
   "id": "8040a55e-196a-445b-8878-d97d773bbcec",
   "metadata": {},
   "outputs": [
    {
     "name": "stdout",
     "output_type": "stream",
     "text": [
      "[1, 4, 9, 16, 25, 36, 49, 64, 81]\n"
     ]
    }
   ],
   "source": [
    "# list comprehensions\n",
    "squared = [num ** 2 for num in range(1,10)]\n",
    "print(squared)"
   ]
  },
  {
   "cell_type": "markdown",
   "id": "7a5b3327-03bd-410c-ad3b-6c57b69fbfb3",
   "metadata": {},
   "source": [
    "In this example, the expression `num ** 2` is applied to each element in the `numbers` list, and the results are stored in a new list called `c_squared`.\n",
    "\n",
    "You can also add an optional condition to the list comprehension. For example, here is a list comprehension that filters out even numbers from the original list:"
   ]
  },
  {
   "cell_type": "code",
   "execution_count": 5,
   "id": "351ef0eb-d88c-4cda-9009-058b588e568c",
   "metadata": {},
   "outputs": [
    {
     "name": "stdout",
     "output_type": "stream",
     "text": [
      "[2, 4, 6, 8]\n"
     ]
    }
   ],
   "source": [
    "# list comprehensions\n",
    "even = [num for num in range(1,10) if num % 2 == 0]\n",
    "print(even)"
   ]
  },
  {
   "cell_type": "code",
   "execution_count": null,
   "id": "68e99cd7-541e-4982-aed1-8dd77d814399",
   "metadata": {},
   "outputs": [],
   "source": []
  },
  {
   "cell_type": "code",
   "execution_count": 6,
   "id": "22c11b42-8799-4533-8dae-a0c49d910498",
   "metadata": {},
   "outputs": [
    {
     "name": "stdout",
     "output_type": "stream",
     "text": [
      "[1, 4, 3, 16, 5, 36, 7, 64, 9]\n"
     ]
    }
   ],
   "source": [
    "res = [num ** 2 if num%2 ==0 else num for num in range(1,10)]\n",
    "print(res)"
   ]
  },
  {
   "cell_type": "code",
   "execution_count": null,
   "id": "ff16e63c-0692-4a1b-b298-3f5827035d1e",
   "metadata": {},
   "outputs": [],
   "source": []
  },
  {
   "cell_type": "markdown",
   "id": "b5ad6b27-ea10-43b5-a9b1-b07379fb85f9",
   "metadata": {},
   "source": [
    "List comprehensions can also be nested, allowing you to create more complex sequences. Here is an example that creates a list of tuples:"
   ]
  },
  {
   "cell_type": "code",
   "execution_count": 8,
   "id": "2181dba0-f45a-40f2-8785-d034a354b90a",
   "metadata": {},
   "outputs": [
    {
     "name": "stdout",
     "output_type": "stream",
     "text": [
      "[('red', 'apple'), ('red', 'banana'), ('red', 'mango'), ('big', 'apple'), ('big', 'banana'), ('big', 'mango'), ('tasty', 'apple'), ('tasty', 'banana'), ('tasty', 'mango')]\n"
     ]
    }
   ],
   "source": [
    "adjective = ['red','big','tasty']\n",
    "fruits = ['apple','banana','mango']\n",
    "\n",
    "# for a in adjective:\n",
    "#     for f in fruits:\n",
    "#         print(a,f)\n",
    "\n",
    "pair = [(a,f) for a in adjective for f in fruits]\n",
    "print(pair)"
   ]
  },
  {
   "cell_type": "code",
   "execution_count": null,
   "id": "765bbe75-c0e5-442d-8cca-24e46ae6d990",
   "metadata": {},
   "outputs": [],
   "source": []
  },
  {
   "cell_type": "markdown",
   "id": "c0356f13-4e39-41d0-b596-d89eaf919fad",
   "metadata": {},
   "source": [
    "### Count number of letters for each words in following sentence."
   ]
  },
  {
   "cell_type": "code",
   "execution_count": 9,
   "id": "ed34417a-b7c8-41c4-aa4b-b1e9b81bd371",
   "metadata": {},
   "outputs": [
    {
     "name": "stdout",
     "output_type": "stream",
     "text": [
      "A single training set that has already been processed is usually split into several types of datasets in machine learning which is needed to check how well the training of the model went\n"
     ]
    }
   ],
   "source": [
    "sent = \"A single training set that has already been processed is usually split into several types of datasets in machine learning which is needed to check how well the training of the model went\"\n",
    "print(sent)"
   ]
  },
  {
   "cell_type": "code",
   "execution_count": 16,
   "id": "3ff0006c-7b70-4c77-b9c2-5210cfab63f8",
   "metadata": {},
   "outputs": [
    {
     "name": "stdout",
     "output_type": "stream",
     "text": [
      "[1, 6, 8, 3, 4, 3, 7, 4, 9, 2, 7, 5, 4, 7, 5, 2, 8, 2, 7, 8, 5, 2, 6, 2, 5, 3, 4, 3, 8, 2, 3, 5, 4]\n"
     ]
    }
   ],
   "source": [
    "coount = [len(word) for word in sent.split()]\n",
    "print(coount)"
   ]
  },
  {
   "cell_type": "code",
   "execution_count": null,
   "id": "e33eeed6-c9d2-45e5-bb1b-34210d2d91ee",
   "metadata": {},
   "outputs": [],
   "source": []
  }
 ],
 "metadata": {
  "kernelspec": {
   "display_name": "Python 3 (ipykernel)",
   "language": "python",
   "name": "python3"
  },
  "language_info": {
   "codemirror_mode": {
    "name": "ipython",
    "version": 3
   },
   "file_extension": ".py",
   "mimetype": "text/x-python",
   "name": "python",
   "nbconvert_exporter": "python",
   "pygments_lexer": "ipython3",
   "version": "3.10.12"
  }
 },
 "nbformat": 4,
 "nbformat_minor": 5
}
