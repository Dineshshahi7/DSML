{
 "cells": [
  {
   "cell_type": "markdown",
   "id": "d481df1f-a616-433c-8d8e-793cb661f603",
   "metadata": {},
   "source": [
    "# Python Loop Statements\n",
    "\n",
    "In Python, loops are used to execute a block of code repeatedly. There are two types of loops in Python: for loops and while loops.\n"
   ]
  },
  {
   "cell_type": "markdown",
   "id": "429a907c-50c7-4c5a-b875-f13daf4ecf3e",
   "metadata": {},
   "source": [
    "## 1. Python For Loop\n",
    "\n",
    "The `for` loop is used in Python to iterate over a sequence of values, such as a list, tuple, string, or range. The basic syntax of a `for` loop is as follows:\n",
    "\n",
    "Syntax:\n",
    "```python\n",
    "for item in items:\n",
    "    do somethings\n",
    "```\n",
    "\n",
    "The `item` is a new variable that is created with each iteration of the loop, and takes on the value of the next element in the `items`. The code block that follows the `for` statement is executed for each value in the `items`.\n",
    "\n",
    "Here's an example of how to use the `for` loop to iterate over a list:"
   ]
  },
  {
   "cell_type": "code",
   "execution_count": 1,
   "id": "0747f250-4b94-40e5-9370-c0c3c81ad866",
   "metadata": {},
   "outputs": [],
   "source": [
    "fruits = ['apple',\"banana\",\"cherry\"]"
   ]
  },
  {
   "cell_type": "code",
   "execution_count": 2,
   "id": "8010aec7-bb1b-4f74-9a05-0b14faf4cba3",
   "metadata": {},
   "outputs": [
    {
     "name": "stdout",
     "output_type": "stream",
     "text": [
      "Fruit apple\n",
      "Fruit banana\n",
      "Fruit cherry\n",
      "completed\n"
     ]
    }
   ],
   "source": [
    "for each in fruits:\n",
    "    print(f\"Fruit {each}\")\n",
    "\n",
    "print(\"completed\")"
   ]
  },
  {
   "cell_type": "code",
   "execution_count": null,
   "id": "ffeaf3a0-2ea3-46dd-a98f-4f9faa563126",
   "metadata": {},
   "outputs": [],
   "source": []
  },
  {
   "cell_type": "markdown",
   "id": "9b5a6408-fb1d-4df6-bfbb-ad1981ffdb02",
   "metadata": {},
   "source": [
    "The `range` function is commonly used in `for` loops to generate a sequence of integers. Here's an example:"
   ]
  },
  {
   "cell_type": "code",
   "execution_count": 4,
   "id": "5d7f23d3-b25d-454d-9c2f-54305f7ebe1d",
   "metadata": {},
   "outputs": [
    {
     "data": {
      "text/plain": [
       "[0, 1, 2, 3, 4, 5, 6, 7, 8, 9]"
      ]
     },
     "execution_count": 4,
     "metadata": {},
     "output_type": "execute_result"
    }
   ],
   "source": [
    "list(range(10))"
   ]
  },
  {
   "cell_type": "code",
   "execution_count": 7,
   "id": "a137341c-2784-4344-aa12-1916afbbeb10",
   "metadata": {},
   "outputs": [
    {
     "data": {
      "text/plain": [
       "[10, 15, 20, 25, 30, 35, 40, 45, 50, 55, 60, 65, 70, 75, 80, 85, 90, 95]"
      ]
     },
     "execution_count": 7,
     "metadata": {},
     "output_type": "execute_result"
    }
   ],
   "source": [
    "list(range(10,100,5))"
   ]
  },
  {
   "cell_type": "code",
   "execution_count": 8,
   "id": "3ab78769-6dac-4820-ac07-7dfa8ac718bd",
   "metadata": {},
   "outputs": [
    {
     "name": "stdout",
     "output_type": "stream",
     "text": [
      "0\n",
      "1\n",
      "2\n",
      "3\n",
      "4\n",
      "5\n",
      "6\n",
      "7\n",
      "8\n",
      "9\n"
     ]
    }
   ],
   "source": [
    "for i in range(10):\n",
    "    print(i)"
   ]
  },
  {
   "cell_type": "raw",
   "id": "3090c506-b4cd-46a5-a40d-8cf3fd3a4968",
   "metadata": {},
   "source": [
    "*\n",
    "**\n",
    "***\n",
    "****\n",
    "*****"
   ]
  },
  {
   "cell_type": "code",
   "execution_count": 15,
   "id": "7b2f0260-7606-4b56-aa61-1bbe4b405981",
   "metadata": {},
   "outputs": [
    {
     "name": "stdout",
     "output_type": "stream",
     "text": [
      "*\n",
      "**\n",
      "***\n",
      "****\n",
      "*****\n"
     ]
    }
   ],
   "source": [
    "for i in range(1,6):\n",
    "    print(\"*\" * i)"
   ]
  },
  {
   "cell_type": "markdown",
   "id": "b14bcf84-dc16-44ff-b242-c8a4e5d45e5c",
   "metadata": {},
   "source": [
    "`Nested for` loops can also be used to iterate over multiple sequences. Here's an example:"
   ]
  },
  {
   "cell_type": "code",
   "execution_count": 20,
   "id": "63a6f139-d6da-42cc-9819-16ce5b97b162",
   "metadata": {},
   "outputs": [],
   "source": [
    "adj = ['red','big','tasty']\n",
    "fruits = ['apple',\"banana\",\"cherry\"]"
   ]
  },
  {
   "cell_type": "code",
   "execution_count": 21,
   "id": "196d889a-ad6d-4ba1-bb42-82c6bd90bf11",
   "metadata": {},
   "outputs": [
    {
     "name": "stdout",
     "output_type": "stream",
     "text": [
      "red apple\n",
      "red banana\n",
      "red cherry\n",
      "big apple\n",
      "big banana\n",
      "big cherry\n",
      "tasty apple\n",
      "tasty banana\n",
      "tasty cherry\n"
     ]
    }
   ],
   "source": [
    "for a in adj:\n",
    "    for f in fruits:\n",
    "        print(a, f)"
   ]
  },
  {
   "cell_type": "code",
   "execution_count": null,
   "id": "484a6a46-f633-4229-8dd3-536052ae3237",
   "metadata": {},
   "outputs": [],
   "source": []
  },
  {
   "cell_type": "markdown",
   "id": "42cc77af-30ac-460d-a03f-c7106d05ef92",
   "metadata": {},
   "source": [
    "Multiple args in for loop"
   ]
  },
  {
   "cell_type": "code",
   "execution_count": 3,
   "id": "a100248c-58f7-4638-8cdc-b3d9f155208e",
   "metadata": {},
   "outputs": [
    {
     "data": {
      "text/plain": [
       "[('name', 'vince'), ('age', 30), ('gender', 'male')]"
      ]
     },
     "execution_count": 3,
     "metadata": {},
     "output_type": "execute_result"
    }
   ],
   "source": [
    "person = {\n",
    "    \"name\" : \"vince\",\n",
    "    \"age\" : 30,\n",
    "    \"gender\" : \"male\"\n",
    "}\n",
    "person_list = list(person.items())\n",
    "person_list"
   ]
  },
  {
   "cell_type": "code",
   "execution_count": 4,
   "id": "3033f37e-071e-4cda-9b8b-33a86eacab41",
   "metadata": {},
   "outputs": [
    {
     "name": "stdout",
     "output_type": "stream",
     "text": [
      "('name', 'vince')\n",
      "('age', 30)\n",
      "('gender', 'male')\n"
     ]
    }
   ],
   "source": [
    "for each in person_list:\n",
    "    print(each)"
   ]
  },
  {
   "cell_type": "code",
   "execution_count": 5,
   "id": "d547fcc6-389b-41fa-b2df-958e46d1c8eb",
   "metadata": {},
   "outputs": [
    {
     "name": "stdout",
     "output_type": "stream",
     "text": [
      "Key: name = vince\n",
      "Key: age = 30\n",
      "Key: gender = male\n"
     ]
    }
   ],
   "source": [
    "for (key, value) in person_list:\n",
    "    print(f\"Key: {key} = {value}\")"
   ]
  },
  {
   "cell_type": "code",
   "execution_count": 12,
   "id": "d7fa10ac-5892-481c-88b9-87dc3c787f3b",
   "metadata": {},
   "outputs": [
    {
     "name": "stdout",
     "output_type": "stream",
     "text": [
      "[[1, 2, 3], [4, 5, 6], [2, 4, 9]]\n"
     ]
    }
   ],
   "source": [
    "coord = [[1,2,3],[4,5,6],[2,4,9]]\n",
    "print(coord)"
   ]
  },
  {
   "cell_type": "code",
   "execution_count": 14,
   "id": "5b32e495-5c97-4d1a-adb7-e9290d79461d",
   "metadata": {},
   "outputs": [
    {
     "name": "stdout",
     "output_type": "stream",
     "text": [
      "1 2 3\n",
      "4 5 6\n",
      "2 4 9\n"
     ]
    }
   ],
   "source": [
    "for (x, y, z) in coord:\n",
    "    print(x,y,z)"
   ]
  },
  {
   "cell_type": "markdown",
   "id": "3d417a92-ef5e-4cab-ab85-f5cb7addda0f",
   "metadata": {},
   "source": [
    "### Write a Program to Display the Multiplication Table of a Given Number:\n",
    "Create a Python program that asks the user to enter an integer, and then prints the multiplication table for that number from 1 to 10. Use a for loop to generate and display the table."
   ]
  },
  {
   "cell_type": "code",
   "execution_count": 21,
   "id": "734a7397-f1e5-462b-aaf0-9e284fb899d2",
   "metadata": {},
   "outputs": [
    {
     "name": "stdin",
     "output_type": "stream",
     "text": [
      "enter a number 8\n"
     ]
    },
    {
     "name": "stdout",
     "output_type": "stream",
     "text": [
      "8 x 1 = 8\n",
      "8 x 2 = 16\n",
      "8 x 3 = 24\n",
      "8 x 4 = 32\n",
      "8 x 5 = 40\n",
      "8 x 6 = 48\n",
      "8 x 7 = 56\n",
      "8 x 8 = 64\n",
      "8 x 9 = 72\n",
      "8 x 10 = 80\n"
     ]
    }
   ],
   "source": [
    "i = int(input(\"enter a number\"))\n",
    "\n",
    "for x in range(1,11):\n",
    "    print(f\"{i} x {x} = {x*i}\")"
   ]
  },
  {
   "cell_type": "markdown",
   "id": "8587722d-bd49-48f1-9372-570d212260ea",
   "metadata": {},
   "source": [
    "### Python program to seperate even and odd numbers from a series of numbers\n",
    "\n",
    "numbers = [2,5,3,6,7,33,5,8,68,0,12,4,6,66,9,101,55,32,89]"
   ]
  },
  {
   "cell_type": "code",
   "execution_count": 24,
   "id": "78e8f964-7ea8-44af-83d7-dc22cc78e406",
   "metadata": {},
   "outputs": [
    {
     "name": "stdout",
     "output_type": "stream",
     "text": [
      "Even Numbers are: [2, 6, 8, 68, 0, 12, 4, 6, 66, 32]\n",
      "Odd Numbers are: [5, 3, 7, 33, 5, 9, 101, 55, 89]\n"
     ]
    }
   ],
   "source": [
    "odd, even = [] , []\n",
    "\n",
    "numbers = [2,5,3,6,7,33,5,8,68,0,12,4,6,66,9,101,55,32,89]\n",
    "for num in numbers:\n",
    "    if num % 2 != 0:\n",
    "        odd.append(num)\n",
    "    else:\n",
    "        even.append(num)\n",
    "\n",
    "print(f\"Even Numbers are: {even}\")\n",
    "print(f\"Odd Numbers are: {odd}\")"
   ]
  },
  {
   "cell_type": "raw",
   "id": "3bb89062-bc23-4e2d-a19f-e4dec154e44b",
   "metadata": {},
   "source": [
    "# Single line if .. else\n",
    "\n",
    "<True expression> if <condition> else < False expression>\n",
    "\n",
    "if <condition>\n",
    "    <True code-block>\n",
    "else\n",
    "    <False code-block>"
   ]
  },
  {
   "cell_type": "code",
   "execution_count": 25,
   "id": "e1c35976-5ec2-4ce0-a21d-bc929f1abff7",
   "metadata": {},
   "outputs": [
    {
     "name": "stdout",
     "output_type": "stream",
     "text": [
      "Even Numbers are: [2, 6, 8, 68, 0, 12, 4, 6, 66, 32]\n",
      "Odd Numbers are: [5, 3, 7, 33, 5, 9, 101, 55, 89]\n"
     ]
    }
   ],
   "source": [
    "odd, even = [] , []\n",
    "\n",
    "numbers = [2,5,3,6,7,33,5,8,68,0,12,4,6,66,9,101,55,32,89]\n",
    "for num in numbers:\n",
    "    odd.append(num) if num % 2 != 0 else even.append(num)\n",
    "\n",
    "print(f\"Even Numbers are: {even}\")\n",
    "print(f\"Odd Numbers are: {odd}\")"
   ]
  },
  {
   "cell_type": "code",
   "execution_count": null,
   "id": "32a1523e-4f45-423b-a20a-390a75c52c79",
   "metadata": {},
   "outputs": [],
   "source": []
  }
 ],
 "metadata": {
  "kernelspec": {
   "display_name": "Python 3 (ipykernel)",
   "language": "python",
   "name": "python3"
  },
  "language_info": {
   "codemirror_mode": {
    "name": "ipython",
    "version": 3
   },
   "file_extension": ".py",
   "mimetype": "text/x-python",
   "name": "python",
   "nbconvert_exporter": "python",
   "pygments_lexer": "ipython3",
   "version": "3.10.12"
  }
 },
 "nbformat": 4,
 "nbformat_minor": 5
}
