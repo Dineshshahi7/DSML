{
 "cells": [
  {
   "cell_type": "markdown",
   "id": "2e959342-2d0c-4cfe-851c-56d0662c1d93",
   "metadata": {},
   "source": [
    "# Python Text Type\n",
    "\n",
    "In Python, strings (`str`) are used to represent text data. Here's a brief overview of the Python string type.\n",
    "\n",
    "## Defining strings\n",
    "\n",
    "You can define a string in Python by enclosing the text in either single or double quotes. Here are some examples:"
   ]
  },
  {
   "cell_type": "code",
   "execution_count": 3,
   "id": "3470f749-6b2a-476f-9e4c-98528569b40e",
   "metadata": {},
   "outputs": [],
   "source": [
    "name = \"fhareh574&&$^&\""
   ]
  },
  {
   "cell_type": "code",
   "execution_count": 4,
   "id": "388e5883-0db3-4a96-a6e4-e3f398a5ff5d",
   "metadata": {},
   "outputs": [
    {
     "data": {
      "text/plain": [
       "str"
      ]
     },
     "execution_count": 4,
     "metadata": {},
     "output_type": "execute_result"
    }
   ],
   "source": [
    "type(name)"
   ]
  },
  {
   "cell_type": "code",
   "execution_count": 5,
   "id": "6f13daa5-c773-47a8-a651-3e5e9a7ad725",
   "metadata": {},
   "outputs": [],
   "source": [
    "sent = \"\"\"\n",
    "    line 1\n",
    "    line 2\n",
    "\"\"\""
   ]
  },
  {
   "cell_type": "code",
   "execution_count": 7,
   "id": "0547c37e-e0aa-4912-a39a-1a4cfddeec61",
   "metadata": {},
   "outputs": [
    {
     "name": "stdout",
     "output_type": "stream",
     "text": [
      "\n",
      "    line 1\n",
      "    line 2\n",
      "\n"
     ]
    }
   ],
   "source": [
    "print(sent)"
   ]
  },
  {
   "cell_type": "code",
   "execution_count": 9,
   "id": "11ece4f7-2034-4106-9f32-07afc5dd9453",
   "metadata": {},
   "outputs": [
    {
     "data": {
      "text/plain": [
       "'22'"
      ]
     },
     "execution_count": 9,
     "metadata": {},
     "output_type": "execute_result"
    }
   ],
   "source": [
    "str(22)"
   ]
  },
  {
   "cell_type": "code",
   "execution_count": 10,
   "id": "87a23ee1-6b1a-4bc7-b9ba-0a1b348ea8cd",
   "metadata": {},
   "outputs": [],
   "source": [
    "name = \"pineapple\""
   ]
  },
  {
   "cell_type": "code",
   "execution_count": 12,
   "id": "aed18a9a-cbde-4a64-85f9-dc2f0e60f78a",
   "metadata": {},
   "outputs": [
    {
     "data": {
      "text/plain": [
       "9"
      ]
     },
     "execution_count": 12,
     "metadata": {},
     "output_type": "execute_result"
    }
   ],
   "source": [
    "len(name)"
   ]
  },
  {
   "cell_type": "markdown",
   "id": "3e71d7a9-b5b6-454b-bc49-8bac04ea4e6a",
   "metadata": {},
   "source": [
    "## String methods\n",
    "\n",
    "Python provides a variety of built-in string methods that you can use to perform operations on strings. Some common string methods include `lower()`, `upper()`, `strip()`, `replace()`, and `split()`. Here are some examples:\n",
    "\n",
    "Docs : https://python-reference.readthedocs.io/en/latest/docs/str/"
   ]
  },
  {
   "cell_type": "code",
   "execution_count": 13,
   "id": "f179d948-6e58-46d7-965d-00d1be7af7b5",
   "metadata": {},
   "outputs": [],
   "source": [
    "x = \"  Welcome  \""
   ]
  },
  {
   "cell_type": "code",
   "execution_count": 14,
   "id": "8fe887b1-b56d-4c2c-978b-83e2dd3cf9bf",
   "metadata": {},
   "outputs": [
    {
     "data": {
      "text/plain": [
       "'  welcome  '"
      ]
     },
     "execution_count": 14,
     "metadata": {},
     "output_type": "execute_result"
    }
   ],
   "source": [
    "x.lower()"
   ]
  },
  {
   "cell_type": "code",
   "execution_count": 15,
   "id": "743091ca-a3b2-4964-99b2-1877a4263062",
   "metadata": {},
   "outputs": [
    {
     "data": {
      "text/plain": [
       "'  WELCOME  '"
      ]
     },
     "execution_count": 15,
     "metadata": {},
     "output_type": "execute_result"
    }
   ],
   "source": [
    "x.upper()"
   ]
  },
  {
   "cell_type": "code",
   "execution_count": 16,
   "id": "b030579d-9bb3-4b2b-8c8a-3ec776292683",
   "metadata": {},
   "outputs": [
    {
     "data": {
      "text/plain": [
       "'Welcome'"
      ]
     },
     "execution_count": 16,
     "metadata": {},
     "output_type": "execute_result"
    }
   ],
   "source": [
    "x.strip()"
   ]
  },
  {
   "cell_type": "code",
   "execution_count": 17,
   "id": "97608879-662f-4f41-beaf-93e6a706066c",
   "metadata": {},
   "outputs": [
    {
     "data": {
      "text/plain": [
       "'  Walcoma  '"
      ]
     },
     "execution_count": 17,
     "metadata": {},
     "output_type": "execute_result"
    }
   ],
   "source": [
    "x.replace('e','a')"
   ]
  },
  {
   "cell_type": "code",
   "execution_count": 18,
   "id": "9c1e8127-0b29-4941-bea9-542d0538d6af",
   "metadata": {},
   "outputs": [
    {
     "data": {
      "text/plain": [
       "['  W', 'lcom', '  ']"
      ]
     },
     "execution_count": 18,
     "metadata": {},
     "output_type": "execute_result"
    }
   ],
   "source": [
    "x.split('e')"
   ]
  },
  {
   "cell_type": "code",
   "execution_count": 22,
   "id": "c2a6e497-9e08-4bf3-9f6e-107e5603f62b",
   "metadata": {},
   "outputs": [],
   "source": [
    "email = \"test@h.com\""
   ]
  },
  {
   "cell_type": "code",
   "execution_count": 23,
   "id": "c426e55a-c988-438c-a9f9-52d31cd2e69f",
   "metadata": {},
   "outputs": [
    {
     "data": {
      "text/plain": [
       "False"
      ]
     },
     "execution_count": 23,
     "metadata": {},
     "output_type": "execute_result"
    }
   ],
   "source": [
    "email.endswith(\"gmail.com\")"
   ]
  },
  {
   "cell_type": "markdown",
   "id": "35cbc70b-36b0-4a7a-95c6-d2e342c70d81",
   "metadata": {},
   "source": [
    "## String indexing\n",
    "\n",
    "You can access individual characters in a string using indexing. In Python, indexing starts at 0. Here are some examples:"
   ]
  },
  {
   "cell_type": "code",
   "execution_count": 27,
   "id": "a21dbc17-f568-4b12-b60a-f31def30c83f",
   "metadata": {},
   "outputs": [],
   "source": [
    "address = \"Kathmandu\""
   ]
  },
  {
   "cell_type": "code",
   "execution_count": 30,
   "id": "a8a79b85-54c7-4f5e-b074-2f054720cab2",
   "metadata": {},
   "outputs": [
    {
     "data": {
      "text/plain": [
       "'a'"
      ]
     },
     "execution_count": 30,
     "metadata": {},
     "output_type": "execute_result"
    }
   ],
   "source": [
    "address[5]"
   ]
  },
  {
   "cell_type": "code",
   "execution_count": 31,
   "id": "7f51c4b4-74ab-415f-9f68-daa24fe2ca08",
   "metadata": {},
   "outputs": [
    {
     "data": {
      "text/plain": [
       "'u'"
      ]
     },
     "execution_count": 31,
     "metadata": {},
     "output_type": "execute_result"
    }
   ],
   "source": [
    "address[-1]"
   ]
  },
  {
   "cell_type": "code",
   "execution_count": null,
   "id": "5da87ecb-ff55-4036-b875-cd63b2f63b05",
   "metadata": {},
   "outputs": [],
   "source": []
  }
 ],
 "metadata": {
  "kernelspec": {
   "display_name": "Python 3 (ipykernel)",
   "language": "python",
   "name": "python3"
  },
  "language_info": {
   "codemirror_mode": {
    "name": "ipython",
    "version": 3
   },
   "file_extension": ".py",
   "mimetype": "text/x-python",
   "name": "python",
   "nbconvert_exporter": "python",
   "pygments_lexer": "ipython3",
   "version": "3.10.12"
  }
 },
 "nbformat": 4,
 "nbformat_minor": 5
}
