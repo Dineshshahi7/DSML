{
 "cells": [
  {
   "cell_type": "markdown",
   "id": "6cafb115-61a8-4844-b20f-06224f7f03df",
   "metadata": {},
   "source": [
    "# Python Data Types\n",
    "\n",
    "- Numeric Types: int, float, complex\n",
    "- Text Type: str\n",
    "- Sequence Types: list, tuple, range\n",
    "- Set Type: set, frozenset\n",
    "- Mapping Type: dict\n",
    "- Boolean Type: bool\n",
    "- Binary Types: memoryview, bytearray, bytes\n"
   ]
  },
  {
   "cell_type": "markdown",
   "id": "8eda6b2c-0fe1-4827-82bf-eebdf4c65310",
   "metadata": {},
   "source": [
    "## Python Numerical Types"
   ]
  },
  {
   "cell_type": "markdown",
   "id": "7b61ceba-58b0-411f-a469-83ed22d00c65",
   "metadata": {},
   "source": [
    "In Python, there are three main types of numbers: integers, floating-point numbers, and complex numbers. Here's a brief overview of each type:\n",
    "\n",
    "**1. Integers:** Integers are whole numbers, either positive or negative. In Python, integers have no size limit, so you can use them to represent very large or very small numbers. Here are some examples of integers:"
   ]
  },
  {
   "cell_type": "code",
   "execution_count": 1,
   "id": "9630716b-53ea-4156-a577-381880444862",
   "metadata": {},
   "outputs": [],
   "source": [
    "number = -1234567809874362"
   ]
  },
  {
   "cell_type": "code",
   "execution_count": 2,
   "id": "f82c1e5e-9731-4bae-871d-4df60c06c614",
   "metadata": {},
   "outputs": [
    {
     "data": {
      "text/plain": [
       "int"
      ]
     },
     "execution_count": 2,
     "metadata": {},
     "output_type": "execute_result"
    }
   ],
   "source": [
    "type(number)"
   ]
  },
  {
   "cell_type": "code",
   "execution_count": 3,
   "id": "7166e4f6-e3c7-4bf1-a793-b3ff34eacb67",
   "metadata": {},
   "outputs": [
    {
     "name": "stdout",
     "output_type": "stream",
     "text": [
      "-1234567809874362\n"
     ]
    }
   ],
   "source": [
    "print(number)"
   ]
  },
  {
   "cell_type": "markdown",
   "id": "3b861b1f-962a-4a55-b9bf-b25ebd872356",
   "metadata": {},
   "source": [
    "**2. Floating-point Numbers:** Floating-point numbers are decimal numbers, either positive or negative. In Python, floating-point numbers are represented using the float type. Here are some examples of floating-point numbers:"
   ]
  },
  {
   "cell_type": "code",
   "execution_count": 4,
   "id": "cefdc734-6078-416c-b16f-7b2c36674489",
   "metadata": {},
   "outputs": [],
   "source": [
    "pie = 22/7"
   ]
  },
  {
   "cell_type": "code",
   "execution_count": 5,
   "id": "e6aa633a-cdf1-4ef5-aabc-b8f143554a90",
   "metadata": {},
   "outputs": [
    {
     "name": "stdout",
     "output_type": "stream",
     "text": [
      "3.142857142857143\n"
     ]
    }
   ],
   "source": [
    "print(pie)"
   ]
  },
  {
   "cell_type": "code",
   "execution_count": 6,
   "id": "143f1ab0-8a8b-4638-ab79-2f6c552e3131",
   "metadata": {},
   "outputs": [
    {
     "data": {
      "text/plain": [
       "float"
      ]
     },
     "execution_count": 6,
     "metadata": {},
     "output_type": "execute_result"
    }
   ],
   "source": [
    "type(pie)"
   ]
  },
  {
   "cell_type": "markdown",
   "id": "46d2729d-92fd-4edb-bed5-82d68e4be10c",
   "metadata": {},
   "source": [
    "**3. Complex numbers** Complex numbers are numbers with a real part and an imaginary part. In Python, complex numbers are represented using the complex type. Here are some examples of complex numbers:"
   ]
  },
  {
   "cell_type": "code",
   "execution_count": 7,
   "id": "401db3f9-e6b4-4b48-a09e-9c695d295a10",
   "metadata": {},
   "outputs": [],
   "source": [
    "vec = 6 - 3j"
   ]
  },
  {
   "cell_type": "code",
   "execution_count": 8,
   "id": "e010eac9-0170-4f19-9aff-e13d8415f57f",
   "metadata": {},
   "outputs": [
    {
     "data": {
      "text/plain": [
       "complex"
      ]
     },
     "execution_count": 8,
     "metadata": {},
     "output_type": "execute_result"
    }
   ],
   "source": [
    "type(vec)"
   ]
  },
  {
   "cell_type": "markdown",
   "id": "c61532db-183d-4cc5-a118-3cb47081d107",
   "metadata": {},
   "source": [
    "## Arithmetic Operations\n",
    "\n",
    "You can perform arithmetic operations on numbers in Python, including addition, subtraction, multiplication, division, and exponentiation. Here are some examples:\n",
    "\n",
    "\n",
    "* '\\+' Addition: Adds two operands.\n",
    "* '\\-' Subtraction: Subtracts the right operand from the left operand.\n",
    "* '\\*' Multiplication: Multiplies two operands.\n",
    "* '\\/' Division: Divides the left operand by the right operand.\n",
    "* '\\%' Modulus: Returns the remainder of dividing the left operand by the right operand.\n",
    "* '\\*\\*' Exponentiation: Raises the left operand to the power of the right operand.\n",
    "* '\\/\\/' Floor Division: Divides the left operand by the right operand and returns the largest integer less than or equal to the result."
   ]
  },
  {
   "cell_type": "code",
   "execution_count": 9,
   "id": "77fb7042-b70c-45f5-88d6-242d7aa71223",
   "metadata": {},
   "outputs": [],
   "source": [
    "x = 22\n",
    "y = 55.6"
   ]
  },
  {
   "cell_type": "code",
   "execution_count": 10,
   "id": "a30f1dd6-9507-4ff7-b8dc-b406b191b67f",
   "metadata": {},
   "outputs": [
    {
     "data": {
      "text/plain": [
       "77.6"
      ]
     },
     "execution_count": 10,
     "metadata": {},
     "output_type": "execute_result"
    }
   ],
   "source": [
    "x + y"
   ]
  },
  {
   "cell_type": "code",
   "execution_count": 11,
   "id": "9e901af4-4247-481d-adde-119ccd08616e",
   "metadata": {},
   "outputs": [
    {
     "data": {
      "text/plain": [
       "-33.6"
      ]
     },
     "execution_count": 11,
     "metadata": {},
     "output_type": "execute_result"
    }
   ],
   "source": [
    "x - y"
   ]
  },
  {
   "cell_type": "code",
   "execution_count": 12,
   "id": "a0dbf51a-64f9-46ee-9aed-788382192b52",
   "metadata": {},
   "outputs": [
    {
     "data": {
      "text/plain": [
       "1223.2"
      ]
     },
     "execution_count": 12,
     "metadata": {},
     "output_type": "execute_result"
    }
   ],
   "source": [
    "x * y"
   ]
  },
  {
   "cell_type": "code",
   "execution_count": 13,
   "id": "3c731c1d-3d10-40db-9c73-aaa6aa12ebd2",
   "metadata": {},
   "outputs": [
    {
     "data": {
      "text/plain": [
       "0.39568345323741005"
      ]
     },
     "execution_count": 13,
     "metadata": {},
     "output_type": "execute_result"
    }
   ],
   "source": [
    "x / y"
   ]
  },
  {
   "cell_type": "code",
   "execution_count": 14,
   "id": "99dd9207-0c9f-4add-8dee-bcecb3d862b6",
   "metadata": {},
   "outputs": [
    {
     "data": {
      "text/plain": [
       "1"
      ]
     },
     "execution_count": 14,
     "metadata": {},
     "output_type": "execute_result"
    }
   ],
   "source": [
    "10 % 3"
   ]
  },
  {
   "cell_type": "code",
   "execution_count": 15,
   "id": "1ddf6b5a-a789-450b-b71e-834b1e56180a",
   "metadata": {},
   "outputs": [
    {
     "data": {
      "text/plain": [
       "1000"
      ]
     },
     "execution_count": 15,
     "metadata": {},
     "output_type": "execute_result"
    }
   ],
   "source": [
    "10 ** 3"
   ]
  },
  {
   "cell_type": "code",
   "execution_count": 16,
   "id": "9cee0f1f-d3ea-4e5a-b8e0-8e64ae594cfa",
   "metadata": {},
   "outputs": [
    {
     "data": {
      "text/plain": [
       "16"
      ]
     },
     "execution_count": 16,
     "metadata": {},
     "output_type": "execute_result"
    }
   ],
   "source": [
    "100 // 6"
   ]
  },
  {
   "cell_type": "markdown",
   "id": "9a426840-7c71-41f7-b5c7-717267ca1ce6",
   "metadata": {},
   "source": [
    "## Type Conversion\n",
    "\n",
    "You can convert numbers from one type to another in Python, using functions like *int()*, *float()*, and *complex()*. Here are some examples:"
   ]
  },
  {
   "cell_type": "code",
   "execution_count": 23,
   "id": "5075a0fe-97c7-483f-a424-f9b9207c15fa",
   "metadata": {},
   "outputs": [],
   "source": [
    "eulers = 6.577218"
   ]
  },
  {
   "cell_type": "code",
   "execution_count": 24,
   "id": "97ff483a-9870-4a5d-9e1e-4fc01e169c67",
   "metadata": {},
   "outputs": [],
   "source": [
    "number = int(eulers)"
   ]
  },
  {
   "cell_type": "code",
   "execution_count": 25,
   "id": "f509a0a4-d4bd-452a-b9ac-0c8d130c9c08",
   "metadata": {},
   "outputs": [
    {
     "data": {
      "text/plain": [
       "6"
      ]
     },
     "execution_count": 25,
     "metadata": {},
     "output_type": "execute_result"
    }
   ],
   "source": [
    "number"
   ]
  },
  {
   "cell_type": "code",
   "execution_count": 26,
   "id": "27da4137-172d-42dc-b32a-ed989ca17ac7",
   "metadata": {},
   "outputs": [],
   "source": [
    "whole = 99"
   ]
  },
  {
   "cell_type": "code",
   "execution_count": 27,
   "id": "f8aacf37-3cc6-40b3-84c2-5f50bf620335",
   "metadata": {},
   "outputs": [
    {
     "data": {
      "text/plain": [
       "99.0"
      ]
     },
     "execution_count": 27,
     "metadata": {},
     "output_type": "execute_result"
    }
   ],
   "source": [
    "float(whole)"
   ]
  },
  {
   "cell_type": "code",
   "execution_count": 28,
   "id": "c39f5a09-f002-4b18-9ccf-d0d01e21b04b",
   "metadata": {},
   "outputs": [
    {
     "data": {
      "text/plain": [
       "(34+66.7j)"
      ]
     },
     "execution_count": 28,
     "metadata": {},
     "output_type": "execute_result"
    }
   ],
   "source": [
    "complex(34,66.7)"
   ]
  },
  {
   "cell_type": "code",
   "execution_count": null,
   "id": "fa5131d4-d4e4-428d-bf89-72ad238fa4fd",
   "metadata": {},
   "outputs": [],
   "source": []
  },
  {
   "cell_type": "markdown",
   "id": "4a94555f-1258-4fc3-9888-9bafd209a6f8",
   "metadata": {},
   "source": [
    "## Comparison Operators\n",
    "\n",
    "You can compare numbers in Python using comparison operators like <, >, <=, >=, ==, and !=. Here are some examples:\n",
    "\n",
    "* '\\=\\=' Equal to: True if both operands are equal.\n",
    "* '\\!\\=' Not equal to: True if operands are not equal.\n",
    "* '\\>' Greater than: True if the left operand is greater than the right operand.\n",
    "* '\\<' Less than: True if the left operand is less than the right operand.\n",
    "* '\\>\\=' Greater than or equal to: True if the left operand is greater than or equal to the right operand.\n",
    "* '\\<\\=' Less than or equal to: True if the left operand is less than or equal to the right operand."
   ]
  },
  {
   "cell_type": "code",
   "execution_count": 33,
   "id": "ea9424b8-110c-43ce-b49e-012ef4c275e9",
   "metadata": {},
   "outputs": [],
   "source": [
    "num1 = 77\n",
    "num2 = 89.3"
   ]
  },
  {
   "cell_type": "code",
   "execution_count": 34,
   "id": "9e3f8132-d59e-4f9b-8655-326328f7a8c0",
   "metadata": {},
   "outputs": [
    {
     "data": {
      "text/plain": [
       "False"
      ]
     },
     "execution_count": 34,
     "metadata": {},
     "output_type": "execute_result"
    }
   ],
   "source": [
    "num1 == num2"
   ]
  },
  {
   "cell_type": "code",
   "execution_count": 37,
   "id": "cbb7a48c-8ecc-442e-bbda-7bc51a5b2fae",
   "metadata": {},
   "outputs": [
    {
     "data": {
      "text/plain": [
       "False"
      ]
     },
     "execution_count": 37,
     "metadata": {},
     "output_type": "execute_result"
    }
   ],
   "source": [
    "num1 >= num2"
   ]
  },
  {
   "cell_type": "code",
   "execution_count": 38,
   "id": "34a78f59-cd4c-4a2b-bc9b-f8615094a581",
   "metadata": {},
   "outputs": [
    {
     "data": {
      "text/plain": [
       "True"
      ]
     },
     "execution_count": 38,
     "metadata": {},
     "output_type": "execute_result"
    }
   ],
   "source": [
    "num1 != num2"
   ]
  },
  {
   "cell_type": "code",
   "execution_count": null,
   "id": "cb106941-a38b-480f-ab2e-c874633bddf1",
   "metadata": {},
   "outputs": [],
   "source": []
  },
  {
   "cell_type": "markdown",
   "id": "576891b0-f502-4b9d-902c-1624b09c9e87",
   "metadata": {},
   "source": [
    "## Math Functions\n",
    "\n",
    "Python also provides a variety of math functions that you can use to perform more complex operations on numbers. Some of these functions include abs(), round(), min(), max(), pow(), sqrt(), and log(). Here are some examples:"
   ]
  },
  {
   "cell_type": "code",
   "execution_count": 40,
   "id": "365d9895-bc05-41a1-b529-904a5895b7c7",
   "metadata": {},
   "outputs": [],
   "source": [
    "# https://docs.python.org/3/library/math.html\n",
    "\n",
    "import math"
   ]
  },
  {
   "cell_type": "code",
   "execution_count": 41,
   "id": "f53bce0a-cc19-4f2b-b05f-4d5029bfcc0c",
   "metadata": {},
   "outputs": [],
   "source": [
    "x  = -22.5"
   ]
  },
  {
   "cell_type": "code",
   "execution_count": 44,
   "id": "6a29b47e-b2a2-46f1-a9f0-c77ae0eb68da",
   "metadata": {},
   "outputs": [
    {
     "data": {
      "text/plain": [
       "22.5"
      ]
     },
     "execution_count": 44,
     "metadata": {},
     "output_type": "execute_result"
    }
   ],
   "source": [
    "math.fabs(x)"
   ]
  },
  {
   "cell_type": "code",
   "execution_count": 48,
   "id": "e54f8f02-742d-4f5d-94a7-7be8a3d83dad",
   "metadata": {},
   "outputs": [
    {
     "data": {
      "text/plain": [
       "3.141592653589793"
      ]
     },
     "execution_count": 48,
     "metadata": {},
     "output_type": "execute_result"
    }
   ],
   "source": [
    "math.pi"
   ]
  },
  {
   "cell_type": "code",
   "execution_count": 49,
   "id": "9dbcbc0d-ab48-4b25-b9b7-777557c53f43",
   "metadata": {},
   "outputs": [
    {
     "data": {
      "text/plain": [
       "3"
      ]
     },
     "execution_count": 49,
     "metadata": {},
     "output_type": "execute_result"
    }
   ],
   "source": [
    "math.gcd(3,6,9,12)"
   ]
  },
  {
   "cell_type": "code",
   "execution_count": 51,
   "id": "c954489d-0129-461b-a3e7-05d8808bb3b9",
   "metadata": {},
   "outputs": [
    {
     "data": {
      "text/plain": [
       "45"
      ]
     },
     "execution_count": 51,
     "metadata": {},
     "output_type": "execute_result"
    }
   ],
   "source": [
    "math.ceil(44.2)"
   ]
  },
  {
   "cell_type": "code",
   "execution_count": 53,
   "id": "a7f72350-2369-4bb4-9edd-a7344dda05b1",
   "metadata": {},
   "outputs": [
    {
     "data": {
      "text/plain": [
       "44"
      ]
     },
     "execution_count": 53,
     "metadata": {},
     "output_type": "execute_result"
    }
   ],
   "source": [
    "math.floor(44.9)"
   ]
  },
  {
   "cell_type": "code",
   "execution_count": 56,
   "id": "27c887c8-f9fc-4f0c-b6c2-ab41954fc024",
   "metadata": {},
   "outputs": [
    {
     "data": {
      "text/plain": [
       "True"
      ]
     },
     "execution_count": 56,
     "metadata": {},
     "output_type": "execute_result"
    }
   ],
   "source": [
    "math.isfinite(33)"
   ]
  },
  {
   "cell_type": "code",
   "execution_count": 58,
   "id": "40ed4541-6be6-4e3b-83e4-4a3786cdcf84",
   "metadata": {},
   "outputs": [
    {
     "data": {
      "text/plain": [
       "8.426149773176359"
      ]
     },
     "execution_count": 58,
     "metadata": {},
     "output_type": "execute_result"
    }
   ],
   "source": [
    "math.dist((3,4,5,7,9,2,5,9),(5,6,6,4,3,-2,6,9))"
   ]
  },
  {
   "cell_type": "code",
   "execution_count": null,
   "id": "75bb54a5-d5ea-4178-845c-ee7dd3123bd6",
   "metadata": {},
   "outputs": [],
   "source": []
  },
  {
   "cell_type": "code",
   "execution_count": 73,
   "id": "cb7fc82e-7ba1-49de-8831-3a93b3eb6932",
   "metadata": {},
   "outputs": [],
   "source": [
    "user = 640 \n",
    "capacity = 128\n",
    "\n",
    "# If user input value less than your capacity, print user's values, \n",
    "# but if user input is greater than capactiy, return capacity value."
   ]
  },
  {
   "cell_type": "code",
   "execution_count": 71,
   "id": "b99664d1-fb71-4694-bfeb-000694540a9f",
   "metadata": {},
   "outputs": [],
   "source": [
    "result = min(user, capacity)"
   ]
  },
  {
   "cell_type": "code",
   "execution_count": 72,
   "id": "94ace523-c4bb-4382-b139-af4bfc8ada01",
   "metadata": {},
   "outputs": [
    {
     "data": {
      "text/plain": [
       "128"
      ]
     },
     "execution_count": 72,
     "metadata": {},
     "output_type": "execute_result"
    }
   ],
   "source": [
    "result"
   ]
  },
  {
   "cell_type": "code",
   "execution_count": 77,
   "id": "9484e408-8101-4a76-843a-4c8caeeff5fd",
   "metadata": {},
   "outputs": [
    {
     "data": {
      "text/plain": [
       "22.54"
      ]
     },
     "execution_count": 77,
     "metadata": {},
     "output_type": "execute_result"
    }
   ],
   "source": [
    "round(22.542, 2)"
   ]
  },
  {
   "cell_type": "code",
   "execution_count": null,
   "id": "7484b0d2-8436-4d48-b4c8-fffc30605027",
   "metadata": {},
   "outputs": [],
   "source": []
  }
 ],
 "metadata": {
  "kernelspec": {
   "display_name": "Python 3 (ipykernel)",
   "language": "python",
   "name": "python3"
  },
  "language_info": {
   "codemirror_mode": {
    "name": "ipython",
    "version": 3
   },
   "file_extension": ".py",
   "mimetype": "text/x-python",
   "name": "python",
   "nbconvert_exporter": "python",
   "pygments_lexer": "ipython3",
   "version": "3.10.12"
  }
 },
 "nbformat": 4,
 "nbformat_minor": 5
}
