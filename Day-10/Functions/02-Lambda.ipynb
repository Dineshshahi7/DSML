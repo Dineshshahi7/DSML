{
 "cells": [
  {
   "cell_type": "markdown",
   "id": "47880563-8f5d-49be-b057-3b582f0b34e2",
   "metadata": {},
   "source": [
    "# Python Lambda Expressions\n",
    "\n",
    "In Python, a lambda expression is a way to create a small, anonymous function without using the def keyword. Lambda expressions are useful for writing simple functions that can be passed as arguments to other functions. The general syntax for a lambda expression is as follows:\n",
    "\n",
    "\n",
    "```python\n",
    "lambda arguments: expression\n",
    "```\n",
    "\n",
    "In this syntax, `arguments` is a comma-separated list of input arguments, and `expression` is a single expression that is evaluated and returned as the output of the function. The resulting lambda function can be assigned to a variable, or passed as an argument to another function.\n",
    "\n"
   ]
  },
  {
   "cell_type": "code",
   "execution_count": 2,
   "id": "dec1004a-4504-4287-a886-fbdf7f8f1459",
   "metadata": {},
   "outputs": [
    {
     "data": {
      "text/plain": [
       "9"
      ]
     },
     "execution_count": 2,
     "metadata": {},
     "output_type": "execute_result"
    }
   ],
   "source": [
    "# Usual Way\n",
    "def add(x,y):\n",
    "    return x + y\n",
    "\n",
    "add(4,5)"
   ]
  },
  {
   "cell_type": "code",
   "execution_count": 4,
   "id": "8c67fa27-4765-48f2-a536-2663b8dc81c7",
   "metadata": {},
   "outputs": [],
   "source": [
    "add_lambda = lambda x,y:x+y"
   ]
  },
  {
   "cell_type": "code",
   "execution_count": 5,
   "id": "138786bf-16d8-4dab-b2ff-c04207929c66",
   "metadata": {},
   "outputs": [
    {
     "data": {
      "text/plain": [
       "function"
      ]
     },
     "execution_count": 5,
     "metadata": {},
     "output_type": "execute_result"
    }
   ],
   "source": [
    "type(add_lambda)"
   ]
  },
  {
   "cell_type": "code",
   "execution_count": 6,
   "id": "818873df-8724-4d24-b62c-f1009fe1a2e4",
   "metadata": {},
   "outputs": [
    {
     "data": {
      "text/plain": [
       "9"
      ]
     },
     "execution_count": 6,
     "metadata": {},
     "output_type": "execute_result"
    }
   ],
   "source": [
    "add_lambda(4,5)"
   ]
  },
  {
   "cell_type": "markdown",
   "id": "9674b153-3859-4db1-b140-8bec4e5df876",
   "metadata": {},
   "source": [
    "Lambda expressions are a powerful tool in Python for writing concise, one-time use functions. However, they should be used judiciously, and more complex functions should be defined using the `def` keyword for readability and maintainability."
   ]
  },
  {
   "cell_type": "code",
   "execution_count": null,
   "id": "acbe368b-e7c1-49a7-995f-8377ba8bde95",
   "metadata": {},
   "outputs": [],
   "source": []
  },
  {
   "cell_type": "code",
   "execution_count": 7,
   "id": "c1658fbe-9ea4-4dea-9de4-37cdebaed12b",
   "metadata": {},
   "outputs": [
    {
     "data": {
      "text/plain": [
       "208"
      ]
     },
     "execution_count": 7,
     "metadata": {},
     "output_type": "execute_result"
    }
   ],
   "source": [
    "# Area of Cuboid\n",
    "# input : l,b,and h\n",
    "\n",
    "cuboid_tsa = lambda l, b, h : 2*(l*b+b*h+h*l)\n",
    "cuboid_tsa(4,6,8)"
   ]
  },
  {
   "cell_type": "code",
   "execution_count": null,
   "id": "fc81d739-8f64-4d9f-88db-d1a0506fe115",
   "metadata": {},
   "outputs": [],
   "source": []
  },
  {
   "cell_type": "markdown",
   "id": "fec4c40a-6f5e-459e-a9db-40eb55dcd991",
   "metadata": {},
   "source": [
    "## Map Function\n",
    "You’re given a list of item prices. Write a program using map() and a lambda function to apply the discount only to items above $100, and return the final prices.\n",
    "\n",
    "prices = [45, 120, 200, 75, 150]"
   ]
  },
  {
   "cell_type": "code",
   "execution_count": 16,
   "id": "8e2fd5d6-1db9-44ab-b572-47555f481f73",
   "metadata": {},
   "outputs": [],
   "source": [
    "def get_discount(x):\n",
    "    return x*0.9 if x > 100 else x"
   ]
  },
  {
   "cell_type": "code",
   "execution_count": 19,
   "id": "9df390f1-efce-43ee-93a1-d77e1b3c8943",
   "metadata": {},
   "outputs": [],
   "source": [
    "get_discount_lambda = lambda x: x*0.9 if x > 100 else x"
   ]
  },
  {
   "cell_type": "code",
   "execution_count": 20,
   "id": "8db2e32b-06bc-4884-8726-5152d7939645",
   "metadata": {},
   "outputs": [
    {
     "data": {
      "text/plain": [
       "[45, 108.0, 180.0, 75, 135.0]"
      ]
     },
     "execution_count": 20,
     "metadata": {},
     "output_type": "execute_result"
    }
   ],
   "source": [
    "prices = [45, 120, 200, 75, 150]\n",
    "\n",
    "map_obj = map(get_discount_lambda, prices)\n",
    "list(map_obj)"
   ]
  },
  {
   "cell_type": "markdown",
   "id": "c7c31c66-063d-4a20-b742-0dd77b0cc66b",
   "metadata": {},
   "source": [
    "---"
   ]
  },
  {
   "cell_type": "code",
   "execution_count": 25,
   "id": "c7085843-ea97-4066-bb6d-d1488f55987f",
   "metadata": {},
   "outputs": [],
   "source": [
    "large_obj = range(1,10000000)\n",
    "res_value = []"
   ]
  },
  {
   "cell_type": "code",
   "execution_count": 26,
   "id": "ac8f9f18-5b5f-4ab4-ac0a-b91bac1bbd52",
   "metadata": {},
   "outputs": [
    {
     "name": "stdout",
     "output_type": "stream",
     "text": [
      "CPU times: user 825 ms, sys: 114 ms, total: 939 ms\n",
      "Wall time: 943 ms\n"
     ]
    }
   ],
   "source": [
    "%%time\n",
    "\n",
    "for a in large_obj:\n",
    "    res_value.append(get_discount_lambda(a))"
   ]
  },
  {
   "cell_type": "code",
   "execution_count": 27,
   "id": "5ee7ad3d-1900-4b53-a3f8-f33c93ae9ef7",
   "metadata": {},
   "outputs": [
    {
     "name": "stdout",
     "output_type": "stream",
     "text": [
      "CPU times: user 578 ms, sys: 116 ms, total: 694 ms\n",
      "Wall time: 694 ms\n"
     ]
    }
   ],
   "source": [
    "%%time\n",
    "\n",
    "result_list = [get_discount_lambda(x) for x in large_obj]"
   ]
  },
  {
   "cell_type": "code",
   "execution_count": 29,
   "id": "24d9ab88-c09d-4c9a-a5df-55799c81dccd",
   "metadata": {},
   "outputs": [
    {
     "name": "stdout",
     "output_type": "stream",
     "text": [
      "CPU times: user 523 ms, sys: 115 ms, total: 638 ms\n",
      "Wall time: 638 ms\n"
     ]
    },
    {
     "data": {
      "text/plain": [
       "9999999"
      ]
     },
     "execution_count": 29,
     "metadata": {},
     "output_type": "execute_result"
    }
   ],
   "source": [
    "%%time\n",
    "map_obj = map(get_discount_lambda, large_obj)\n",
    "\n",
    "len(list(map_obj))"
   ]
  },
  {
   "cell_type": "code",
   "execution_count": null,
   "id": "e610e425-ffe1-40b0-a4b0-0b652a4ae25d",
   "metadata": {},
   "outputs": [],
   "source": []
  }
 ],
 "metadata": {
  "kernelspec": {
   "display_name": "Python 3 (ipykernel)",
   "language": "python",
   "name": "python3"
  },
  "language_info": {
   "codemirror_mode": {
    "name": "ipython",
    "version": 3
   },
   "file_extension": ".py",
   "mimetype": "text/x-python",
   "name": "python",
   "nbconvert_exporter": "python",
   "pygments_lexer": "ipython3",
   "version": "3.10.12"
  }
 },
 "nbformat": 4,
 "nbformat_minor": 5
}
