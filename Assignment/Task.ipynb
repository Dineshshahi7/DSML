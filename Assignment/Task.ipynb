{
 "cells": [
  {
   "cell_type": "markdown",
   "id": "13a7ae85-5bb4-4667-bf91-606feb3b3d25",
   "metadata": {},
   "source": [
    "##### Q. Write a Python function that takes an arbitrary number of positional arguments and returns the sum of all the numbers. Test your function with various input cases."
   ]
  },
  {
   "cell_type": "code",
   "execution_count": 1,
   "id": "3296f414-3671-485a-808b-261504803b94",
   "metadata": {},
   "outputs": [],
   "source": [
    "def sum_function(*args):\n",
    "    sum = 0\n",
    "    for num in args:\n",
    "        sum = sum + num\n",
    "    return sum"
   ]
  },
  {
   "cell_type": "code",
   "execution_count": 9,
   "id": "3c4d189c-b7cd-4dd3-88a2-3f0bd311c45e",
   "metadata": {},
   "outputs": [
    {
     "name": "stdout",
     "output_type": "stream",
     "text": [
      "0\n",
      "5\n",
      "30\n",
      "17\n"
     ]
    }
   ],
   "source": [
    "# Passing 0 arguments\n",
    "print(sum_function())\n",
    "\n",
    "# Passing 1 arguments\n",
    "print(sum_function(5)) \n",
    "\n",
    "# Passing 2 arguments\n",
    "print(sum_function(10, 20))\n",
    "\n",
    "# Passing 5 arguments\n",
    "print(sum_function(3, 2, 5, 1, 6))"
   ]
  },
  {
   "cell_type": "code",
   "execution_count": null,
   "id": "fe5558f4-18a1-42bf-9f1e-eb50b14abfa5",
   "metadata": {},
   "outputs": [],
   "source": []
  },
  {
   "cell_type": "markdown",
   "id": "1beee111-4f6d-4394-8ef3-b8a2b6d11615",
   "metadata": {},
   "source": [
    "##### Q. Write a Python function `concat_strings` that takes any number of strings as arguments and returns a single concatenated string."
   ]
  },
  {
   "cell_type": "code",
   "execution_count": 23,
   "id": "ded92967-328b-4796-96d0-a8eb18b66a82",
   "metadata": {},
   "outputs": [],
   "source": [
    "def cancat_func(*args):\n",
    "    return ' '.join(args)\n",
    "    "
   ]
  },
  {
   "cell_type": "code",
   "execution_count": 27,
   "id": "e23c2f15-ebe9-4797-ae82-21f414cd74d9",
   "metadata": {},
   "outputs": [
    {
     "name": "stdout",
     "output_type": "stream",
     "text": [
      "hello world miss\n"
     ]
    }
   ],
   "source": [
    "print(cancat_func(\"hello\", \"world\", \"miss\"))"
   ]
  },
  {
   "cell_type": "markdown",
   "id": "ea628032-23bb-4ef9-99ac-d490748b9a40",
   "metadata": {},
   "source": []
  },
  {
   "cell_type": "markdown",
   "id": "a23a7b38-ff2c-4e17-80c5-00d72c3026c2",
   "metadata": {},
   "source": [
    "##### Q. Write a Python function `calculate_total_cost` that calculates the total cost of items purchased from a store. The function should accept multiple keyword arguments, where the key is the item name, and the value is the item's price. The function should return the total cost of all items."
   ]
  },
  {
   "cell_type": "code",
   "execution_count": 55,
   "id": "4f2053db-f5b0-49ee-82c4-638682787af7",
   "metadata": {},
   "outputs": [
    {
     "name": "stdout",
     "output_type": "stream",
     "text": [
      "We have following set of items:-\n",
      "1. Laptop      :      Rs.   80000\n",
      "2. Mobile      :      Rs.   30000\n",
      "3. Freeze      :      Rs.   50000\n",
      "4. Ac          :      Rs.  100000\n",
      "5. Colloer     :      Rs.   60000\n"
     ]
    },
    {
     "name": "stdin",
     "output_type": "stream",
     "text": [
      "\n",
      "Enter how many items you want to purchase:  1\n",
      "Enter the item id 1\n"
     ]
    },
    {
     "name": "stdout",
     "output_type": "stream",
     "text": [
      "\n",
      "Total Cost: Rs. 80000\n"
     ]
    }
   ],
   "source": [
    "list_of_item = {\n",
    "    \"1. Laptop\": 80000,\n",
    "    \"2. Mobile\": 30000,\n",
    "    \"3. Freeze\": 50000,\n",
    "    \"4. Ac\": 100000,\n",
    "    \"5. Colloer\": 60000\n",
    "}\n",
    "\n",
    "print(\"We have following set of items:-\")\n",
    "for item, cost in list_of_item.items():\n",
    "    print(f\"{item:<15}:      Rs. {cost:>7}\")\n",
    "\n",
    "item_purchase_list = []\n",
    "no_of_item = int(input(\"\\nEnter how many items you want to purchase: \"))\n",
    "\n",
    "for i in range(no_of_item):\n",
    "    enter_item_id = input(f\"Enter the item id\")\n",
    "    item_purchase_list.append(enter_item_id.strip())\n",
    "\n",
    "# Function to calculate total\n",
    "def calculate_total_cost(**kwargs):\n",
    "    return sum(kwargs.values())\n",
    "\n",
    "# Build selected items dict from purchase list\n",
    "selected_items = {}\n",
    "for item_id in item_purchase_list:\n",
    "    key = f\"{item_id}. \"  # e.g., \"1. \"\n",
    "    for full_item_name in list_of_item:\n",
    "        if full_item_name.startswith(key):\n",
    "            item_name = full_item_name.split(\". \")[1]\n",
    "            selected_items[item_name] = list_of_item[full_item_name]\n",
    "\n",
    "# Calculate and print total\n",
    "total = calculate_total_cost(**selected_items)\n",
    "print(f\"\\nTotal Cost: Rs. {total}\")\n"
   ]
  },
  {
   "cell_type": "code",
   "execution_count": null,
   "id": "b7dde398-3bf6-4a45-ae75-cd342938923b",
   "metadata": {},
   "outputs": [],
   "source": []
  },
  {
   "cell_type": "markdown",
   "id": "27949397-2104-44fc-8c5b-1ea8e6e3f164",
   "metadata": {},
   "source": [
    "##### Q. Create a function `create_student_report` that takes the student's name as the first argument, the student's age as the second argument, and an arbitrary number of keyword arguments for the subjects and their respective scores. The function should return a dictionary with the student's information and a list of subjects along with their scores."
   ]
  },
  {
   "cell_type": "code",
   "execution_count": 7,
   "id": "0af3b09a-154e-4079-b0da-632f851a6790",
   "metadata": {},
   "outputs": [],
   "source": [
    "def create_student_report(name, age, **subjects):\n",
    "    details = {\"name\": name,\n",
    "                  \"age\": age, \n",
    "                  \"subjects\": []}\n",
    "    for subject, score in subjects.items():\n",
    "        details['subjects'].append({\"subject\": subject, \n",
    "                                    \"score\": score})\n",
    "\n",
    "    return details"
   ]
  },
  {
   "cell_type": "code",
   "execution_count": 8,
   "id": "b88ce571-3b15-4f8b-a8cc-e2111ca43298",
   "metadata": {},
   "outputs": [],
   "source": [
    "fun_call = create_student_report(\"Dinesh\", 24, pyhsics=30, math=40, chemestry=60)"
   ]
  },
  {
   "cell_type": "code",
   "execution_count": 9,
   "id": "cc4a6c7a-647a-4271-8e93-22c8e4329cff",
   "metadata": {},
   "outputs": [
    {
     "name": "stdout",
     "output_type": "stream",
     "text": [
      "{'name': 'Dinesh', 'age': 24, 'subjects': [{'subject': 'pyhsics', 'score': 30}, {'subject': 'math', 'score': 40}, {'subject': 'chemestry', 'score': 60}]}\n"
     ]
    }
   ],
   "source": [
    "print(fun_call)"
   ]
  },
  {
   "cell_type": "code",
   "execution_count": null,
   "id": "6e8f88da-0d21-4df9-9d7d-f78b6b91b45f",
   "metadata": {},
   "outputs": [],
   "source": []
  },
  {
   "cell_type": "markdown",
   "id": "3df3eb23-9f51-4bd5-97ae-9dfc43dc6d1c",
   "metadata": {},
   "source": [
    "##### Q. Write a Python function `square_numbers` that takes a list of integers as input and uses the map function to return a new list containing the square of each element."
   ]
  },
  {
   "cell_type": "code",
   "execution_count": 13,
   "id": "736efbe5-5865-4778-8a9b-02b537caba96",
   "metadata": {},
   "outputs": [],
   "source": [
    "def square_numbers(numbers):\n",
    "    return list(map(lambda x: x ** 2, numbers))"
   ]
  },
  {
   "cell_type": "code",
   "execution_count": 14,
   "id": "c2584edb-9cb9-436e-b7d0-73aacfd23a9d",
   "metadata": {},
   "outputs": [
    {
     "name": "stdout",
     "output_type": "stream",
     "text": [
      "[1, 4, 9, 16, 25]\n"
     ]
    }
   ],
   "source": [
    "nums = [1, 2, 3, 4, 5]\n",
    "squared = square_numbers(nums)\n",
    "print(squared)"
   ]
  },
  {
   "cell_type": "code",
   "execution_count": null,
   "id": "1f361e9f-805b-411c-be12-4d0a4ec5d092",
   "metadata": {},
   "outputs": [],
   "source": []
  },
  {
   "cell_type": "markdown",
   "id": "d73b0692-dbed-47b0-90c3-03ff826478c1",
   "metadata": {},
   "source": [
    "##### Q. Create a function `convert_to_uppercase` that takes a list of strings as input and uses the map function to return a new list with all the strings converted to uppercase."
   ]
  },
  {
   "cell_type": "code",
   "execution_count": 18,
   "id": "8d8881be-a952-4f9e-b1f2-8e45e73d4b23",
   "metadata": {},
   "outputs": [],
   "source": [
    "def convert_to_uppercase(list_of_strings):\n",
    "    return list(map(lambda x: x.upper(), list_of_strings))"
   ]
  },
  {
   "cell_type": "code",
   "execution_count": null,
   "id": "fbe39541-6f57-400a-b845-0952689d17b6",
   "metadata": {},
   "outputs": [],
   "source": [
    "name_list = [\"Dinesh\", \"Ganesh\", \"Ansu\"]\n",
    "fun_call = convert_to_uppercase(name_list)\n",
    "print(fun_call)"
   ]
  },
  {
   "cell_type": "code",
   "execution_count": null,
   "id": "cb4e3666-a4b5-4949-8004-53a97f816877",
   "metadata": {},
   "outputs": [],
   "source": []
  },
  {
   "cell_type": "markdown",
   "id": "51c989ae-7066-4c69-b258-d4deae74410b",
   "metadata": {},
   "source": [
    "##### Q. Implement a function called `filter_prime_numbers` that takes a list of integers as input and uses the filter function to return a new list containing only the prime numbers."
   ]
  },
  {
   "cell_type": "code",
   "execution_count": 21,
   "id": "1e8d86a7-1c94-4675-9391-45709f10a5ac",
   "metadata": {},
   "outputs": [],
   "source": [
    "def is_prime(n):\n",
    "    if n <= 1:\n",
    "        return False\n",
    "    for i in range(2, int(n**0.5) + 1):\n",
    "        if n % i == 0:\n",
    "            return False\n",
    "    return True\n",
    "\n",
    "def filter_prime_numbers(numbers):\n",
    "    return list(filter(is_prime, numbers))\n"
   ]
  },
  {
   "cell_type": "code",
   "execution_count": 22,
   "id": "e0777491-ce84-44ac-8e2b-594e13ff7129",
   "metadata": {},
   "outputs": [
    {
     "name": "stdout",
     "output_type": "stream",
     "text": [
      "[2, 3, 5, 7, 11]\n"
     ]
    }
   ],
   "source": [
    "nums = [1, 2, 3, 4, 5, 6, 7, 8, 9, 10, 11]\n",
    "primes = filter_prime_numbers(nums)\n",
    "print(primes)"
   ]
  },
  {
   "cell_type": "markdown",
   "id": "6c980596-3051-4a29-a156-a238b5c39451",
   "metadata": {},
   "source": [
    "- This line is using Python’s built-in filter() function to select only the prime numbers from the list numbers.\n",
    "- filter(function, iterable) filter() takes:\n",
    "-- a function that returns True or False\n",
    "-- an iterable (like a list)\n",
    "- It applies the function to each element of the iterable.\n",
    "- It keeps only the elements for which the function returns True\n",
    "- is_prime:- This is a custom function that returns True if the number is prime, and False otherwise.\n",
    "- filter(is_prime, numbers):- This goes through every number in numbers and:\n",
    "-- calls is_prime(number)\n",
    "-- keeps it if is_prime returns True"
   ]
  },
  {
   "cell_type": "code",
   "execution_count": null,
   "id": "5a52a7cc-0b29-4ca3-ac86-6fe75d3b3708",
   "metadata": {},
   "outputs": [],
   "source": []
  },
  {
   "cell_type": "markdown",
   "id": "8c30f459-29fe-4563-b6ed-058365dc6202",
   "metadata": {},
   "source": [
    "##### Q. Write a Python function `filter_long_strings` that takes a list of strings as input and uses the filter function to return a new list containing strings with more than 5 characters."
   ]
  },
  {
   "cell_type": "code",
   "execution_count": 29,
   "id": "97284ede-3610-4300-82d1-c9060f7fe850",
   "metadata": {},
   "outputs": [],
   "source": [
    "def check_string(str):\n",
    "    if len(str) <=5:\n",
    "        return False\n",
    "    else:\n",
    "        return True\n",
    "def filter_long_strings(strings):\n",
    "    return list(filter(check_string, strings))"
   ]
  },
  {
   "cell_type": "code",
   "execution_count": 30,
   "id": "9ec34875-cfdb-4d21-b739-cb7812269b32",
   "metadata": {},
   "outputs": [
    {
     "name": "stdout",
     "output_type": "stream",
     "text": [
      "['Dinesh', 'Ganesh']\n"
     ]
    }
   ],
   "source": [
    "checklist = [\"Dinesh\", \"abc\", \"Ganesh\"]\n",
    "fun_call = filter_long_strings(checklist)\n",
    "print(fun_call)"
   ]
  },
  {
   "cell_type": "code",
   "execution_count": null,
   "id": "5687a050-e1b9-4ec4-af83-0c413f972024",
   "metadata": {},
   "outputs": [],
   "source": []
  },
  {
   "cell_type": "markdown",
   "id": "9cb807d9-9775-45a7-8e33-382398ef0ead",
   "metadata": {},
   "source": [
    "##### Q. Write a Python function `calculate_factorial` that takes an integer as input and uses the reduce function to return the factorial of that number."
   ]
  },
  {
   "cell_type": "code",
   "execution_count": 31,
   "id": "8e1565e7-161b-4fc7-bcb1-0b51e5a23fd8",
   "metadata": {},
   "outputs": [],
   "source": [
    "from functools import reduce\n",
    "\n",
    "def calculate_factorial(n):\n",
    "    if n == 0 or n == 1:\n",
    "        return 1\n",
    "    return reduce(lambda x, y: x * y, range(1, n + 1))\n"
   ]
  },
  {
   "cell_type": "code",
   "execution_count": 32,
   "id": "3d5cb00a-916d-4539-931c-5173ef332199",
   "metadata": {},
   "outputs": [
    {
     "name": "stdout",
     "output_type": "stream",
     "text": [
      "120\n",
      "1\n"
     ]
    }
   ],
   "source": [
    "print(calculate_factorial(5))  # Output: 120\n",
    "print(calculate_factorial(0))  # Output: 1\n"
   ]
  },
  {
   "cell_type": "code",
   "execution_count": null,
   "id": "9a8147b9-5e0f-4e0f-b019-da769e144222",
   "metadata": {},
   "outputs": [],
   "source": []
  },
  {
   "cell_type": "markdown",
   "id": "1d0ea3e6-f62d-4732-8c6b-f35fd6c241fe",
   "metadata": {},
   "source": [
    "##### Q. Implement a function called `concatenate_strings` that takes a list of strings as input and uses the reduce function to return a single string containing the concatenation of all the elements."
   ]
  },
  {
   "cell_type": "code",
   "execution_count": 39,
   "id": "16370f10-ad73-43f2-b91b-a1182bba2c25",
   "metadata": {},
   "outputs": [],
   "source": [
    "from functools import reduce\n",
    "\n",
    "# If you pass a list into a function,  And the function receives it with a single parameter (like string_list), Then that parameter becomes a list inside the function.\n",
    "# Even though the parameter looks like a normal variable, it can store a list of items (or any other data type) — because Python variables are dynamic and flexible.\n",
    "def concatenate_strings(string_list):\n",
    "    return reduce(lambda x, y: x + y, string_list)\n"
   ]
  },
  {
   "cell_type": "code",
   "execution_count": 40,
   "id": "a1adee7a-06f8-43fc-8f0e-db8ab6edced2",
   "metadata": {},
   "outputs": [
    {
     "name": "stdout",
     "output_type": "stream",
     "text": [
      "Hello World!\n"
     ]
    }
   ],
   "source": [
    "words = [\"Hello\", \" \", \"World\", \"!\"]\n",
    "result = concatenate_strings(words)\n",
    "print(result)\n"
   ]
  },
  {
   "cell_type": "markdown",
   "id": "39eff836-ba7b-41a1-9757-dc9e00eaf22f",
   "metadata": {},
   "source": []
  },
  {
   "cell_type": "markdown",
   "id": "4426de40-10af-493e-9350-ea4823407194",
   "metadata": {},
   "source": [
    "##### Q. Write a Python function called `check_odd_even` that takes an integer as input and uses a ternary operator to return \"Even\" if the number is even, and \"Odd\" if the number is odd."
   ]
  },
  {
   "cell_type": "markdown",
   "id": "a6cd1f1b-732d-4725-acdf-3f4e3d05177f",
   "metadata": {},
   "source": [
    "Syntax of ternary operator: value_if_true if condition else value_if_false"
   ]
  },
  {
   "cell_type": "code",
   "execution_count": 43,
   "id": "fb52a9f6-8846-4ae7-82b6-67b82170017c",
   "metadata": {},
   "outputs": [],
   "source": [
    "def check_odd_even(number):\n",
    "    return \"Even\" if number % 2 == 0 else \"Odd\"\n"
   ]
  },
  {
   "cell_type": "code",
   "execution_count": 44,
   "id": "5d657d3f-497b-4ab0-992d-9217b6696b8e",
   "metadata": {},
   "outputs": [
    {
     "name": "stdout",
     "output_type": "stream",
     "text": [
      "Even\n",
      "Odd\n"
     ]
    }
   ],
   "source": [
    "print(check_odd_even(10))  # Output: Even\n",
    "print(check_odd_even(7))   # Output: Odd\n"
   ]
  },
  {
   "cell_type": "code",
   "execution_count": null,
   "id": "5c8a698c-72ae-4172-8fc9-43a950fdb445",
   "metadata": {},
   "outputs": [],
   "source": []
  },
  {
   "cell_type": "markdown",
   "id": "b8877265-15b5-4426-a072-0cf1c38a9aef",
   "metadata": {},
   "source": [
    "##### Q. Create a Python function `check_leap_year` that takes a year as input and uses a ternary operator to determine if it's a leap year. Return \"Leap Year\" if it is, otherwise \"Not a Leap Year.\" (A leap year is divisible by 4, except for years divisible by 100 but not divisible by 400)."
   ]
  },
  {
   "cell_type": "code",
   "execution_count": 45,
   "id": "b9069e01-18dd-4632-a81e-eae18a47a428",
   "metadata": {},
   "outputs": [],
   "source": [
    "def check_leap_year(year):\n",
    "    return \"Leap Year\" if (year % 4 == 0 and (year % 100 != 0 or year % 400 == 0)) else \"Not a Leap Year\"\n"
   ]
  },
  {
   "cell_type": "code",
   "execution_count": 46,
   "id": "b161155e-27ac-4a9d-9ab5-45bbe7346417",
   "metadata": {},
   "outputs": [
    {
     "name": "stdout",
     "output_type": "stream",
     "text": [
      "Leap Year\n",
      "Not a Leap Year\n",
      "Leap Year\n",
      "Not a Leap Year\n"
     ]
    }
   ],
   "source": [
    "print(check_leap_year(2020))  # Leap Year\n",
    "print(check_leap_year(1900))  # Not a Leap Year\n",
    "print(check_leap_year(2000))  # Leap Year\n",
    "print(check_leap_year(2023))  # Not a Leap Year\n"
   ]
  },
  {
   "cell_type": "code",
   "execution_count": null,
   "id": "04baf270-f0cc-4e89-8849-cbb45bcb661f",
   "metadata": {},
   "outputs": [],
   "source": []
  },
  {
   "cell_type": "markdown",
   "id": "59544703-5e12-413a-8a41-bad68c63776e",
   "metadata": {},
   "source": [
    "##### Q.  Write a function `find_bigger_number` that takes three integers as input and uses a ternary operator to return the larger number. If all numbers are equal, return \"Equal.\""
   ]
  },
  {
   "cell_type": "code",
   "execution_count": 47,
   "id": "a76c50b2-1523-48d9-8cc8-254eb5c674df",
   "metadata": {},
   "outputs": [],
   "source": [
    "def find_bigger_number(a, b, c):\n",
    "    return \"Equal\" if a == b == c else (a if a > b and a > c else (b if b > c else c))\n"
   ]
  },
  {
   "cell_type": "code",
   "execution_count": 48,
   "id": "e0b5860b-31d7-42d9-af3f-cd6d6dff7e66",
   "metadata": {},
   "outputs": [
    {
     "name": "stdout",
     "output_type": "stream",
     "text": [
      "30\n",
      "Equal\n",
      "100\n"
     ]
    }
   ],
   "source": [
    "print(find_bigger_number(10, 20, 30))  # 30\n",
    "print(find_bigger_number(25, 25, 25))  # Equal\n",
    "print(find_bigger_number(100, 50, 75)) # 100\n"
   ]
  },
  {
   "cell_type": "code",
   "execution_count": null,
   "id": "adbdfa5e-ebdd-4671-a185-f7cd3baa501f",
   "metadata": {},
   "outputs": [],
   "source": []
  },
  {
   "cell_type": "markdown",
   "id": "17eecb42-9f1f-45b0-83dd-ef6ccd2df0b1",
   "metadata": {},
   "source": [
    "##### Q. Implement a function called `check_prime` that takes a positive integer as input and uses a ternary operator to determine if it's a prime number. Return \"Prime\" if it is, otherwise \"Not Prime.\""
   ]
  },
  {
   "cell_type": "code",
   "execution_count": 51,
   "id": "8343fb1a-73f7-4f32-84f9-582e70606b73",
   "metadata": {},
   "outputs": [],
   "source": [
    "def check_prime(n):\n",
    "    return \"Not Prime\" if n <= 1 else (\n",
    "        \"Prime\" if all(n % i != 0 for i in range(2, int(n**0.5) + 1)) else \"Not Prime\"\n",
    "    )"
   ]
  },
  {
   "cell_type": "code",
   "execution_count": 52,
   "id": "01084bc0-51a9-4ffd-9b01-3832996f2677",
   "metadata": {},
   "outputs": [
    {
     "name": "stdout",
     "output_type": "stream",
     "text": [
      "Prime\n",
      "Not Prime\n",
      "Prime\n",
      "Not Prime\n"
     ]
    }
   ],
   "source": [
    "print(check_prime(2))    # Prime\n",
    "print(check_prime(9))    # Not Prime\n",
    "print(check_prime(17))   # Prime\n",
    "print(check_prime(1))    # Not Prime\n"
   ]
  },
  {
   "cell_type": "code",
   "execution_count": null,
   "id": "aef75b87-3502-471c-a976-990c91e314f5",
   "metadata": {},
   "outputs": [],
   "source": []
  },
  {
   "cell_type": "markdown",
   "id": "231a3a14-f6df-4b16-b50a-c050da41f679",
   "metadata": {},
   "source": [
    "##### Q. Given a list of strings, create a new list that contains only the strings with more than 5 characters using list comprehension."
   ]
  },
  {
   "cell_type": "code",
   "execution_count": 58,
   "id": "86cafd59-da2f-4659-8645-e6c8e9761de3",
   "metadata": {},
   "outputs": [
    {
     "name": "stdout",
     "output_type": "stream",
     "text": [
      "['Dinesh', 'Ganesh', 'Kathmandu']\n"
     ]
    }
   ],
   "source": [
    "list1 = [\"Dinesh\", \"Ganesh\", \"abc\", \"xy\", \"Kathmandu\"]\n",
    "new_list = [word for word in list1 if len(word)>5]\n",
    "print(new_list)"
   ]
  },
  {
   "cell_type": "code",
   "execution_count": null,
   "id": "20cde5de-0de5-4741-98e3-23d5778a11fe",
   "metadata": {},
   "outputs": [],
   "source": []
  },
  {
   "cell_type": "markdown",
   "id": "da635b95-bb8a-47e8-ba6d-6e367c88241b",
   "metadata": {},
   "source": [
    "##### Q. Given two lists of integers, create a list that contains the product of each element of the first list with the corresponding element in the second list using list comprehension."
   ]
  },
  {
   "cell_type": "code",
   "execution_count": 60,
   "id": "4ea52ea2-f644-48a2-a72b-31f6867263fc",
   "metadata": {},
   "outputs": [
    {
     "name": "stdout",
     "output_type": "stream",
     "text": [
      "[5, 12, 21, 32]\n"
     ]
    }
   ],
   "source": [
    "list1 = [1, 2, 3, 4]\n",
    "list2 = [5, 6, 7, 8]\n",
    "result_list = [a*b for a, b in zip(list1, list2)]\n",
    "print(result_list)"
   ]
  },
  {
   "cell_type": "code",
   "execution_count": null,
   "id": "262ad996-bdbf-4e51-90dc-3507ecef2cf0",
   "metadata": {},
   "outputs": [],
   "source": []
  },
  {
   "cell_type": "markdown",
   "id": "f9e28c4e-2e4f-475c-bc94-5a1f50880c80",
   "metadata": {},
   "source": [
    "##### Q. Given three lists list1, list2, and list3, each containing integers, write a Python program using list comprehension to generate a new list of unique triplets (x, y, z) where x is from list1, y is from list2, and z is from list3, such that x + y + z = 0."
   ]
  },
  {
   "cell_type": "code",
   "execution_count": 64,
   "id": "3c5cbe23-d8d8-4793-860e-e258c855418e",
   "metadata": {},
   "outputs": [
    {
     "name": "stdout",
     "output_type": "stream",
     "text": [
      "[(1, -2, 1), (-1, 0, 1), (2, 1, -3)]\n"
     ]
    }
   ],
   "source": [
    "list1 = [1, -1, 2]\n",
    "list2 = [-2, 0, 1]\n",
    "list3 = [1, 2, -3]\n",
    "\n",
    "# Generate all combinations where x + y + z == 0\n",
    "triplets = [(x, y, z) for x in list1 for y in list2 for z in list3 if x + y + z == 0]\n",
    "\n",
    "# Remove duplicates by converting to a set and back to a list (if needed)\n",
    "unique_triplets = list(set(triplets))\n",
    "\n",
    "print(unique_triplets)\n"
   ]
  },
  {
   "cell_type": "code",
   "execution_count": null,
   "id": "08df1be1-8d42-4444-a9f4-bbba9b14ae90",
   "metadata": {},
   "outputs": [],
   "source": []
  },
  {
   "cell_type": "markdown",
   "id": "1f8e09d3-5213-46ca-bebd-46c901ad4bc2",
   "metadata": {},
   "source": [
    "##### Q. Given two lists - one containing keys and another containing values, create a dictionary using dictionary comprehension."
   ]
  },
  {
   "cell_type": "code",
   "execution_count": 71,
   "id": "a529391e-4895-4f9e-a2e2-654eabb6efea",
   "metadata": {},
   "outputs": [
    {
     "data": {
      "text/plain": [
       "[{'Name': 'Dinesh', 'Age': 24, 'Address': 'Nepalgunj'}]"
      ]
     },
     "execution_count": 71,
     "metadata": {},
     "output_type": "execute_result"
    }
   ],
   "source": [
    "key_list = [\"Name\", \"Age\", \"Address\"]\n",
    "value_list = [\"Dinesh\", 24, \"Nepalgunj\"]\n",
    "details = [{k: v for k, v in zip(key_list, value_list)}]\n",
    "details"
   ]
  },
  {
   "cell_type": "code",
   "execution_count": null,
   "id": "d4a6cd82-f0a6-41fe-928a-eecd9542c185",
   "metadata": {},
   "outputs": [],
   "source": []
  },
  {
   "cell_type": "markdown",
   "id": "e7870bd0-8718-44e1-93a8-e715ee80d733",
   "metadata": {},
   "source": [
    "##### Q. Given a dictionary with students' names as keys and their respective scores as values, create a new dictionary that contains only the students who scored more than 80 using dictionary comprehension."
   ]
  },
  {
   "cell_type": "code",
   "execution_count": 79,
   "id": "42f14caa-79aa-4807-9cc8-d1eb92cecb68",
   "metadata": {},
   "outputs": [
    {
     "name": "stdout",
     "output_type": "stream",
     "text": [
      "[{'Dinesh': 88, 'Ansu': 90, 'Unisha': 98, 'Ronaldo': 100}]\n"
     ]
    }
   ],
   "source": [
    "student = {\n",
    "    'Dinesh': 88,\n",
    "    'Ganesh': 70,\n",
    "    'Ansu': 90,\n",
    "    'Unisha': 98,\n",
    "    'Ronaldo': 100\n",
    "}\n",
    "new_dict = [{name: score for name, score in student.items() if score > 80}]\n",
    "print(new_dict)"
   ]
  },
  {
   "cell_type": "code",
   "execution_count": null,
   "id": "cf478ae5-3490-4e15-98b3-0b2002ae059f",
   "metadata": {},
   "outputs": [],
   "source": []
  },
  {
   "cell_type": "markdown",
   "id": "de49c3d1-6e60-4956-8e16-193b36caa0b9",
   "metadata": {},
   "source": [
    "##### Q. Create a dictionary using dictionary comprehension to represent the ASCII values of lowercase alphabets (a-z) where the keys are the alphabets, and the values are their corresponding ASCII values."
   ]
  },
  {
   "cell_type": "code",
   "execution_count": 80,
   "id": "03ae64f0-e815-4261-9725-9f0f37e61f58",
   "metadata": {},
   "outputs": [
    {
     "name": "stdout",
     "output_type": "stream",
     "text": [
      "{'a': 97, 'b': 98, 'c': 99, 'd': 100, 'e': 101, 'f': 102, 'g': 103, 'h': 104, 'i': 105, 'j': 106, 'k': 107, 'l': 108, 'm': 109, 'n': 110, 'o': 111, 'p': 112, 'q': 113, 'r': 114, 's': 115, 't': 116, 'u': 117, 'v': 118, 'w': 119, 'x': 120, 'y': 121, 'z': 122}\n"
     ]
    }
   ],
   "source": [
    "ascii_dict = {chr(i): i for i in range(97, 123)}\n",
    "print(ascii_dict)\n"
   ]
  },
  {
   "cell_type": "code",
   "execution_count": null,
   "id": "09320a45-f28e-46c3-a923-67442674a8aa",
   "metadata": {},
   "outputs": [],
   "source": []
  },
  {
   "cell_type": "markdown",
   "id": "20db4e63-370a-4c2a-990d-40c466b62bc2",
   "metadata": {},
   "source": [
    "##### Q. Given a list of numbers, create a set using set comprehension that contains only unique even numbers."
   ]
  },
  {
   "cell_type": "code",
   "execution_count": 83,
   "id": "33433ae7-803f-4a86-adec-26b3f98376b2",
   "metadata": {},
   "outputs": [
    {
     "data": {
      "text/plain": [
       "{2, 4, 6}"
      ]
     },
     "execution_count": 83,
     "metadata": {},
     "output_type": "execute_result"
    }
   ],
   "source": [
    "numbers = [3, 5, 6, 7, 3, 9, 2, 6, 7, 4, 5, 5, 4]\n",
    "unique_value = {n for n in numbers if n % 2 == 0}\n",
    "unique_value"
   ]
  },
  {
   "cell_type": "code",
   "execution_count": null,
   "id": "ae8c0d28-927c-4255-8d4b-3735a2c47fba",
   "metadata": {},
   "outputs": [],
   "source": []
  },
  {
   "cell_type": "markdown",
   "id": "ecc7400e-978d-439e-ba33-6c48bc6b4e14",
   "metadata": {},
   "source": [
    "##### Q. Given a list of words, write a Python program to create a set using set comprehension that contains all the unique characters present in the words."
   ]
  },
  {
   "cell_type": "code",
   "execution_count": 84,
   "id": "cc45b82f-431a-4cb7-8bce-36a177cfd660",
   "metadata": {},
   "outputs": [
    {
     "name": "stdout",
     "output_type": "stream",
     "text": [
      "{'i', 'l', 'e', 'w', 'g', 'k', 'a', 'p', 'r', 'b', 'n'}\n"
     ]
    }
   ],
   "source": [
    "# Sample list of words\n",
    "words = [\"apple\", \"banana\", \"grape\", \"kiwi\"]\n",
    "\n",
    "# Set comprehension to get unique characters from all words\n",
    "unique_chars = {char for word in words for char in word}\n",
    "\n",
    "# Print the result\n",
    "print(unique_chars)\n"
   ]
  },
  {
   "cell_type": "code",
   "execution_count": null,
   "id": "072028c3-0b4a-4693-8963-e2b50e2216f5",
   "metadata": {},
   "outputs": [],
   "source": []
  },
  {
   "cell_type": "markdown",
   "id": "ecdd350c-13aa-41c1-a2d6-ba5db849edcc",
   "metadata": {},
   "source": [
    "##### Q. Given two strings, write a Python program to create a set using set comprehension that contains all the characters that are common in both strings."
   ]
  },
  {
   "cell_type": "code",
   "execution_count": 88,
   "id": "847d93d2-90df-47f0-9b7d-9a3e6f72a14f",
   "metadata": {},
   "outputs": [
    {
     "name": "stdout",
     "output_type": "stream",
     "text": [
      "{'h', 'e', 's', 'n'}\n"
     ]
    }
   ],
   "source": [
    "first = \"Dinesh\"\n",
    "second = \"Ganesh\"\n",
    "common = {char for char in first if char in second}\n",
    "print(common)"
   ]
  },
  {
   "cell_type": "code",
   "execution_count": null,
   "id": "57b2e54a-d374-47d5-bb3b-66733cde064a",
   "metadata": {},
   "outputs": [],
   "source": []
  },
  {
   "cell_type": "markdown",
   "id": "b924a91a-6326-4e7f-b7d9-cf455da625d6",
   "metadata": {},
   "source": [
    "##### Q. Write a Python program that takes two integers as input and performs division (num1 / num2). Handle the ZeroDivisionError and display a custom error message when the second number is zero."
   ]
  },
  {
   "cell_type": "code",
   "execution_count": 90,
   "id": "5750e48e-b483-4211-a955-dbb45d38212d",
   "metadata": {},
   "outputs": [
    {
     "name": "stdin",
     "output_type": "stream",
     "text": [
      "Enter first number 2\n",
      "Enter second number 0\n"
     ]
    },
    {
     "name": "stdout",
     "output_type": "stream",
     "text": [
      "Error occur division by zero\n",
      "None\n"
     ]
    }
   ],
   "source": [
    "def division_func(num1, num2):\n",
    "    try:\n",
    "        result = num1 / num2\n",
    "        return result\n",
    "    except ZeroDivisionError as e:\n",
    "        print(\"Error occur\", e)\n",
    "    \n",
    "a = int(input(\"Enter first number\"))\n",
    "b = int(input(\"Enter second number\"))\n",
    "print(division_func(a,b))"
   ]
  },
  {
   "cell_type": "code",
   "execution_count": null,
   "id": "af8c41fe-d238-4394-99c3-a4f7d83ba3ca",
   "metadata": {},
   "outputs": [],
   "source": []
  },
  {
   "cell_type": "markdown",
   "id": "933c7a33-7784-467d-b92c-4b997533bad9",
   "metadata": {},
   "source": [
    "##### Q. Implement a program that takes user input for a filename, opens the file in read mode, and displays its contents. Handle the FileNotFoundError and display an error message if the file is not found."
   ]
  },
  {
   "cell_type": "code",
   "execution_count": 8,
   "id": "6431cf97-ee63-482b-a7f0-84a3effb12bc",
   "metadata": {},
   "outputs": [],
   "source": [
    "def fileaccess(name):\n",
    "    try:\n",
    "        file = open(name, 'r')\n",
    "        content = file.read()\n",
    "        print(f\"file have:   {content}\")\n",
    "        file.close()\n",
    "\n",
    "    except FileNotFoundError as e:\n",
    "        print(\"Error occur\", e)\n"
   ]
  },
  {
   "cell_type": "code",
   "execution_count": 10,
   "id": "2e08551a-f0aa-4bb0-88af-6ba87fddcad8",
   "metadata": {},
   "outputs": [
    {
     "name": "stdin",
     "output_type": "stream",
     "text": [
      "Enter the file name data.txt\n"
     ]
    },
    {
     "name": "stdout",
     "output_type": "stream",
     "text": [
      "file have:   Hello world !! from data.txt\n",
      "\n"
     ]
    }
   ],
   "source": [
    "fname = input(\"Enter the file name\")\n",
    "fileaccess(fname)"
   ]
  },
  {
   "cell_type": "code",
   "execution_count": null,
   "id": "d147b570-3799-4e9d-ba46-179101c8e509",
   "metadata": {},
   "outputs": [],
   "source": []
  },
  {
   "cell_type": "markdown",
   "id": "0d9e5698-b3dc-46e6-9536-4d11bb93a27e",
   "metadata": {},
   "source": [
    "##### Q. Write a Python program that takes a user input and converts it to an integer. Handle the ValueError and display a custom error message when the input cannot be converted to an integer."
   ]
  },
  {
   "cell_type": "code",
   "execution_count": 23,
   "id": "0de14ab1-6996-4f01-aec4-c94d38ab6693",
   "metadata": {},
   "outputs": [
    {
     "name": "stdin",
     "output_type": "stream",
     "text": [
      "Enter data:  1\n"
     ]
    },
    {
     "name": "stdout",
     "output_type": "stream",
     "text": [
      "<class 'str'>\n",
      "Your entered data is 1\n"
     ]
    }
   ],
   "source": [
    "def convert_into_int(data):\n",
    "    try:\n",
    "        print(type(data))\n",
    "        convert_data = int(data)\n",
    "        print(f\"Your entered data is {convert_data}\")\n",
    "    except ValueError:\n",
    "        print(\"The entered data cannot be converted into an integer.\")\n",
    "\n",
    "enter = input(\"Enter data: \")\n",
    "convert_into_int(enter)\n"
   ]
  },
  {
   "cell_type": "code",
   "execution_count": null,
   "id": "ce6a37fe-d1a9-48d3-8a5d-9e20926d2484",
   "metadata": {},
   "outputs": [],
   "source": []
  },
  {
   "cell_type": "markdown",
   "id": "66fcdd98-55e4-4560-b18c-b27431c619cc",
   "metadata": {},
   "source": [
    "##### Q. Write a Python program that takes two integers as input and performs division (num1 / num2). Handle both ValueError (if non-integer input) and ZeroDivisionError and display appropriate error messages."
   ]
  },
  {
   "cell_type": "code",
   "execution_count": 28,
   "id": "a8e25f1d-f2f7-4932-9be8-52828290acbb",
   "metadata": {},
   "outputs": [
    {
     "name": "stdin",
     "output_type": "stream",
     "text": [
      "Enter the first integer:  6\n",
      "Enter the second integer:  \n"
     ]
    },
    {
     "name": "stdout",
     "output_type": "stream",
     "text": [
      "Error: Please enter valid integers only.\n"
     ]
    }
   ],
   "source": [
    "def divide_numbers():\n",
    "    try:\n",
    "        num1 = int(input(\"Enter the first integer: \"))\n",
    "        num2 = int(input(\"Enter the second integer: \"))\n",
    "        result = num1 / num2\n",
    "        print(f\"The result of {num1} / {num2} is: {result}\")\n",
    "    \n",
    "    except ValueError:\n",
    "        print(\"Error: Please enter valid integers only.\")\n",
    "    \n",
    "    except ZeroDivisionError:\n",
    "        print(\"Error: Division by zero is not allowed.\")\n",
    "\n",
    "divide_numbers()\n"
   ]
  },
  {
   "cell_type": "code",
   "execution_count": null,
   "id": "0c8cbc2e-bafd-4b10-a446-6806f0626658",
   "metadata": {},
   "outputs": [],
   "source": []
  },
  {
   "cell_type": "markdown",
   "id": "2e39e0c5-9b06-4d38-a749-fc01909bcb23",
   "metadata": {},
   "source": [
    "##### Q. Write a Python program that takes user input for age. Create a custom exception InvalidAgeError to handle cases where the age is below 0 or above 120."
   ]
  },
  {
   "cell_type": "code",
   "execution_count": 36,
   "id": "22dd30b6-9234-42dc-a6fe-a749c717902a",
   "metadata": {},
   "outputs": [
    {
     "name": "stdin",
     "output_type": "stream",
     "text": [
      "Enter your age:  3\n"
     ]
    },
    {
     "name": "stdout",
     "output_type": "stream",
     "text": [
      "Your age is 3.\n"
     ]
    }
   ],
   "source": [
    "# Define custom exception\n",
    "class InvalidAgeError(Exception):\n",
    "    pass\n",
    "\n",
    "def check_age():\n",
    "    try:\n",
    "        age = int(input(\"Enter your age: \"))\n",
    "        if age < 0 or age > 120:\n",
    "            raise InvalidAgeError(\"Age must be between 0 and 120.\")\n",
    "        print(f\"Your age is {age}.\")\n",
    "    \n",
    "    except ValueError:\n",
    "        print(\"Error: Please enter a valid integer for age.\")\n",
    "    \n",
    "    except InvalidAgeError as e:\n",
    "        print(f\"InvalidAgeError: {e}\")\n",
    "\n",
    "check_age()\n"
   ]
  },
  {
   "cell_type": "code",
   "execution_count": null,
   "id": "ea75a917-23a3-4cd5-8d21-3e4d1a59509a",
   "metadata": {},
   "outputs": [],
   "source": []
  },
  {
   "cell_type": "markdown",
   "id": "6384c9bf-8910-4561-9acb-d9a5cab7dffe",
   "metadata": {},
   "source": [
    "##### Q. Implement a program that reads user input for a password. Create a custom exception WeakPasswordError to handle cases where the password should be\n",
    "  - at least 8 characters\n",
    "  - at least 1 uppercase letter, 1 lowercase letter, and 1 number\n",
    "  - contain special characters\n",
    "\n",
    "  Hint: WeakPasswordError that inherits Exception class"
   ]
  },
  {
   "cell_type": "code",
   "execution_count": 39,
   "id": "4d5a3861-1a29-4bae-9768-cbfe47f56612",
   "metadata": {},
   "outputs": [
    {
     "name": "stdin",
     "output_type": "stream",
     "text": [
      "Enter your password:  fd\n"
     ]
    },
    {
     "name": "stdout",
     "output_type": "stream",
     "text": [
      "WeakPasswordError: Password is too weak! It must be at least 8 characters long, contain uppercase, lowercase, digit, and a special character.\n"
     ]
    }
   ],
   "source": [
    "import re\n",
    "\n",
    "# Custom exception class\n",
    "class WeakPasswordError(Exception):\n",
    "    pass\n",
    "\n",
    "def check_password_strength(password):\n",
    "    # Check all required conditions\n",
    "    if (len(password) < 8 or\n",
    "        not re.search(r'[A-Z]', password) or\n",
    "        not re.search(r'[a-z]', password) or\n",
    "        not re.search(r'\\d', password) or\n",
    "        not re.search(r'[!@#$%^&*(),.?\":{}|<>]', password)):\n",
    "        \n",
    "        raise WeakPasswordError(\"Password is too weak! It must be at least 8 characters long, \"\n",
    "                                \"contain uppercase, lowercase, digit, and a special character.\")\n",
    "    else:\n",
    "        print(\"Password is strong!\")\n",
    "\n",
    "try:\n",
    "    user_password = input(\"Enter your password: \")\n",
    "    check_password_strength(user_password)\n",
    "\n",
    "except WeakPasswordError as e:\n",
    "    print(f\"WeakPasswordError: {e}\")\n"
   ]
  },
  {
   "cell_type": "code",
   "execution_count": null,
   "id": "edf13479-9705-475e-9b69-5b44e278e4ee",
   "metadata": {},
   "outputs": [],
   "source": []
  },
  {
   "cell_type": "markdown",
   "id": "50725742-8732-4457-813d-d866b001d6c6",
   "metadata": {},
   "source": [
    "##### Q. Create a Python class to represent a University. The university should have attributes like name, location, and a list of departments. Implement encapsulation to protect the internal data of the University class. Create a Department class that inherits from the University class. The Department class should have attributes like department name, head of the department, and a list of courses offered. Implement polymorphism by defining a common method for both the University and Department classes to display their details. "
   ]
  },
  {
   "cell_type": "code",
   "execution_count": 41,
   "id": "ff09b53a-08ea-455e-a923-b7164eaced76",
   "metadata": {},
   "outputs": [
    {
     "name": "stdout",
     "output_type": "stream",
     "text": [
      "University Details:\n",
      "Name: Tech University\n",
      "Location: Kathmandu\n",
      "Departments: Computer Science, Mechanical Engineering\n",
      "\n",
      "----------------------------------------\n",
      "\n",
      "Department Details:\n",
      "University: Tech University\n",
      "Location: Kathmandu\n",
      "Department Name: Computer Science\n",
      "Head of Department: Dr. Sharma\n",
      "Courses Offered: Data Structures, Machine Learning\n"
     ]
    }
   ],
   "source": [
    "# Base class: University\n",
    "class University:\n",
    "    def __init__(self, name, location, departments=None):\n",
    "        self.__name = name\n",
    "        self.__location = location\n",
    "        self.__departments = departments if departments else []\n",
    "\n",
    "    # Encapsulation: Getter and Setter methods\n",
    "    def get_name(self):\n",
    "        return self.__name\n",
    "\n",
    "    def set_name(self, name):\n",
    "        self.__name = name\n",
    "\n",
    "    def get_location(self):\n",
    "        return self.__location\n",
    "\n",
    "    def set_location(self, location):\n",
    "        self.__location = location\n",
    "\n",
    "    def get_departments(self):\n",
    "        return self.__departments\n",
    "\n",
    "    def add_department(self, department_name):\n",
    "        self.__departments.append(department_name)\n",
    "\n",
    "    # Polymorphic method\n",
    "    def display_details(self):\n",
    "        print(\"University Details:\")\n",
    "        print(f\"Name: {self.__name}\")\n",
    "        print(f\"Location: {self.__location}\")\n",
    "        print(f\"Departments: {', '.join(self.__departments) if self.__departments else 'None'}\")\n",
    "\n",
    "\n",
    "# Derived class: Department\n",
    "class Department(University):\n",
    "    def __init__(self, name, location, department_name, head, courses=None):\n",
    "        super().__init__(name, location)\n",
    "        self.__department_name = department_name\n",
    "        self.__head = head\n",
    "        self.__courses = courses if courses else []\n",
    "\n",
    "    def get_department_name(self):\n",
    "        return self.__department_name\n",
    "\n",
    "    def get_head(self):\n",
    "        return self.__head\n",
    "\n",
    "    def add_course(self, course):\n",
    "        self.__courses.append(course)\n",
    "\n",
    "    def get_courses(self):\n",
    "        return self.__courses\n",
    "\n",
    "    # Polymorphic method (overridden)\n",
    "    def display_details(self):\n",
    "        print(\"Department Details:\")\n",
    "        print(f\"University: {self.get_name()}\")\n",
    "        print(f\"Location: {self.get_location()}\")\n",
    "        print(f\"Department Name: {self.__department_name}\")\n",
    "        print(f\"Head of Department: {self.__head}\")\n",
    "        print(f\"Courses Offered: {', '.join(self.__courses) if self.__courses else 'None'}\")\n",
    "\n",
    "# Create a university\n",
    "uni = University(\"Tech University\", \"Kathmandu\")\n",
    "uni.add_department(\"Computer Science\")\n",
    "uni.add_department(\"Mechanical Engineering\")\n",
    "uni.display_details()\n",
    "\n",
    "print(\"\\n\" + \"-\"*40 + \"\\n\")\n",
    "\n",
    "# Create a department\n",
    "cs_dept = Department(\"Tech University\", \"Kathmandu\", \"Computer Science\", \"Dr. Sharma\")\n",
    "cs_dept.add_course(\"Data Structures\")\n",
    "cs_dept.add_course(\"Machine Learning\")\n",
    "cs_dept.display_details()\n"
   ]
  },
  {
   "cell_type": "code",
   "execution_count": null,
   "id": "a1fb12b2-a188-46bf-b907-f5852e55c6ab",
   "metadata": {},
   "outputs": [],
   "source": []
  },
  {
   "cell_type": "markdown",
   "id": "d921acab-ddf1-4ab7-88a4-cb3bb3e58b04",
   "metadata": {},
   "source": [
    "##### Q. Build a Python class to represent a simple banking system. Create a class for a BankAccount, and another for Customer. The BankAccount class should have a constructor to initialize the account details (account number, balance, account type). The Customer class should have a constructor to set the customer's details (name, age, address) and create a BankAccount object for each customer. Implement a destructor for both classes to display a message when objects are destroyed."
   ]
  },
  {
   "cell_type": "code",
   "execution_count": 42,
   "id": "06b57357-ae6a-4c99-bf17-d537513df325",
   "metadata": {},
   "outputs": [
    {
     "name": "stdout",
     "output_type": "stream",
     "text": [
      "Creating customer...\n",
      "\n",
      "BankAccount created: ACC12345, Type: Savings, Balance: 50000\n",
      "Customer created: Alice Sharma\n",
      "\n",
      "Displaying customer info:\n",
      "\n",
      "Customer Name: Alice Sharma\n",
      "Age: 30\n",
      "Address: Kathmandu\n",
      "Bank Account Details:\n",
      "Account Number: ACC12345\n",
      "Account Type: Savings\n",
      "Balance: 50000\n",
      "\n",
      "Deleting customer...\n",
      "\n",
      "Customer Alice Sharma's record is deleted.\n",
      "BankAccount ACC12345 is closed.\n"
     ]
    }
   ],
   "source": [
    "# Class for Bank Account\n",
    "class BankAccount:\n",
    "    def __init__(self, account_number, balance, account_type):\n",
    "        self.account_number = account_number\n",
    "        self.balance = balance\n",
    "        self.account_type = account_type\n",
    "        print(f\"BankAccount created: {account_number}, Type: {account_type}, Balance: {balance}\")\n",
    "\n",
    "    def display_account_info(self):\n",
    "        print(f\"Account Number: {self.account_number}\")\n",
    "        print(f\"Account Type: {self.account_type}\")\n",
    "        print(f\"Balance: {self.balance}\")\n",
    "\n",
    "    # Destructor\n",
    "    def __del__(self):\n",
    "        print(f\"BankAccount {self.account_number} is closed.\")\n",
    "\n",
    "\n",
    "# Class for Customer\n",
    "class Customer:\n",
    "    def __init__(self, name, age, address, account_number, balance, account_type):\n",
    "        self.name = name\n",
    "        self.age = age\n",
    "        self.address = address\n",
    "        # Each customer has one BankAccount\n",
    "        self.bank_account = BankAccount(account_number, balance, account_type)\n",
    "        print(f\"Customer created: {self.name}\")\n",
    "\n",
    "    def display_customer_info(self):\n",
    "        print(f\"Customer Name: {self.name}\")\n",
    "        print(f\"Age: {self.age}\")\n",
    "        print(f\"Address: {self.address}\")\n",
    "        print(\"Bank Account Details:\")\n",
    "        self.bank_account.display_account_info()\n",
    "\n",
    "    # Destructor\n",
    "    def __del__(self):\n",
    "        print(f\"Customer {self.name}'s record is deleted.\")\n",
    "\n",
    "\n",
    "# 🔍 Example Usage\n",
    "print(\"Creating customer...\\n\")\n",
    "customer1 = Customer(\"Alice Sharma\", 30, \"Kathmandu\", \"ACC12345\", 50000, \"Savings\")\n",
    "print(\"\\nDisplaying customer info:\\n\")\n",
    "customer1.display_customer_info()\n",
    "\n",
    "print(\"\\nDeleting customer...\\n\")\n",
    "del customer1\n"
   ]
  },
  {
   "cell_type": "code",
   "execution_count": null,
   "id": "18692d10-e41a-412f-b0c5-37e8fd7ec042",
   "metadata": {},
   "outputs": [],
   "source": []
  }
 ],
 "metadata": {
  "kernelspec": {
   "display_name": "Python 3 (ipykernel)",
   "language": "python",
   "name": "python3"
  },
  "language_info": {
   "codemirror_mode": {
    "name": "ipython",
    "version": 3
   },
   "file_extension": ".py",
   "mimetype": "text/x-python",
   "name": "python",
   "nbconvert_exporter": "python",
   "pygments_lexer": "ipython3",
   "version": "3.12.7"
  }
 },
 "nbformat": 4,
 "nbformat_minor": 5
}
