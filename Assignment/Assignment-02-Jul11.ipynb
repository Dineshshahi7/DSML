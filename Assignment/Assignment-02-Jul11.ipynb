{
 "cells": [
  {
   "cell_type": "markdown",
   "metadata": {},
   "source": [
    "### Question : Check for Palindrome\n",
    "Write a Python program using a lambda function to check if a given string is a palindrome.\n",
    "\n",
    "Example:\n",
    "\n",
    "Input: `\"level\"`\n",
    "\n",
    "Output: `True`"
   ]
  },
  {
   "cell_type": "code",
   "execution_count": 1,
   "metadata": {},
   "outputs": [
    {
     "name": "stdout",
     "output_type": "stream",
     "text": [
      "True\n"
     ]
    }
   ],
   "source": [
    "# Lambda function to check for palindrome\n",
    "is_palindrome = lambda s: s == s[::-1]\n",
    "\n",
    "input_str = \"level\"\n",
    "\n",
    "print(is_palindrome(input_str))\n"
   ]
  },
  {
   "cell_type": "code",
   "execution_count": null,
   "metadata": {},
   "outputs": [],
   "source": []
  },
  {
   "cell_type": "markdown",
   "metadata": {},
   "source": [
    "### Question: \n",
    "Write a Python program to check whether a given number is an Armstrong number or not.\n",
    "\n",
    "**Definition:**\n",
    "An **Armstrong number** (also known as a **narcissistic number**) is a number that is equal to the sum of its own digits each raised to the power of the number of digits. For example:\n",
    "- 153 is an Armstrong number because \\( 1^3 + 5^3 + 3^3 = 153 \\).\n",
    "- 9474 is an Armstrong number because \\( 9^4 + 4^4 + 7^4 + 4^4 = 9474 \\).\n",
    "\n",
    "**Input:**  \n",
    "An integer (e.g., 153).\n",
    "\n",
    "**Output:**  \n",
    "Output \"Yes, it's an Armstrong number.\" if the number is an Armstrong number. Otherwise, output \"No, it's not an Armstrong number.\"\n",
    "\n",
    "**Constraints:**  \n",
    "- The input should be a positive integer.  \n"
   ]
  },
  {
   "cell_type": "code",
   "execution_count": 3,
   "metadata": {},
   "outputs": [
    {
     "name": "stdin",
     "output_type": "stream",
     "text": [
      "Enter a positive integer:  10\n"
     ]
    },
    {
     "name": "stdout",
     "output_type": "stream",
     "text": [
      "No, it's not an Armstrong number.\n"
     ]
    }
   ],
   "source": [
    "def is_armstrong(number):\n",
    "    num_str = str(number)\n",
    "    num_digits = len(num_str)\n",
    "\n",
    "    total = sum(int(digit) ** num_digits for digit in num_str)\n",
    "    return total == number\n",
    "num = int(input(\"Enter a positive integer: \"))\n",
    "\n",
    "if num > 0:\n",
    "    if is_armstrong(num):\n",
    "        print(\"Yes, it's an Armstrong number.\")\n",
    "    else:\n",
    "        print(\"No, it's not an Armstrong number.\")\n",
    "else:\n",
    "    print(\"Please enter a positive integer.\")\n"
   ]
  },
  {
   "cell_type": "markdown",
   "metadata": {},
   "source": [
    "### Control Flow with Nested Loops and Complex Logic\n",
    "\n",
    "Write a Python program that simulates a **number guessing game**:\n",
    "\n",
    "1. The program should generate a random number between 1 and 100 and give the user 7 attempts to guess it.\n",
    "\n",
    "2. After each wrong guess, the program should provide a hint whether the guess was too high or too low.\n",
    "\n",
    "3. If the user fails to guess the number within the attempts, the program should reveal the number and ask if they would like to play again."
   ]
  },
  {
   "cell_type": "code",
   "execution_count": 4,
   "metadata": {},
   "outputs": [
    {
     "name": "stdout",
     "output_type": "stream",
     "text": [
      "🎯 Welcome to the Number Guessing Game!\n",
      "I'm thinking of a number between 1 and 100.\n",
      "You have 7 attempts to guess it.\n"
     ]
    },
    {
     "name": "stdin",
     "output_type": "stream",
     "text": [
      "\n",
      "Attempt 1: Enter your guess:  3\n"
     ]
    },
    {
     "name": "stdout",
     "output_type": "stream",
     "text": [
      "📉 Too low!\n"
     ]
    },
    {
     "name": "stdin",
     "output_type": "stream",
     "text": [
      "\n",
      "Attempt 2: Enter your guess:  5\n"
     ]
    },
    {
     "name": "stdout",
     "output_type": "stream",
     "text": [
      "📉 Too low!\n"
     ]
    },
    {
     "name": "stdin",
     "output_type": "stream",
     "text": [
      "\n",
      "Attempt 3: Enter your guess:  3\n"
     ]
    },
    {
     "name": "stdout",
     "output_type": "stream",
     "text": [
      "📉 Too low!\n"
     ]
    },
    {
     "name": "stdin",
     "output_type": "stream",
     "text": [
      "\n",
      "Attempt 4: Enter your guess:  3\n"
     ]
    },
    {
     "name": "stdout",
     "output_type": "stream",
     "text": [
      "📉 Too low!\n"
     ]
    },
    {
     "name": "stdin",
     "output_type": "stream",
     "text": [
      "\n",
      "Attempt 5: Enter your guess:  3\n"
     ]
    },
    {
     "name": "stdout",
     "output_type": "stream",
     "text": [
      "📉 Too low!\n"
     ]
    },
    {
     "name": "stdin",
     "output_type": "stream",
     "text": [
      "\n",
      "Attempt 6: Enter your guess:  3\n"
     ]
    },
    {
     "name": "stdout",
     "output_type": "stream",
     "text": [
      "📉 Too low!\n"
     ]
    },
    {
     "name": "stdin",
     "output_type": "stream",
     "text": [
      "\n",
      "Attempt 7: Enter your guess:  3\n"
     ]
    },
    {
     "name": "stdout",
     "output_type": "stream",
     "text": [
      "📉 Too low!\n",
      "\n",
      "😞 You've used all your attempts. The number was 80.\n"
     ]
    },
    {
     "name": "stdin",
     "output_type": "stream",
     "text": [
      "\n",
      "🔁 Do you want to play again? (yes/no):  no\n"
     ]
    },
    {
     "name": "stdout",
     "output_type": "stream",
     "text": [
      "👋 Thanks for playing! Goodbye.\n"
     ]
    }
   ],
   "source": [
    "import random\n",
    "\n",
    "def play_game():\n",
    "    # Generate a random number between 1 and 100\n",
    "    secret_number = random.randint(1, 100)\n",
    "    attempts = 7\n",
    "\n",
    "    print(\"🎯 Welcome to the Number Guessing Game!\")\n",
    "    print(\"I'm thinking of a number between 1 and 100.\")\n",
    "    print(f\"You have {attempts} attempts to guess it.\")\n",
    "\n",
    "    # Game loop: allow up to 7 attempts\n",
    "    for attempt in range(1, attempts + 1):\n",
    "        try:\n",
    "            guess = int(input(f\"\\nAttempt {attempt}: Enter your guess: \"))\n",
    "        except ValueError:\n",
    "            print(\"⚠️ Please enter a valid number.\")\n",
    "            continue\n",
    "\n",
    "        if guess == secret_number:\n",
    "            print(\"🎉 Congratulations! You guessed the number correctly!\")\n",
    "            break\n",
    "        elif guess < secret_number:\n",
    "            print(\"📉 Too low!\")\n",
    "        else:\n",
    "            print(\"📈 Too high!\")\n",
    "\n",
    "        if attempt == attempts:\n",
    "            print(f\"\\n😞 You've used all your attempts. The number was {secret_number}.\")\n",
    "\n",
    "# Main loop to ask if the user wants to play again\n",
    "while True:\n",
    "    play_game()\n",
    "    again = input(\"\\n🔁 Do you want to play again? (yes/no): \").strip().lower()\n",
    "    if again != \"yes\":\n",
    "        print(\"👋 Thanks for playing! Goodbye.\")\n",
    "        break\n"
   ]
  },
  {
   "cell_type": "markdown",
   "metadata": {},
   "source": [
    "\n",
    "### Write a Python program that iterates through integers from 1 to 50. For each multiple of three, print \"Fizz\" instead of the number; for each multiple of five, print \"Buzz\". For numbers that are multiples of both three and five, print \"FizzBuzz\".\n",
    "\n",
    "The FizzBuzz problem is a common coding challenge that is often used in programming interviews to test basic programming skills. The problem typically requires writing a function that prints numbers from 1 to a given limit, but with a twist:\n",
    "\n",
    "- For multiples of 3, print \"Fizz\" instead of the number.\n",
    "- For multiples of 5, print \"Buzz\" instead of the number.\n",
    "- For numbers which are multiples of both 3 and 5, print \"FizzBuzz\".\n",
    "\n",
    "\n"
   ]
  },
  {
   "cell_type": "code",
   "execution_count": 5,
   "metadata": {},
   "outputs": [
    {
     "name": "stdout",
     "output_type": "stream",
     "text": [
      "1\n",
      "2\n",
      "Fizz\n",
      "4\n",
      "Buzz\n",
      "Fizz\n",
      "7\n",
      "8\n",
      "Fizz\n",
      "Buzz\n",
      "11\n",
      "Fizz\n",
      "13\n",
      "14\n",
      "FizzBuzz\n",
      "16\n",
      "17\n",
      "Fizz\n",
      "19\n",
      "Buzz\n",
      "Fizz\n",
      "22\n",
      "23\n",
      "Fizz\n",
      "Buzz\n",
      "26\n",
      "Fizz\n",
      "28\n",
      "29\n",
      "FizzBuzz\n",
      "31\n",
      "32\n",
      "Fizz\n",
      "34\n",
      "Buzz\n",
      "Fizz\n",
      "37\n",
      "38\n",
      "Fizz\n",
      "Buzz\n",
      "41\n",
      "Fizz\n",
      "43\n",
      "44\n",
      "FizzBuzz\n",
      "46\n",
      "47\n",
      "Fizz\n",
      "49\n",
      "Buzz\n"
     ]
    }
   ],
   "source": [
    "# FizzBuzz program from 1 to 50\n",
    "for i in range(1, 51):\n",
    "    if i % 3 == 0 and i % 5 == 0:\n",
    "        print(\"FizzBuzz\")\n",
    "    elif i % 3 == 0:\n",
    "        print(\"Fizz\")\n",
    "    elif i % 5 == 0:\n",
    "        print(\"Buzz\")\n",
    "    else:\n",
    "        print(i)"
   ]
  },
  {
   "cell_type": "markdown",
   "metadata": {},
   "source": [
    "### Scenario:\n",
    "\n",
    "You are tasked with designing a system for a **vehicle rental company**. The company rents out various types of vehicles like **Cars** and **Bikes**, and each vehicle has some shared characteristics but also some distinct ones. \n",
    "\n",
    "### Requirements:\n",
    "1. Each **Vehicle** has attributes such as:\n",
    "   - `vehicle_id`: A unique identifier for the vehicle.\n",
    "   - `brand`: The brand of the vehicle.\n",
    "   - `rental_price`: Price per day to rent the vehicle.\n",
    "\n",
    "2. Both **Car** and **Bike** are types of **Vehicles**.  \n",
    "   - A **Car** has an additional attribute: `number_of_doors`.  \n",
    "   - A **Bike** has an additional attribute: `bike_type` (e.g., mountain bike, racing bike).\n",
    "\n",
    "3. You should provide methods to:\n",
    "   - **Calculate total rental cost**: Given the number of rental days, calculate the total cost for any vehicle.\n",
    "   - **Display vehicle details**: For both cars and bikes, display details including the unique attributes (e.g., `number_of_doors` for cars, `bike_type` for bikes).\n",
    "\n",
    "4. Implement the following OOP concepts:\n",
    "   - **Abstraction**: Provide a clean interface for calculating the total rental cost and displaying vehicle details, hiding the internal logic.\n",
    "   - **Inheritance**: Both **Car** and **Bike** should inherit common functionality from the **Vehicle** class.\n",
    "   - **Polymorphism**: Use method overriding so that the method for displaying vehicle details works differently for cars and bikes.\n",
    "\n",
    "---\n",
    "\n",
    "### Task:\n",
    "\n",
    "1. **Define a `Vehicle` base class** that implements the common attributes and methods.\n",
    "2. **Define two subclasses `Car` and `Bike`** that inherit from `Vehicle` and implement their specific attributes.\n",
    "3. Use encapsulation by making attributes private and providing public methods to interact with them.\n",
    "4. Use polymorphism to create a `display_details` method that behaves differently for `Car` and `Bike`.\n"
   ]
  },
  {
   "cell_type": "code",
   "execution_count": 6,
   "metadata": {},
   "outputs": [
    {
     "name": "stdout",
     "output_type": "stream",
     "text": [
      "🚗 Car Details:\n",
      "Car ID: C101\n",
      "Brand: Toyota\n",
      "Rental Price per Day: $50\n",
      "Number of Doors: 4\n",
      "Total Cost for 3 days: $150\n",
      "\n",
      "🚲 Bike Details:\n",
      "Bike ID: B202\n",
      "Brand: Trek\n",
      "Rental Price per Day: $20\n",
      "Bike Type: Mountain Bike\n",
      "Total Cost for 5 days: $100\n"
     ]
    }
   ],
   "source": [
    "from abc import ABC, abstractmethod\n",
    "\n",
    "# Base class: Vehicle\n",
    "class Vehicle(ABC):\n",
    "    def __init__(self, vehicle_id, brand, rental_price):\n",
    "        self.__vehicle_id = vehicle_id\n",
    "        self.__brand = brand\n",
    "        self.__rental_price = rental_price\n",
    "\n",
    "    # Encapsulated getters\n",
    "    def get_vehicle_id(self):\n",
    "        return self.__vehicle_id\n",
    "\n",
    "    def get_brand(self):\n",
    "        return self.__brand\n",
    "\n",
    "    def get_rental_price(self):\n",
    "        return self.__rental_price\n",
    "\n",
    "    # Abstraction using abstract method\n",
    "    @abstractmethod\n",
    "    def display_details(self):\n",
    "        pass\n",
    "\n",
    "    def calculate_total_cost(self, days):\n",
    "        return self.__rental_price * days\n",
    "\n",
    "\n",
    "# Subclass: Car\n",
    "class Car(Vehicle):\n",
    "    def __init__(self, vehicle_id, brand, rental_price, number_of_doors):\n",
    "        super().__init__(vehicle_id, brand, rental_price)\n",
    "        self.__number_of_doors = number_of_doors\n",
    "\n",
    "    def display_details(self):\n",
    "        print(f\"Car ID: {self.get_vehicle_id()}\")\n",
    "        print(f\"Brand: {self.get_brand()}\")\n",
    "        print(f\"Rental Price per Day: ${self.get_rental_price()}\")\n",
    "        print(f\"Number of Doors: {self.__number_of_doors}\")\n",
    "\n",
    "\n",
    "# Subclass: Bike\n",
    "class Bike(Vehicle):\n",
    "    def __init__(self, vehicle_id, brand, rental_price, bike_type):\n",
    "        super().__init__(vehicle_id, brand, rental_price)\n",
    "        self.__bike_type = bike_type\n",
    "\n",
    "    def display_details(self):\n",
    "        print(f\"Bike ID: {self.get_vehicle_id()}\")\n",
    "        print(f\"Brand: {self.get_brand()}\")\n",
    "        print(f\"Rental Price per Day: ${self.get_rental_price()}\")\n",
    "        print(f\"Bike Type: {self.__bike_type}\")\n",
    "\n",
    "\n",
    "# ----- Test the System -----\n",
    "if __name__ == \"__main__\":\n",
    "    # Create instances\n",
    "    car1 = Car(\"C101\", \"Toyota\", 50, 4)\n",
    "    bike1 = Bike(\"B202\", \"Trek\", 20, \"Mountain Bike\")\n",
    "\n",
    "    # Use polymorphism\n",
    "    print(\"🚗 Car Details:\")\n",
    "    car1.display_details()\n",
    "    print(f\"Total Cost for 3 days: ${car1.calculate_total_cost(3)}\\n\")\n",
    "\n",
    "    print(\"🚲 Bike Details:\")\n",
    "    bike1.display_details()\n",
    "    print(f\"Total Cost for 5 days: ${bike1.calculate_total_cost(5)}\")\n"
   ]
  },
  {
   "cell_type": "code",
   "execution_count": null,
   "metadata": {},
   "outputs": [],
   "source": []
  }
 ],
 "metadata": {
  "kernelspec": {
   "display_name": "Python 3 (ipykernel)",
   "language": "python",
   "name": "python3"
  },
  "language_info": {
   "codemirror_mode": {
    "name": "ipython",
    "version": 3
   },
   "file_extension": ".py",
   "mimetype": "text/x-python",
   "name": "python",
   "nbconvert_exporter": "python",
   "pygments_lexer": "ipython3",
   "version": "3.12.7"
  }
 },
 "nbformat": 4,
 "nbformat_minor": 4
}
