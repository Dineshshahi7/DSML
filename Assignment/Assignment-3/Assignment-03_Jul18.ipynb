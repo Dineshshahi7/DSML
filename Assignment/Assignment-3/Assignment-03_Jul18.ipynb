{
 "cells": [
  {
   "cell_type": "markdown",
   "id": "119ef6a9",
   "metadata": {},
   "source": [
    "### Math Tutor Using Random, Arithmetic Operators, and OOP\n",
    "\n",
    "*Scenario:*\n",
    "Create a `MathTutor` class that generates random math questions using `random` and `math operators`.\n",
    "\n",
    "* Track correct and incorrect answers.\n",
    "* Provide a score at the end.\n",
    "* Handle invalid input using exception handling.\n",
    "\n",
    "> Concepts: Random, Math, Exception Handling, Classes"
   ]
  },
  {
   "cell_type": "code",
   "execution_count": null,
   "id": "6a61330b-a554-4f5f-9a37-0756c593eebf",
   "metadata": {},
   "outputs": [],
   "source": [
    "import random\n",
    "\n",
    "class MathTutor:\n",
    "    def __init__(self):\n",
    "        self.correct = 0\n",
    "        self.incorrect = 0\n",
    "\n",
    "    def question_generate(self):\n",
    "        number1 = random.randint(1, 20)\n",
    "        number2 = random.randint(1, 20)\n",
    "        operator = random.choice(['+', '-', '*', '/'])\n",
    "\n",
    "        question = f\"{number1} {operator} {number2}\"\n",
    "        answer = eval(question)\n",
    "        answer = round(answer, 2)\n",
    "        return question, answer\n",
    "\n",
    "    def ask_to_user(self):\n",
    "        for i in range(5):\n",
    "            ques, correct_answer = self.question_generate()\n",
    "            try:\n",
    "                user_input = float(input(f\"Q{i+1}: {ques} = \"))\n",
    "                if abs(correct_answer == user_input):\n",
    "                    print(\"Correct!\\n\")\n",
    "                    self.correct += 1\n",
    "\n",
    "                else:\n",
    "                    print(f\"Wrong Answer: {correct_answer}\\n\")\n",
    "                    self.incorrect += 1\n",
    "\n",
    "            except:\n",
    "                print(\"Invalid input! Counted as wrong.\\n\")\n",
    "                self.incorrect += 1\n",
    "\n",
    "    def result(self):\n",
    "        print(\"=== Result ===\")\n",
    "        print(\"Correct:\", self.correct)\n",
    "        print(\"Incorrect:\", self.incorrect)\n",
    "        total = self.correct + self.incorrect\n",
    "        score = (self.correct / total) * 100\n",
    "        print(f\"Score: {score:.2f}%\")\n",
    "\n",
    "tutor = MathTutor()\n",
    "tutor.ask_to_user()\n",
    "tutor.result()\n",
    "                    "
   ]
  },
  {
   "cell_type": "markdown",
   "id": "360b4034",
   "metadata": {},
   "source": [
    "### Multi-file Project Using Modules and Packages\n",
    "\n",
    "*Scenario:*\n",
    "You're building a small finance app.\n",
    "\n",
    "* Create a package `finance_tools` with modules: `tax.py` and `loan.py`.\n",
    "* Each module contains utility functions like `calculate_tax()` and `calculate_emi()`.\n",
    "* Import and use them in a main script that takes user input to do both.\n",
    "\n",
    "> Concepts: Packages, Modules, Importing, Separation of Concerns\n"
   ]
  },
  {
   "cell_type": "code",
   "execution_count": 2,
   "id": "fbf73825",
   "metadata": {},
   "outputs": [],
   "source": []
  },
  {
   "cell_type": "markdown",
   "id": "1ecd8aa7",
   "metadata": {},
   "source": [
    "### Exception Handling Scenario: Online Age-Restricted Service\n",
    "\n",
    "**Scenario:**\n",
    "You’re building a sign-up system for an online movie rental platform. Some movies are age-restricted (18+). You need to ensure proper validation and error handling during user registration.\n",
    "\n",
    "**Task:**\n",
    "\n",
    "1. Create a custom exception class called `UnderageError` that inherits from `Exception`.\n",
    "2. Write a function `register_user()` that:\n",
    "\n",
    "   * Takes a user’s `name` and `age` as input.\n",
    "   * Raises `UnderageError` if the user is under 18.\n",
    "   * Otherwise, prints a welcome message.\n",
    "3. Wrap the function call in a `try` block and handle the exception.\n",
    "4. Use `else` to confirm successful registration and `finally` to always print **“Thank you for using MovieTime!”** regardless of outcome.\n",
    "\n",
    "Also try to validate if the age input is numeric. Raise a `ValueError` if not, and handle it separately.\n",
    "\n"
   ]
  },
  {
   "cell_type": "code",
   "execution_count": 5,
   "id": "3fd54170",
   "metadata": {},
   "outputs": [
    {
     "name": "stdin",
     "output_type": "stream",
     "text": [
      "Enter your name:  Dinesh\n",
      "Enter your age:  12\n"
     ]
    },
    {
     "name": "stdout",
     "output_type": "stream",
     "text": [
      "Register error: SorryDinesh, you must be at least 18 to register\n",
      "Thank you for visiting our site!\n"
     ]
    }
   ],
   "source": [
    "class UnderageError(Exception):\n",
    "    pass\n",
    "\n",
    "\n",
    "def register_user():\n",
    "    name = input(\"Enter your name: \")\n",
    "    age = input(\"Enter your age: \")\n",
    "    try:\n",
    "        if not age.isdigit():\n",
    "            raise ValueError(\"Age must be in number\")\n",
    "        age = int(age)\n",
    "\n",
    "        if age < 18:\n",
    "            raise UnderageError(f\"Sorry {name}, you must be at least 18 to register\")\n",
    "\n",
    "        else:\n",
    "            print(f\"Welcome, {name}! you have successfully registered !\")\n",
    "\n",
    "    except ValueError as ve:\n",
    "        print(\"Input Error: \", ve)\n",
    "\n",
    "    except UnderageError as ue:\n",
    "        print(\"Register error:\", ue)\n",
    "\n",
    "    finally:\n",
    "        print(\"Thank you for visiting our site!\")\n",
    "\n",
    "register_user()"
   ]
  },
  {
   "cell_type": "markdown",
   "id": "7e76d9b4",
   "metadata": {},
   "source": [
    "# Problem Statement\n",
    "\n",
    "We want to build an online shopping cart system that allows users to add products to their cart, calculate the total cost, apply discounts, and generate an invoice. The system should include the following functionalities:\n",
    "\n",
    "- Adding products to the cart\n",
    "- Removing products from the cart\n",
    "- Calculating the total cost\n",
    "- Applying discounts based on user type\n",
    "- Generating an invoice\n",
    "\n",
    "### 1. Create the Product class\n",
    "\n",
    "We create a basic `Product` class with attributes for the product name and price."
   ]
  },
  {
   "cell_type": "code",
   "execution_count": 27,
   "id": "a286f01a",
   "metadata": {},
   "outputs": [],
   "source": [
    "class Product:\n",
    "    def __init__(self, name, price):\n",
    "        self.name = name\n",
    "        self.price = price\n"
   ]
  },
  {
   "cell_type": "markdown",
   "id": "0c9aa397",
   "metadata": {},
   "source": [
    "### 2.  Implement the User class\n",
    "\n",
    "In this step, we create a `User` class with attributes for the user's name and whether they are a premium member."
   ]
  },
  {
   "cell_type": "code",
   "execution_count": 28,
   "id": "3393e953",
   "metadata": {},
   "outputs": [],
   "source": [
    "class User:\n",
    "    def __init__(self, name, is_premium=False):\n",
    "        self.name = name\n",
    "        self.is_premium = is_premium\n"
   ]
  },
  {
   "cell_type": "markdown",
   "id": "3b7e070b",
   "metadata": {},
   "source": [
    "### 3. Create the ShoppingCart class\n",
    "\n",
    "In this step, we create a `ShoppingCart` class with methods for adding and removing products from the cart, as well as calculating the total cost of the items in the cart.\n",
    "\n",
    "**Note**: Define `calculate_total_cost` method in the `ShoppingCart` class, that applies a `10%` discount to the total cost if you are `premium` User."
   ]
  },
  {
   "cell_type": "code",
   "execution_count": 29,
   "id": "c0b5196d",
   "metadata": {},
   "outputs": [],
   "source": [
    "class ShoppingCart:\n",
    "    def __init__(self, user):\n",
    "        self.user = user\n",
    "        self.products = []\n",
    "\n",
    "    def add_product(self, product):\n",
    "        self.products.append(product)\n",
    "        print(f\"Added {product.name} to cart.\")\n",
    "\n",
    "    def remove_product(self, product_name):\n",
    "        for p in self.products:\n",
    "            if p.name == product_name:\n",
    "                self.products.remove(p)\n",
    "                print(f\"Removed {product_name} from cart.\")\n",
    "                return\n",
    "        print(f\"{product_name} not found in cart.\")\n",
    "\n",
    "    def calculate_total_cost(self):\n",
    "        total = sum(p.price for p in self.products)\n",
    "        if self.user.is_premium:\n",
    "            discount = total * 0.10  # 10% discount\n",
    "            total -= discount\n",
    "        return total\n",
    "\n",
    "    def generate_invoice(self):\n",
    "        print(\"\\n--- Invoice ---\")\n",
    "        print(f\"Customer: {self.user.name}\")\n",
    "        print(f\"Premium Member: {'Yes' if self.user.is_premium else 'No'}\")\n",
    "        print(\"Products:\")\n",
    "        for p in self.products:\n",
    "            print(f\" - {p.name}: Rs {p.price:.2f}\")\n",
    "        total = self.calculate_total_cost()\n",
    "        print(f\"Total (after discount if applicable): Rs {total:.2f}\")\n",
    "        print(\"----------------\\n\")\n"
   ]
  },
  {
   "cell_type": "markdown",
   "id": "afc26053",
   "metadata": {},
   "source": [
    "### 4. Testing the functionality\n",
    "\n",
    "Now that we have implemented the necessary classes and methods, let's test our online shopping cart system:"
   ]
  },
  {
   "cell_type": "code",
   "execution_count": 30,
   "id": "6186bdcb",
   "metadata": {},
   "outputs": [
    {
     "name": "stdout",
     "output_type": "stream",
     "text": [
      "Added Laptop to cart.\n",
      "Added Headphones to cart.\n",
      "Added Mouse to cart.\n",
      "Removed Mouse from cart.\n",
      "Total cost: Rs 46800.00\n",
      "\n",
      "--- Invoice ---\n",
      "Customer: Swastik\n",
      "Premium Member: Yes\n",
      "Products:\n",
      " - Laptop: Rs 50000.00\n",
      " - Headphones: Rs 2000.00\n",
      "Total (after discount if applicable): Rs 46800.00\n",
      "----------------\n",
      "\n"
     ]
    }
   ],
   "source": [
    "# Create some products\n",
    "p1 = Product(\"Laptop\", 50000)\n",
    "p2 = Product(\"Headphones\", 2000)\n",
    "p3 = Product(\"Mouse\", 1500)\n",
    "\n",
    "# Create a user (premium)\n",
    "user = User(\"Dinesh\", is_premium=True)\n",
    "\n",
    "# Create a shopping cart for user\n",
    "cart = ShoppingCart(user)\n",
    "\n",
    "# Add products\n",
    "cart.add_product(p1)\n",
    "cart.add_product(p2)\n",
    "cart.add_product(p3)\n",
    "\n",
    "# Remove product\n",
    "cart.remove_product(\"Mouse\")\n",
    "\n",
    "# Calculate total cost\n",
    "print(f\"Total cost: Rs {cart.calculate_total_cost():.2f}\")\n",
    "\n",
    "# Generate invoice\n",
    "cart.generate_invoice()\n"
   ]
  },
  {
   "cell_type": "markdown",
   "id": "7ea7c96e",
   "metadata": {},
   "source": [
    "### 5. Generating Invoice for a given cart"
   ]
  },
  {
   "cell_type": "code",
   "execution_count": 8,
   "id": "c727607d-74ed-4609-bc88-3a14049c162f",
   "metadata": {},
   "outputs": [],
   "source": [
    "# Your Solution Here"
   ]
  },
  {
   "cell_type": "code",
   "execution_count": null,
   "id": "59e0bc19-36f6-4f4f-9d96-994e0dc19b59",
   "metadata": {},
   "outputs": [],
   "source": []
  }
 ],
 "metadata": {
  "kernelspec": {
   "display_name": "Python 3 (ipykernel)",
   "language": "python",
   "name": "python3"
  },
  "language_info": {
   "codemirror_mode": {
    "name": "ipython",
    "version": 3
   },
   "file_extension": ".py",
   "mimetype": "text/x-python",
   "name": "python",
   "nbconvert_exporter": "python",
   "pygments_lexer": "ipython3",
   "version": "3.12.7"
  }
 },
 "nbformat": 4,
 "nbformat_minor": 5
}
