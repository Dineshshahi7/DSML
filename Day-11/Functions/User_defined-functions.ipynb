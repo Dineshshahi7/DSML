{
 "cells": [
  {
   "cell_type": "markdown",
   "id": "53587be1-e665-42e0-99ff-0fc80fcdda64",
   "metadata": {},
   "source": [
    "## User-Defined Functions\n",
    "\n",
    "```python\n",
    "def function_name(params1, params2 ....):\n",
    "    # Function body\n",
    "    return output\n",
    "```\n",
    "\n",
    "In this syntax, `def` is the keyword used to define a function, `function_name` is the name of the function, and `parameter1`, `parameter2`, etc. are the input parameters of the function. The `return` keyword is used to specify the output value of the function.\n"
   ]
  },
  {
   "cell_type": "code",
   "execution_count": null,
   "id": "1033a12f-16ed-49a1-8ad1-5e438a4a03f5",
   "metadata": {},
   "outputs": [],
   "source": [
    "def sum_of_list(inp_list):\n",
    "    result = 0\n",
    "\n",
    "    for x in inp_list:\n",
    "        result += x\n",
    "\n",
    "    return result\n",
    "    "
   ]
  },
  {
   "cell_type": "code",
   "execution_count": null,
   "id": "397b01f8-3a97-4eb8-a4eb-6dbe83ffa500",
   "metadata": {},
   "outputs": [],
   "source": [
    "sum_of_list([2,4,6,8])"
   ]
  },
  {
   "cell_type": "markdown",
   "id": "fc153c7d-1dd9-45b6-8fdf-04ad23ef4050",
   "metadata": {},
   "source": [
    "Functions in Python can also have optional parameters with default values, which allows the caller to omit certain arguments if they are not needed. Here's an example that demonstrates how to define a function with optional parameters:"
   ]
  },
  {
   "cell_type": "code",
   "execution_count": null,
   "id": "850da68b-48c4-473f-bb53-4e11b5c7b24c",
   "metadata": {},
   "outputs": [],
   "source": [
    "def greet(name, greetings = \"Morning\"):\n",
    "    return f\"{greetings}, {name}\""
   ]
  },
  {
   "cell_type": "code",
   "execution_count": null,
   "id": "27034a3f-eb49-4a37-95a3-4eadc49e9bf4",
   "metadata": {},
   "outputs": [],
   "source": [
    "greet(\"Rohit\")"
   ]
  },
  {
   "cell_type": "code",
   "execution_count": null,
   "id": "b51ae749-a490-4dc2-b819-fcfc709b2410",
   "metadata": {},
   "outputs": [],
   "source": [
    "greet(\"Bob\", \"hi\")"
   ]
  },
  {
   "cell_type": "markdown",
   "id": "84aede10-7f99-406f-8072-209a968e8846",
   "metadata": {},
   "source": [
    "In this example, we define a function called `greet` that takes an input parameter `name` and an optional parameter `greeting` with a default value of `'Hello'`. The function returns a greeting message that includes the `name` and the `greeting`. We then call the function with only the name argument in the first case, and with both name and greeting arguments in the second case.\n"
   ]
  },
  {
   "cell_type": "markdown",
   "id": "b4106d83-0e33-4238-ae43-7e28775080f2",
   "metadata": {},
   "source": [
    "Functions in Python can also have variable-length argument lists. These are called `*args` and `**kwargs`, and they allow the function to accept any number of arguments and keyword arguments, respectively. Here's an example that demonstrates how to define a function with variable-length argument lists:"
   ]
  },
  {
   "cell_type": "code",
   "execution_count": null,
   "id": "dc486d54-2e86-432b-8408-6d4d482fd252",
   "metadata": {},
   "outputs": [],
   "source": [
    "def print_args(*args):\n",
    "    print(\"Positional Args\")\n",
    "    for arg in args:\n",
    "        print(arg)\n"
   ]
  },
  {
   "cell_type": "code",
   "execution_count": null,
   "id": "f3c1a6cb-742b-4624-8149-7a43ee2563b8",
   "metadata": {},
   "outputs": [],
   "source": [
    "print_args(1,3,4,5,[5,6], \"ram\")"
   ]
  },
  {
   "cell_type": "code",
   "execution_count": null,
   "id": "d7acf0e2-2d1d-4cb8-a008-8800693b9266",
   "metadata": {},
   "outputs": [],
   "source": [
    "def print_kargs(**kwargs):\n",
    "    print(\"keywords Args\")\n",
    "    print(kwargs)\n",
    "    length = kwargs.get('length')"
   ]
  },
  {
   "cell_type": "code",
   "execution_count": null,
   "id": "7a5920cd-1d9e-41c6-a0f5-5ce825605914",
   "metadata": {},
   "outputs": [],
   "source": [
    "print_kargs(length = 4,breadth = 5)"
   ]
  },
  {
   "cell_type": "code",
   "execution_count": null,
   "id": "1e13483b-e74f-4b94-8d12-6e4fb866aff2",
   "metadata": {},
   "outputs": [],
   "source": [
    "def print_arguments(*args,  **kwargs):\n",
    "    print(\"Positional\")\n",
    "    print(args)\n",
    "    print(\"-\"*50)\n",
    "    print(\"Keywords\")\n",
    "    print(kwargs)"
   ]
  },
  {
   "cell_type": "code",
   "execution_count": null,
   "id": "9b3992ab-c3ed-404f-8ffd-01a829de7050",
   "metadata": {},
   "outputs": [],
   "source": [
    "print_arguments(\"ram\", 1, True, score = [1,4,6], greet = \"Hello\")"
   ]
  },
  {
   "cell_type": "markdown",
   "id": "09bdce82-fecc-43bd-8eef-c19fcd5c791d",
   "metadata": {},
   "source": [
    "In this example, we define a function called `print_arguments that accepts a variable number of positional arguments (*args) and keyword arguments (**kwargs). The function then prints the positional and keyword arguments to the console."
   ]
  },
  {
   "cell_type": "code",
   "execution_count": null,
   "id": "88f19c33-5952-437a-899f-d85885a72c7c",
   "metadata": {},
   "outputs": [],
   "source": []
  },
  {
   "cell_type": "markdown",
   "id": "1b466f65-a6db-43fc-9044-661d239d38bc",
   "metadata": {},
   "source": [
    "### Documentation in Function\n",
    "\n",
    "Python docstrings are the string literals that appear right after the definition of a function, method, class, or module. Let's take an example.\n",
    "\n",
    "Refer: [Programiz Docs](https://www.programiz.com/python-programming/docstrings)"
   ]
  },
  {
   "cell_type": "code",
   "execution_count": null,
   "id": "a764acaf-e6ed-4ea2-91ae-e60476767957",
   "metadata": {},
   "outputs": [],
   "source": [
    "def square(n: int) -> int:\n",
    "    \"\"\"Exponential power 2 of a number\n",
    "\n",
    "    Parameters\n",
    "    ----------\n",
    "    n : int\n",
    "        Enter a number , int or float\n",
    "\n",
    "    Returns\n",
    "    -------\n",
    "    int\n",
    "        Retuns back square of number\n",
    "    \"\"\"\n",
    "    return n ** 2"
   ]
  },
  {
   "cell_type": "code",
   "execution_count": null,
   "id": "7c98fbe7-7f8d-4eb7-95bb-af9e8a50cfc5",
   "metadata": {},
   "outputs": [],
   "source": [
    "square(7)"
   ]
  },
  {
   "cell_type": "code",
   "execution_count": null,
   "id": "52a5b69f-ee53-4f50-b161-b185cbe84645",
   "metadata": {},
   "outputs": [],
   "source": [
    "square()"
   ]
  },
  {
   "cell_type": "code",
   "execution_count": null,
   "id": "a585ec26-4ec4-4db0-8f51-7c5d3d7e8c0a",
   "metadata": {},
   "outputs": [],
   "source": []
  },
  {
   "cell_type": "markdown",
   "id": "a07ac00a-57c7-453b-86b8-b258b7b394b3",
   "metadata": {},
   "source": [
    "### Question : Calculate Std. Deviation of given list.\n",
    "\n",
    "Standard Deviation : $\\sqrt{\\frac{\\sum{(X - \\bar{X})}^2}{N}}$"
   ]
  },
  {
   "cell_type": "code",
   "execution_count": 9,
   "id": "e3e1291e-6b03-4098-98f5-1a0d721f78dc",
   "metadata": {},
   "outputs": [
    {
     "data": {
      "text/plain": [
       "122.24080934266591"
      ]
     },
     "execution_count": 9,
     "metadata": {},
     "output_type": "execute_result"
    }
   ],
   "source": [
    "from math import sqrt\n",
    "\n",
    "def st_deviation(*inp_list)-> float:\n",
    "    \"\"\" Function to calculate std form list \"\"\"\n",
    "    N = len(inp_list)\n",
    "    if N == 0:\n",
    "        return 0\n",
    "    \n",
    "    mean = sum(inp_list) / N\n",
    "    summation = sum([(x-mean)**2 for x in inp_list])\n",
    "    result = sqrt(summation / N)\n",
    "    \n",
    "    return result\n",
    "\n",
    "st_deviation(1,4.65,5,3,6,88.6,98,44,3,33,456,98.5)"
   ]
  },
  {
   "cell_type": "code",
   "execution_count": 6,
   "id": "687a314b-fc60-4fab-8227-2b06a09565bb",
   "metadata": {},
   "outputs": [],
   "source": [
    "def st_deviation(*args)-> float:\n",
    "    print(args)"
   ]
  },
  {
   "cell_type": "code",
   "execution_count": 7,
   "id": "e1579e53-96cd-43ee-90fc-4a2033f2b77b",
   "metadata": {},
   "outputs": [
    {
     "name": "stdout",
     "output_type": "stream",
     "text": [
      "(1, 2, 3, 4)\n"
     ]
    }
   ],
   "source": [
    "st_deviation(1,2,3,4)"
   ]
  },
  {
   "cell_type": "code",
   "execution_count": null,
   "id": "dc5ded08-9820-474b-bd5b-c1990a34fc05",
   "metadata": {},
   "outputs": [],
   "source": []
  }
 ],
 "metadata": {
  "kernelspec": {
   "display_name": "Python 3 (ipykernel)",
   "language": "python",
   "name": "python3"
  },
  "language_info": {
   "codemirror_mode": {
    "name": "ipython",
    "version": 3
   },
   "file_extension": ".py",
   "mimetype": "text/x-python",
   "name": "python",
   "nbconvert_exporter": "python",
   "pygments_lexer": "ipython3",
   "version": "3.10.12"
  }
 },
 "nbformat": 4,
 "nbformat_minor": 5
}
