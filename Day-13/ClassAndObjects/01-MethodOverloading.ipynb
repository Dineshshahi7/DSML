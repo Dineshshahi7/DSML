{
 "cells": [
  {
   "cell_type": "markdown",
   "id": "954636d1-dc01-4ae8-af89-2e854176eee0",
   "metadata": {},
   "source": [
    "# Method Overloading in Python\n",
    "\n",
    "Method overloading is a concept in object-oriented programming where a class can have multiple methods with the same name, but with different parameters or argument types. In Python, method overloading is not supported in the same way as it is in other object-oriented programming languages such as Java or C++. However, there are some ways to achieve similar functionality in Python."
   ]
  },
  {
   "cell_type": "markdown",
   "id": "088146ca-db9c-424f-96a4-2f61d093e619",
   "metadata": {},
   "source": [
    "One approach is to use default arguments in the method definition. For example, consider the following code:"
   ]
  },
  {
   "cell_type": "code",
   "execution_count": 1,
   "id": "db2396e7-05a8-486d-8656-81eb8ad01c9b",
   "metadata": {},
   "outputs": [],
   "source": [
    "class Example:\n",
    "    def add(self, a, b=0, c=0):\n",
    "        return a + b + c"
   ]
  },
  {
   "cell_type": "markdown",
   "id": "0d98cab3-1084-4a85-9fc5-170b3fc4f1f3",
   "metadata": {},
   "source": [
    "Here, the `add` method can take one, two, or three arguments. If only one argument is passed, it returns the value of that argument. If two arguments are passed, it returns the sum of those two arguments. And if three arguments are passed, it returns the sum of all three arguments.\n",
    "\n",
    "Another approach is to use variable-length arguments, which allow a method to take an arbitrary number of arguments. This can be achieved using the `*args` and `**kwargs` syntax. For example:"
   ]
  },
  {
   "cell_type": "code",
   "execution_count": 2,
   "id": "dcd530e7-011b-443c-b799-e370c968c312",
   "metadata": {},
   "outputs": [],
   "source": [
    "class Example:\n",
    "    def add(self, *args):\n",
    "        if len(args) == 1:\n",
    "            return args[0]\n",
    "        if len(args) == 2:\n",
    "            return args[0] + args[1]\n",
    "        else:\n",
    "            return \"Invalid\""
   ]
  },
  {
   "cell_type": "code",
   "execution_count": 7,
   "id": "c9e1134e-820e-4c5d-a2bf-838c317d2150",
   "metadata": {},
   "outputs": [
    {
     "data": {
      "text/plain": [
       "'ramchandra'"
      ]
     },
     "execution_count": 7,
     "metadata": {},
     "output_type": "execute_result"
    }
   ],
   "source": [
    "ex = Example()\n",
    "ex.add(\"ram\", \"chandra\")"
   ]
  },
  {
   "cell_type": "markdown",
   "id": "6b220c77-1b48-4c0a-970d-f627eaed1d5e",
   "metadata": {},
   "source": [
    "In this example, the `add` method takes any number of arguments, and the behavior is determined by the length of the arguments tuple.\n",
    "\n",
    "While these approaches can achieve similar functionality to method overloading, it is important to note that they are not exactly the same, and may not be suitable in all situations. It is generally recommended to use descriptive method names that reflect the intended behavior, rather than relying on overloading."
   ]
  },
  {
   "cell_type": "code",
   "execution_count": null,
   "id": "4ffb2a4e-d081-4a84-b6aa-38aadf5cc99b",
   "metadata": {},
   "outputs": [],
   "source": []
  }
 ],
 "metadata": {
  "kernelspec": {
   "display_name": "Python 3 (ipykernel)",
   "language": "python",
   "name": "python3"
  },
  "language_info": {
   "codemirror_mode": {
    "name": "ipython",
    "version": 3
   },
   "file_extension": ".py",
   "mimetype": "text/x-python",
   "name": "python",
   "nbconvert_exporter": "python",
   "pygments_lexer": "ipython3",
   "version": "3.10.12"
  }
 },
 "nbformat": 4,
 "nbformat_minor": 5
}
