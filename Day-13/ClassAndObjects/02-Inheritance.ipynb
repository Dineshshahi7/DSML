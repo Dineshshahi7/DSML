{
 "cells": [
  {
   "cell_type": "markdown",
   "id": "27786ed8-c0a2-4e1f-9ff9-5cdbb0f44ee8",
   "metadata": {},
   "source": [
    "# Inheritance in Python\n",
    "\n",
    "Inheritance is one of the key features of object-oriented programming. It allows a new class to be based on an existing class, inheriting all of the attributes and methods of the parent class. This enables code reuse, making it easier to write and maintain complex programs. The parent class is also called the `base` class, while the new class is called the `derived` class.\n",
    "\n",
    "Inheritance is a powerful tool that can greatly simplify code development and maintenance. By reusing existing code and building on top of it, we can avoid duplicating effort and create more complex and powerful programs.\n",
    "\n",
    "There are several types of inheritance, including single inheritance, multiple inheritance, multi-level inheritance, hierarchical inheritance, and hybrid inheritance. Let's discuss each of them independently."
   ]
  },
  {
   "cell_type": "markdown",
   "id": "d95d2c6e-eff7-4f19-ad97-77fe72a47768",
   "metadata": {},
   "source": [
    "## 1. Single Inheritance\n",
    "\n",
    "Single inheritance is a mechanism in object-oriented programming where a class (child or derived class) inherits properties and methods from another class (parent or base class). The derived class inherits all the attributes of the base class, and it can also add its own attributes and methods.\n",
    "\n",
    "To create a single inheritance relationship in Python, you define the derived class and the base class, and then use \n",
    "the syntax \n",
    "```python \n",
    "class DerivedClassName(BaseClassName):\n",
    "``` \n",
    "to declare the derived class, with the base class specified in the parentheses."
   ]
  },
  {
   "cell_type": "code",
   "execution_count": 2,
   "id": "1404623d-59d4-41c7-b1b9-10296d9fa377",
   "metadata": {},
   "outputs": [],
   "source": [
    "class Animal:\n",
    "    def __init__(self, name, age):\n",
    "        self.name = name\n",
    "        self.age = age\n",
    "\n",
    "    def intro(self):\n",
    "        print(f\"My name is {self.name}\")"
   ]
  },
  {
   "cell_type": "code",
   "execution_count": 3,
   "id": "be5cc4cb-3090-4e8b-a6aa-f3f18151246a",
   "metadata": {},
   "outputs": [],
   "source": [
    "class Cat(Animal):\n",
    "    def __init__(self, name, age, color):\n",
    "        super().__init__(name, age)\n",
    "        self.color = color\n",
    "\n",
    "    def speak(self):\n",
    "        print(\"meow\")"
   ]
  },
  {
   "cell_type": "code",
   "execution_count": 4,
   "id": "910dc3d9-0357-46fe-9376-0aac08662fe6",
   "metadata": {},
   "outputs": [],
   "source": [
    "cat = Cat(\"Fluppy\", 3, \"Grey\")"
   ]
  },
  {
   "cell_type": "code",
   "execution_count": 8,
   "id": "9c250c87-a556-448d-b9a7-f1e8f13306b5",
   "metadata": {},
   "outputs": [
    {
     "data": {
      "text/plain": [
       "'Fluppy'"
      ]
     },
     "execution_count": 8,
     "metadata": {},
     "output_type": "execute_result"
    }
   ],
   "source": [
    "cat.name"
   ]
  },
  {
   "cell_type": "code",
   "execution_count": 9,
   "id": "c76d144d-fe58-45e7-b20f-1205457944ab",
   "metadata": {},
   "outputs": [
    {
     "name": "stdout",
     "output_type": "stream",
     "text": [
      "meow\n"
     ]
    }
   ],
   "source": [
    "cat.speak()"
   ]
  },
  {
   "cell_type": "code",
   "execution_count": 10,
   "id": "76318f3e-fe8b-4779-af92-0b8374781c2f",
   "metadata": {},
   "outputs": [
    {
     "name": "stdout",
     "output_type": "stream",
     "text": [
      "My name is Fluppy\n"
     ]
    }
   ],
   "source": [
    "cat.intro()"
   ]
  },
  {
   "cell_type": "markdown",
   "id": "095d4453-6cc4-4bd1-9ef0-51d0ed53f680",
   "metadata": {},
   "source": [
    "In this example, we have defined two classes, `Animal` and `Cat`. `Cat` is the derived class, and it inherits from the base class `Animal`. The `Cat` class has its own `__init__()` method, which takes three arguments: `name, age, and color`. The `super()` function is used to call the base class constructor and pass `name and age` arguments to it. The `color` argument is specific to the `Cat` class, and is assigned as an attribute of the object and so is the `speak()` method."
   ]
  },
  {
   "cell_type": "markdown",
   "id": "78b65152-8ac0-4965-ac5c-10c96beef6fa",
   "metadata": {},
   "source": [
    "## 2. Multiple Inheritance\n",
    "\n",
    "Multiple inheritance is a feature where a class can inherit attributes and methods from more than one base class. It allows a subclass to inherit from multiple parent classes simultaneously. The syntax for multiple inheritance in Python is as follows:\n",
    "\n",
    "```python\n",
    "class MyClass(Parent1, Parent2, ...):\n",
    "    pass\n",
    "```\n",
    "In this example, `MyClass` inherits from `Parent1`, `Parent2`, and so on.\n",
    "\n",
    "When we call a method on an instance of `MyClass`, Python looks for the method in the following order:\n",
    "\n",
    "1. `MyClass` itself\n",
    "2. `Parent1`\n",
    "3. `Parent2`\n",
    "4. and so on\n",
    "\n",
    "This is called the `method resolution order (MRO)`, and it is determined at runtime using a depth-first search algorithm.\n",
    "\n",
    "Multiple inheritance can be a powerful feature of Python, but it can also be complex and can lead to code that is difficult to understand and maintain. It is important to use it judiciously and to keep the design of your classes simple and clear."
   ]
  },
  {
   "cell_type": "code",
   "execution_count": 11,
   "id": "6db8814b-99f2-4121-848e-612cb35f0ce5",
   "metadata": {},
   "outputs": [],
   "source": [
    "class Parent1:\n",
    "    def func1(self):\n",
    "        print(\"this is parent 1\")\n",
    "\n",
    "class Parent2:\n",
    "    def func2(self):\n",
    "        print(\"this is parent 2\")\n",
    "\n",
    "class Parent3:\n",
    "    def func2(self):\n",
    "        print(\"this is parent 3\")"
   ]
  },
  {
   "cell_type": "code",
   "execution_count": 17,
   "id": "6a9edc29-0942-4042-874f-0eb72fe161e4",
   "metadata": {},
   "outputs": [],
   "source": [
    "class Child(Parent1, Parent3, Parent2):\n",
    "    def func4(self):\n",
    "        print(\"This is child function\")"
   ]
  },
  {
   "cell_type": "code",
   "execution_count": 18,
   "id": "37d5306a-7005-441e-b4c6-e4633c70b447",
   "metadata": {},
   "outputs": [],
   "source": [
    "obj = Child()"
   ]
  },
  {
   "cell_type": "code",
   "execution_count": 19,
   "id": "5080cbd9-15bc-4773-b3c7-e3373b8ad2ad",
   "metadata": {},
   "outputs": [
    {
     "name": "stdout",
     "output_type": "stream",
     "text": [
      "this is parent 1\n"
     ]
    }
   ],
   "source": [
    "obj.func1()"
   ]
  },
  {
   "cell_type": "code",
   "execution_count": 20,
   "id": "01b60950-7fad-4baa-b3a0-45559160d9fd",
   "metadata": {},
   "outputs": [
    {
     "name": "stdout",
     "output_type": "stream",
     "text": [
      "This is child function\n"
     ]
    }
   ],
   "source": [
    "obj.func4()"
   ]
  },
  {
   "cell_type": "code",
   "execution_count": 21,
   "id": "01ea9124-be52-436b-b4c4-e38e4f973362",
   "metadata": {},
   "outputs": [
    {
     "name": "stdout",
     "output_type": "stream",
     "text": [
      "this is parent 3\n"
     ]
    }
   ],
   "source": [
    "obj.func2()"
   ]
  },
  {
   "cell_type": "code",
   "execution_count": null,
   "id": "4e7af396-599e-4f59-8baa-779374a86dea",
   "metadata": {},
   "outputs": [],
   "source": []
  },
  {
   "cell_type": "markdown",
   "id": "8467e5ec-0680-4a94-bd03-a5fbfe2f44e4",
   "metadata": {},
   "source": [
    "## 3. Multi-level inheritance\n",
    "\n",
    "Multilevel inheritance refers to the inheritance of a derived class from a base class, where the base class itself is derived from another base class. This means that a subclass will inherit from a superclass that has already inherited from another class.\n",
    "\n",
    "For example, consider three classes: `A`, `B`, and `C`. Class `A` is the parent class, class `B` is derived from class `A`, and class `C` is derived from class `B`. In this case, class `C` will inherit all the properties and methods of both class `B` and class `A`."
   ]
  },
  {
   "cell_type": "code",
   "execution_count": 22,
   "id": "39ba596b-7b0c-4996-9df1-a3ab6254e1d8",
   "metadata": {},
   "outputs": [],
   "source": [
    "class A:\n",
    "    def method_a(self):\n",
    "        print(\"This is method from Class A\")\n",
    "\n",
    "class B(A):\n",
    "    def method_b(self):\n",
    "        print(\"This is method from Class B\")\n",
    "\n",
    "class C(B):\n",
    "    def method_c(self):\n",
    "        print(\"This is method from Class C\")\n"
   ]
  },
  {
   "cell_type": "code",
   "execution_count": 23,
   "id": "e494120d-a7c9-4c10-b217-722cf44add42",
   "metadata": {},
   "outputs": [],
   "source": [
    "obj = C()"
   ]
  },
  {
   "cell_type": "code",
   "execution_count": 24,
   "id": "5d4de096-682e-497d-8f45-c15ebd1bae09",
   "metadata": {},
   "outputs": [
    {
     "name": "stdout",
     "output_type": "stream",
     "text": [
      "This is method from Class A\n"
     ]
    }
   ],
   "source": [
    "obj.method_a()"
   ]
  },
  {
   "cell_type": "code",
   "execution_count": 25,
   "id": "6826cf13-feb0-4342-9d46-c452c1f0e28d",
   "metadata": {},
   "outputs": [
    {
     "name": "stdout",
     "output_type": "stream",
     "text": [
      "This is method from Class B\n"
     ]
    }
   ],
   "source": [
    "obj.method_b()"
   ]
  },
  {
   "cell_type": "code",
   "execution_count": 26,
   "id": "057f90f3-8a40-4617-89da-d8770a0fc0f0",
   "metadata": {},
   "outputs": [
    {
     "name": "stdout",
     "output_type": "stream",
     "text": [
      "This is method from Class C\n"
     ]
    }
   ],
   "source": [
    "obj.method_c()"
   ]
  },
  {
   "cell_type": "markdown",
   "id": "2e83031c-ddf1-4bcb-b6e2-5855d4ed6442",
   "metadata": {},
   "source": [
    "In the above example, class `C` inherits from class `B`, which in turn inherits from class `A`. Therefore, class `C` has access to all the methods and properties of classes `B` and `A`. When an instance of class `C` is created, it can call the methods of all three classes.\n"
   ]
  },
  {
   "cell_type": "code",
   "execution_count": null,
   "id": "52964ff7-f8ef-4290-b981-684d004f4352",
   "metadata": {},
   "outputs": [],
   "source": []
  },
  {
   "cell_type": "markdown",
   "id": "7b2d7be1-649d-453d-835b-58ead4ea5bf8",
   "metadata": {},
   "source": [
    "### Designing a simple hierarchy of employees in a company.\n",
    "\n",
    "    - The Person class stores basic details like name and age.\n",
    "\n",
    "    - The Employee class inherits from Person and adds an employee ID.\n",
    "\n",
    "    - The Manager class inherits from Employee and adds a department.\n",
    "\n",
    "Write these classes and implement a method get_details() in the Manager class that returns a string with name, age, employee ID, and department."
   ]
  },
  {
   "cell_type": "code",
   "execution_count": 37,
   "id": "313dc1ab-a350-408d-b6ca-2bd81cff522f",
   "metadata": {},
   "outputs": [],
   "source": [
    "class Person:\n",
    "    def __init__(self, name, age):\n",
    "        self.name = name\n",
    "        self.age = age\n",
    "\n",
    "class Employee(Person):\n",
    "    def __init__(self, *args, emp_id=\"RAM\"):\n",
    "        super().__init__(*args)\n",
    "        self.emp_id = emp_id\n",
    "\n",
    "class Manager(Employee):\n",
    "    def __init__(self, name, age, emp_id, depart):\n",
    "        super().__init__(name, age, emp_id = emp_id)\n",
    "        self.depart = depart\n",
    "\n",
    "    def get_details(self):\n",
    "         print(f\"\"\"\n",
    "         Employee name is {self.name} and \n",
    "         age is {self.age} and employee id is {self.emp_id} and \n",
    "         department is {self.depart}\"\"\"\n",
    "        )\n"
   ]
  },
  {
   "cell_type": "code",
   "execution_count": 38,
   "id": "fbca5621-23a2-4736-83b7-ebc5c26f8b9a",
   "metadata": {},
   "outputs": [],
   "source": [
    "manager = Manager(\"Brendon S.\", 54, \"EMP2234\",\"Bio_Chemistry\")"
   ]
  },
  {
   "cell_type": "code",
   "execution_count": 34,
   "id": "e78e752b-bdcb-43c2-9e88-b5f9688105e3",
   "metadata": {},
   "outputs": [
    {
     "name": "stdout",
     "output_type": "stream",
     "text": [
      "\n",
      "         Employee name is Brendon S. and \n",
      "         age is 54 and employee id is EMP2234 and \n",
      "         department is Bio_Chemistry\n"
     ]
    }
   ],
   "source": [
    "manager.get_details()"
   ]
  },
  {
   "cell_type": "code",
   "execution_count": null,
   "id": "ac6bbed7-16af-4eb7-b59a-ebcf45cb63d0",
   "metadata": {},
   "outputs": [],
   "source": []
  },
  {
   "cell_type": "markdown",
   "id": "15f072d0-8452-43a1-bdb3-9a0d3be3d1e7",
   "metadata": {},
   "source": [
    "## 4. Hierarchical Inheritance\n",
    "\n",
    "Hierarchical inheritance is a type of inheritance in which more than one derived class inherits from a single base or parent class. In other words, it is a relationship between classes in which one class serves as a superclass for multiple subclasses.\n",
    "\n",
    "In Python, the syntax for creating hierarchical inheritance is similar to that of single inheritance. To implement hierarchical inheritance, we simply define multiple subclasses that inherit from the same base class. Each of these subclasses can have their own unique attributes and methods, in addition to the ones inherited from the base class."
   ]
  },
  {
   "cell_type": "code",
   "execution_count": 39,
   "id": "32dc6ec3-48ee-42ed-9195-854271ad2be6",
   "metadata": {},
   "outputs": [],
   "source": [
    "class Animal:\n",
    "    def __init__(self, name, age):\n",
    "        self.name = name\n",
    "        self.age = age\n",
    "\n",
    "    def intro(self):\n",
    "        print(f\"My name is {self.name}\")"
   ]
  },
  {
   "cell_type": "code",
   "execution_count": 41,
   "id": "8bd26d7e-181f-4c01-ac2f-833008436dcd",
   "metadata": {},
   "outputs": [],
   "source": [
    "class Cat(Animal):\n",
    "    def speak(self):\n",
    "        return \"meow\"\n",
    "\n",
    "class Dog(Animal):\n",
    "    def speak(self):\n",
    "        return \"Woof\"\n",
    "\n",
    "class Lion(Animal):\n",
    "    def speak(self):\n",
    "        return \"Roar\""
   ]
  },
  {
   "cell_type": "code",
   "execution_count": 43,
   "id": "60e618cf-b396-4d22-a723-0abf17594286",
   "metadata": {},
   "outputs": [],
   "source": [
    "cat = Cat(\"Fluffy\",33)"
   ]
  },
  {
   "cell_type": "code",
   "execution_count": 44,
   "id": "77fa8b78-cc0d-4662-a4d0-696707105fb9",
   "metadata": {},
   "outputs": [
    {
     "name": "stdout",
     "output_type": "stream",
     "text": [
      "My name is Fluffy\n"
     ]
    }
   ],
   "source": [
    "cat.intro()"
   ]
  },
  {
   "cell_type": "code",
   "execution_count": 45,
   "id": "0e800321-954d-4376-91ff-900dcefec415",
   "metadata": {},
   "outputs": [
    {
     "data": {
      "text/plain": [
       "'meow'"
      ]
     },
     "execution_count": 45,
     "metadata": {},
     "output_type": "execute_result"
    }
   ],
   "source": [
    "cat.speak()"
   ]
  },
  {
   "cell_type": "markdown",
   "id": "20c761c1-b50a-41c7-9752-3a3114032e08",
   "metadata": {},
   "source": [
    "In this example, we have a base class `Animal`, which has an `__init__` method that initializes the `name` attribute, as well as a `intro` method that is not implemented. We then define three subclasses, `Cat`, `Dog`, and `Lion`, each of which inherits from `Animal` and defines their own `speak` method.\n"
   ]
  },
  {
   "cell_type": "code",
   "execution_count": null,
   "id": "8bdea451-e3f8-46ee-89ba-8f78e751651c",
   "metadata": {},
   "outputs": [],
   "source": []
  },
  {
   "cell_type": "markdown",
   "id": "be1d635c-d260-4836-b7f7-55c0546a6bda",
   "metadata": {},
   "source": [
    "## 5. Hybrid Inheritance\n",
    "\n",
    "Hybrid inheritance is a combination of two or more types of inheritance from the above types."
   ]
  },
  {
   "cell_type": "code",
   "execution_count": 54,
   "id": "518b7f68-73a6-44a6-b2a5-9e033f44c44d",
   "metadata": {},
   "outputs": [],
   "source": [
    "class Animal:\n",
    "    def __init__(self, name, age = 2):\n",
    "        self.name = name\n",
    "        self.age = age\n",
    "\n",
    "    def intro(self):\n",
    "        print(f\"My name is {self.name}\")"
   ]
  },
  {
   "cell_type": "code",
   "execution_count": 55,
   "id": "973023ca-2208-42b7-8d82-26ab99bb98fb",
   "metadata": {},
   "outputs": [],
   "source": [
    "class Mammal(Animal):\n",
    "    def __init__(self,name, fur = False):\n",
    "        super().__init__(name)\n",
    "        self.fur = True\n",
    "\n",
    "    def birth(self):\n",
    "        print(f\"{self.name} give birth to live ones !\")\n",
    "\n",
    "class Birds(Animal):\n",
    "    def fly(self):\n",
    "        print(f\"{self.name} can fly !\")"
   ]
  },
  {
   "cell_type": "code",
   "execution_count": 56,
   "id": "b41e770e-f2cc-4aa9-b9e3-995c2526c944",
   "metadata": {},
   "outputs": [],
   "source": [
    "class Bat(Mammal, Birds):\n",
    "    pass"
   ]
  },
  {
   "cell_type": "code",
   "execution_count": 57,
   "id": "020c0d3e-e7cd-44af-9cfd-4f64695eb833",
   "metadata": {},
   "outputs": [],
   "source": [
    "b = Bat(\"Bruce\")"
   ]
  },
  {
   "cell_type": "code",
   "execution_count": 58,
   "id": "5a8487c1-9dde-4e52-b0a4-196c032bca28",
   "metadata": {},
   "outputs": [
    {
     "name": "stdout",
     "output_type": "stream",
     "text": [
      "My name is Bruce\n"
     ]
    }
   ],
   "source": [
    "b.intro()"
   ]
  },
  {
   "cell_type": "code",
   "execution_count": 59,
   "id": "570811e2-8eb3-49dd-965a-b534d8f0a2e0",
   "metadata": {},
   "outputs": [
    {
     "name": "stdout",
     "output_type": "stream",
     "text": [
      "Bruce give birth to live ones !\n"
     ]
    }
   ],
   "source": [
    "b.birth()"
   ]
  },
  {
   "cell_type": "code",
   "execution_count": 60,
   "id": "e2b6f32b-785f-46fb-a2a8-2fe2de85fcd9",
   "metadata": {},
   "outputs": [
    {
     "name": "stdout",
     "output_type": "stream",
     "text": [
      "Bruce can fly !\n"
     ]
    }
   ],
   "source": [
    "b.fly()"
   ]
  },
  {
   "cell_type": "markdown",
   "id": "f0e0a252-f859-429a-a428-a840ed761046",
   "metadata": {},
   "source": [
    "In this example, we have four classes: `Animal`, `Mammal`, `Bird`, and `Bat`. `Mammal` and `Bird` inherit from `Animal`, forming a multiple inheritance hierarchy. `Bat` then inherits from both `Mammal` and `Bird`, forming a hybrid inheritance hierarchy. This means that `Bat` has access to all the methods and attributes of `Animal`, `Mammal`, and `Bird`. When we create an instance of `Bat`, we can call all the methods defined in the parent classes."
   ]
  },
  {
   "cell_type": "code",
   "execution_count": null,
   "id": "4fbc6bf1-616a-4dbd-a904-94214c3719db",
   "metadata": {},
   "outputs": [],
   "source": []
  }
 ],
 "metadata": {
  "kernelspec": {
   "display_name": "Python 3 (ipykernel)",
   "language": "python",
   "name": "python3"
  },
  "language_info": {
   "codemirror_mode": {
    "name": "ipython",
    "version": 3
   },
   "file_extension": ".py",
   "mimetype": "text/x-python",
   "name": "python",
   "nbconvert_exporter": "python",
   "pygments_lexer": "ipython3",
   "version": "3.10.12"
  }
 },
 "nbformat": 4,
 "nbformat_minor": 5
}
