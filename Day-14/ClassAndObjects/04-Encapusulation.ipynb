{
 "cells": [
  {
   "cell_type": "markdown",
   "id": "639d2b9b-78ed-4574-ba31-a3ca94fc0b36",
   "metadata": {},
   "source": [
    "# Encapsulation in Python\n",
    "\n",
    "Encapsulation refers to the practice of hiding the implementation details of a class from the outside world and exposing only the necessary interfaces for interacting with the class. This can be achieved through the use of `access modifiers` (such as private, protected, and public). Encapsulation helps to ensure data integrity, prevent unauthorized access and modification of data, and improve code maintainability.\n",
    "\n",
    "In object-oriented programming, `access modifiers` are used to define the scope or visibility of class members (attributes and methods) in a class. These access modifiers determine which members can be accessed and modified by the code outside the class. In Python, there is no strict implementation of access modifiers like in other object-oriented languages such as Java or C++. However, there are naming conventions that are used to indicate the scope of a class member."
   ]
  },
  {
   "cell_type": "markdown",
   "id": "c6d070e4-9962-4b2f-97e5-b8b9b2e52255",
   "metadata": {},
   "source": [
    "**1. Private:** Private members are those that are intended to be used only within the class definition. In Python, private members are indicated by prefixing the attribute or method name with two underscores `(__)`.\n",
    "\n",
    "**2. Protected:** Protected members are those that can be accessed within the class definition and its subclasses. In Python, protected members are indicated by prefixing the attribute or method name with a single underscore `(_)`.\n",
    "\n",
    "**3. Public:** Public members are those that can be accessed by any code outside the class definition. In Python, public members do not have any special prefix or notation."
   ]
  },
  {
   "cell_type": "code",
   "execution_count": 17,
   "id": "0cad079b-2dbd-4038-9b55-982825f6ca78",
   "metadata": {},
   "outputs": [],
   "source": [
    "class Example:\n",
    "    def __init__(self):\n",
    "        self.public_var = 1\n",
    "        self.__private_var = 2\n",
    "        self._protected_var = 3\n",
    "\n",
    "    def public_method(self):\n",
    "        print(self.__private_var)\n",
    "        print(\"this is public\")\n",
    "        \n",
    "    def __private_method(self):\n",
    "        print(\"this is private\")\n",
    "        \n",
    "    def _protected_method(self):\n",
    "        print(\"this is protected\")"
   ]
  },
  {
   "cell_type": "code",
   "execution_count": 18,
   "id": "740cd0ad-f11e-4c2e-93ed-1b9e430856fe",
   "metadata": {},
   "outputs": [],
   "source": [
    "obj = Example()"
   ]
  },
  {
   "cell_type": "code",
   "execution_count": 19,
   "id": "1bb20246-24dc-4fad-9daf-2be65834c2a7",
   "metadata": {},
   "outputs": [
    {
     "data": {
      "text/plain": [
       "1"
      ]
     },
     "execution_count": 19,
     "metadata": {},
     "output_type": "execute_result"
    }
   ],
   "source": [
    "obj.public_var"
   ]
  },
  {
   "cell_type": "code",
   "execution_count": 20,
   "id": "882b303a-5828-44e8-a553-230e3a6b3397",
   "metadata": {},
   "outputs": [
    {
     "name": "stdout",
     "output_type": "stream",
     "text": [
      "2\n",
      "this is public\n"
     ]
    }
   ],
   "source": [
    "obj.public_method()"
   ]
  },
  {
   "cell_type": "code",
   "execution_count": 21,
   "id": "e87d51f0-f121-4f8d-8764-f56975e65261",
   "metadata": {},
   "outputs": [
    {
     "data": {
      "text/plain": [
       "3"
      ]
     },
     "execution_count": 21,
     "metadata": {},
     "output_type": "execute_result"
    }
   ],
   "source": [
    "obj._protected_var"
   ]
  },
  {
   "cell_type": "code",
   "execution_count": 22,
   "id": "002f1928-719f-405d-8b69-b4c5f440e46b",
   "metadata": {},
   "outputs": [
    {
     "name": "stdout",
     "output_type": "stream",
     "text": [
      "this is protected\n"
     ]
    }
   ],
   "source": [
    "obj._protected_method()"
   ]
  },
  {
   "cell_type": "code",
   "execution_count": 23,
   "id": "15842771-aecc-41d6-a29a-453568fb1643",
   "metadata": {},
   "outputs": [
    {
     "ename": "AttributeError",
     "evalue": "'Example' object has no attribute '__private_var'",
     "output_type": "error",
     "traceback": [
      "\u001b[0;31m---------------------------------------------------------------------------\u001b[0m",
      "\u001b[0;31mAttributeError\u001b[0m                            Traceback (most recent call last)",
      "Cell \u001b[0;32mIn[23], line 1\u001b[0m\n\u001b[0;32m----> 1\u001b[0m \u001b[43mobj\u001b[49m\u001b[38;5;241;43m.\u001b[39;49m\u001b[43m__private_var\u001b[49m\n",
      "\u001b[0;31mAttributeError\u001b[0m: 'Example' object has no attribute '__private_var'"
     ]
    }
   ],
   "source": [
    "obj.__private_var"
   ]
  },
  {
   "cell_type": "code",
   "execution_count": 10,
   "id": "0d019b54-d82f-4461-a75d-12c45182cea1",
   "metadata": {},
   "outputs": [
    {
     "ename": "AttributeError",
     "evalue": "'Example' object has no attribute '__private_method'",
     "output_type": "error",
     "traceback": [
      "\u001b[0;31m---------------------------------------------------------------------------\u001b[0m",
      "\u001b[0;31mAttributeError\u001b[0m                            Traceback (most recent call last)",
      "Cell \u001b[0;32mIn[10], line 1\u001b[0m\n\u001b[0;32m----> 1\u001b[0m \u001b[43mobj\u001b[49m\u001b[38;5;241;43m.\u001b[39;49m\u001b[43m__private_method\u001b[49m()\n",
      "\u001b[0;31mAttributeError\u001b[0m: 'Example' object has no attribute '__private_method'"
     ]
    }
   ],
   "source": [
    "obj.__private_method()"
   ]
  },
  {
   "cell_type": "markdown",
   "id": "6f876ac2-ab39-4d61-988f-d43b5e4d0d33",
   "metadata": {},
   "source": [
    "In this example, `public_var` and `public_method` are public members that can be accessed from anywhere. `_protected_var` and `_protected_method` are protected members that can be accessed within the class and its subclasses. `__private_var` and `__private_method` are private members that can only be accessed within the class definition."
   ]
  },
  {
   "cell_type": "code",
   "execution_count": 24,
   "id": "d85d5d1b-6762-4079-89a4-60c0a384efc3",
   "metadata": {},
   "outputs": [],
   "source": [
    "class SubClass(Example):\n",
    "    def get_public_member(self):\n",
    "        print(self.public_var)\n",
    "\n",
    "    def get_protected_member(self):\n",
    "        print(self._protected_var)\n",
    "\n",
    "    def get_private_member(self):\n",
    "        print(self.__private_var)"
   ]
  },
  {
   "cell_type": "code",
   "execution_count": 25,
   "id": "54a885d6-f951-46a7-aca0-5c64351ab278",
   "metadata": {},
   "outputs": [],
   "source": [
    "sub = SubClass()"
   ]
  },
  {
   "cell_type": "code",
   "execution_count": 26,
   "id": "66fbc258-319f-4d84-9f5b-abb383a5b665",
   "metadata": {},
   "outputs": [
    {
     "name": "stdout",
     "output_type": "stream",
     "text": [
      "1\n"
     ]
    }
   ],
   "source": [
    "sub.get_public_member()"
   ]
  },
  {
   "cell_type": "code",
   "execution_count": 27,
   "id": "e1742f7b-9889-4c4c-9094-ba1c9652007b",
   "metadata": {},
   "outputs": [
    {
     "name": "stdout",
     "output_type": "stream",
     "text": [
      "3\n"
     ]
    }
   ],
   "source": [
    "sub.get_protected_member()"
   ]
  },
  {
   "cell_type": "code",
   "execution_count": 28,
   "id": "9f2fdbbd-3b67-4337-9fa9-e0fa8bd3c9b1",
   "metadata": {},
   "outputs": [
    {
     "ename": "AttributeError",
     "evalue": "'SubClass' object has no attribute '_SubClass__private_var'",
     "output_type": "error",
     "traceback": [
      "\u001b[0;31m---------------------------------------------------------------------------\u001b[0m",
      "\u001b[0;31mAttributeError\u001b[0m                            Traceback (most recent call last)",
      "Cell \u001b[0;32mIn[28], line 1\u001b[0m\n\u001b[0;32m----> 1\u001b[0m \u001b[43msub\u001b[49m\u001b[38;5;241;43m.\u001b[39;49m\u001b[43mget_private_member\u001b[49m\u001b[43m(\u001b[49m\u001b[43m)\u001b[49m\n",
      "Cell \u001b[0;32mIn[24], line 9\u001b[0m, in \u001b[0;36mSubClass.get_private_member\u001b[0;34m(self)\u001b[0m\n\u001b[1;32m      8\u001b[0m \u001b[38;5;28;01mdef\u001b[39;00m \u001b[38;5;21mget_private_member\u001b[39m(\u001b[38;5;28mself\u001b[39m):\n\u001b[0;32m----> 9\u001b[0m     \u001b[38;5;28mprint\u001b[39m(\u001b[38;5;28;43mself\u001b[39;49m\u001b[38;5;241;43m.\u001b[39;49m\u001b[43m__private_var\u001b[49m)\n",
      "\u001b[0;31mAttributeError\u001b[0m: 'SubClass' object has no attribute '_SubClass__private_var'"
     ]
    }
   ],
   "source": [
    "sub.get_private_member()"
   ]
  },
  {
   "cell_type": "code",
   "execution_count": 29,
   "id": "8d627aa0-6eb2-460c-b39b-5f84366d402e",
   "metadata": {},
   "outputs": [
    {
     "name": "stdout",
     "output_type": "stream",
     "text": [
      "2\n",
      "this is public\n"
     ]
    }
   ],
   "source": [
    "sub.public_method()"
   ]
  },
  {
   "cell_type": "code",
   "execution_count": null,
   "id": "dbc56b5d-fcac-42b3-bb45-d1d133b2ec5f",
   "metadata": {},
   "outputs": [],
   "source": []
  },
  {
   "cell_type": "markdown",
   "id": "d193be0f-6865-4f53-8794-e9b29230873b",
   "metadata": {},
   "source": [
    "Create a class `BankAccount` that:\n",
    "1. Allows a user to create an account by providing a **name** and an initial **balance**. Let **balance** be private variable.\n",
    "2. Includes methods to **deposit**, **withdraw**, and **check balance**. The withdrawal should not allow an account to go negative.\n",
    "4. Uses **Inheritance** to create a subclass `SavingsAccount` that adds an interest rate. Implement a method to calculate interest on the balance and update it accordingly."
   ]
  },
  {
   "cell_type": "code",
   "execution_count": 40,
   "id": "a45ed0ff-e2d8-41e9-96a3-f188fdf0da73",
   "metadata": {},
   "outputs": [],
   "source": [
    "class BankAccount:\n",
    "    def __init__(self, name, balance = 0):\n",
    "        self.name = name\n",
    "        self.__balance = balance\n",
    "\n",
    "    def deposite(self, amount):\n",
    "        if amount > 0:\n",
    "            self.__balance += amount\n",
    "            print(f\"Added {amount} to account\")\n",
    "\n",
    "\n",
    "    def withdraw(self, amount):\n",
    "        if amount > 0:\n",
    "            new_balance = self.__balance - amount\n",
    "            if new_balance >= 0:\n",
    "                self.__balance = new_balance\n",
    "                print(f\"Deducted {amount} from account\")\n",
    "            else:\n",
    "                print(\"Insufficient Funds\")\n",
    "\n",
    "    def check_balance(self):\n",
    "        print(f\"{self.name} has ${self.__balance}\")\n",
    "        return self.__balance\n",
    "\n",
    "\n",
    "class SavingAccount(BankAccount):\n",
    "    def add_interest(self, rate = 5):\n",
    "        balance = self.check_balance()\n",
    "        interest = (balance * rate) / 100\n",
    "\n",
    "        print(f\"accuired interest {interest}\")\n",
    "\n",
    "        return interest"
   ]
  },
  {
   "cell_type": "code",
   "execution_count": 41,
   "id": "229f1546-e115-4a63-9ddb-5df0baa6e50f",
   "metadata": {},
   "outputs": [],
   "source": [
    "myacc = BankAccount(\"Shaielsh\", 200)"
   ]
  },
  {
   "cell_type": "code",
   "execution_count": 42,
   "id": "0442b406-113f-49bc-bf2d-943ddc53fcfc",
   "metadata": {},
   "outputs": [
    {
     "name": "stdout",
     "output_type": "stream",
     "text": [
      "Added 10 to account\n"
     ]
    }
   ],
   "source": [
    "myacc.deposite(10)"
   ]
  },
  {
   "cell_type": "code",
   "execution_count": 43,
   "id": "e63e1f7b-05b0-4f44-962b-ff7b5bf1a6d1",
   "metadata": {},
   "outputs": [
    {
     "name": "stdout",
     "output_type": "stream",
     "text": [
      "Shaielsh has $210\n"
     ]
    },
    {
     "data": {
      "text/plain": [
       "210"
      ]
     },
     "execution_count": 43,
     "metadata": {},
     "output_type": "execute_result"
    }
   ],
   "source": [
    "myacc.check_balance()"
   ]
  },
  {
   "cell_type": "code",
   "execution_count": 45,
   "id": "1a1c000c-0b8b-4cde-90c3-9d7177b56e38",
   "metadata": {},
   "outputs": [
    {
     "name": "stdout",
     "output_type": "stream",
     "text": [
      "Deducted 200 from account\n"
     ]
    }
   ],
   "source": [
    "myacc.withdraw(200)"
   ]
  },
  {
   "cell_type": "code",
   "execution_count": 46,
   "id": "0b062d95-2ff6-44f8-9ac8-a007d47ca5ec",
   "metadata": {},
   "outputs": [
    {
     "name": "stdout",
     "output_type": "stream",
     "text": [
      "Shaielsh has $10\n"
     ]
    },
    {
     "data": {
      "text/plain": [
       "10"
      ]
     },
     "execution_count": 46,
     "metadata": {},
     "output_type": "execute_result"
    }
   ],
   "source": [
    "myacc.check_balance()"
   ]
  },
  {
   "cell_type": "code",
   "execution_count": 47,
   "id": "c7d8e680-69e6-45fb-8589-32103fdd6d16",
   "metadata": {},
   "outputs": [],
   "source": [
    "sav_acc = SavingAccount(\"Rahul\", 1200)"
   ]
  },
  {
   "cell_type": "code",
   "execution_count": 48,
   "id": "627a37aa-e1d7-48e3-8255-99b1b61a4f13",
   "metadata": {},
   "outputs": [
    {
     "name": "stdout",
     "output_type": "stream",
     "text": [
      "Rahul has $1200\n",
      "accuired interest 60.0\n"
     ]
    },
    {
     "data": {
      "text/plain": [
       "60.0"
      ]
     },
     "execution_count": 48,
     "metadata": {},
     "output_type": "execute_result"
    }
   ],
   "source": [
    "sav_acc.add_interest()"
   ]
  },
  {
   "cell_type": "code",
   "execution_count": null,
   "id": "d0ae0e74-3ed4-4103-81bc-1bd54431b12f",
   "metadata": {},
   "outputs": [],
   "source": []
  }
 ],
 "metadata": {
  "kernelspec": {
   "display_name": "Python 3 (ipykernel)",
   "language": "python",
   "name": "python3"
  },
  "language_info": {
   "codemirror_mode": {
    "name": "ipython",
    "version": 3
   },
   "file_extension": ".py",
   "mimetype": "text/x-python",
   "name": "python",
   "nbconvert_exporter": "python",
   "pygments_lexer": "ipython3",
   "version": "3.10.12"
  }
 },
 "nbformat": 4,
 "nbformat_minor": 5
}
