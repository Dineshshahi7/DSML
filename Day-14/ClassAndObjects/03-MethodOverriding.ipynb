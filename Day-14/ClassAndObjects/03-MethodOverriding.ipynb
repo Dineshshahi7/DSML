{
 "cells": [
  {
   "cell_type": "markdown",
   "id": "65d2b40d-497a-48a2-b10b-cc8b606768ca",
   "metadata": {},
   "source": [
    "# Method Overriding in Python\n",
    "\n",
    "Method overriding refers to the ability of a subclass to provide its own implementation of a method that is already defined in its parent class. When a method in a subclass has the same name and parameters as a method in its parent class, the subclass method will override the parent class method.\n",
    "\n",
    "To override a method in Python, the subclass method must have the same name and parameters as the parent class method. When an object of the subclass calls the method, it will use the implementation provided in the subclass, rather than the one in the superclass."
   ]
  },
  {
   "cell_type": "code",
   "execution_count": 1,
   "id": "1f2064ec-9eef-4707-88dd-47678ff5a4b2",
   "metadata": {},
   "outputs": [],
   "source": [
    "class Animal :\n",
    "    def sound(self):\n",
    "        print(\"Making Animal Sound .. \")"
   ]
  },
  {
   "cell_type": "code",
   "execution_count": 3,
   "id": "85a40ca4-f562-42c3-a84c-63da47bccfa8",
   "metadata": {},
   "outputs": [],
   "source": [
    "class Dog(Animal):\n",
    "    def sound(self):\n",
    "        print(f\"Dog makes Woff sound\")"
   ]
  },
  {
   "cell_type": "code",
   "execution_count": 5,
   "id": "f92fa433-5126-4dff-8f0d-fe8a7c5a5c18",
   "metadata": {},
   "outputs": [],
   "source": [
    "class Cat(Animal):\n",
    "    def sound(self):\n",
    "        print(\"Meowing ...\")"
   ]
  },
  {
   "cell_type": "code",
   "execution_count": 4,
   "id": "b0d9cc88-2a92-49cb-ba01-80e5e93b775b",
   "metadata": {},
   "outputs": [
    {
     "name": "stdout",
     "output_type": "stream",
     "text": [
      "Dog makes Woff sound\n"
     ]
    }
   ],
   "source": [
    "dog = Dog()\n",
    "dog.sound()"
   ]
  },
  {
   "cell_type": "code",
   "execution_count": 6,
   "id": "3363738e-9cb7-4c0f-ac10-0ecf70a9ea94",
   "metadata": {},
   "outputs": [
    {
     "name": "stdout",
     "output_type": "stream",
     "text": [
      "Meowing ...\n"
     ]
    }
   ],
   "source": [
    "cat = Cat()\n",
    "cat.sound()"
   ]
  },
  {
   "cell_type": "markdown",
   "id": "5039be9b-0127-46f1-bdf9-fe2847df34d6",
   "metadata": {},
   "source": [
    "In this example, we define a superclass `Animal` with a method sound that prints a generic sound. We then define two subclasses, `Dog` and `Cat`, that override the sound method with their own implementation."
   ]
  },
  {
   "cell_type": "markdown",
   "id": "fbdb7b43-fa65-43b1-8f71-3787ca1f1ba6",
   "metadata": {},
   "source": [
    "The `super()` function can be used to call the overridden method in the parent class, so that the parental behaviour is not lost."
   ]
  },
  {
   "cell_type": "code",
   "execution_count": 8,
   "id": "ef3b890c-65ac-4bea-bacf-576e3f9e8764",
   "metadata": {},
   "outputs": [],
   "source": [
    "class Parent:\n",
    "    def say_hello(self):\n",
    "        print(\"Hello from Parent\")\n",
    "        return 0\n",
    "\n",
    "class Child(Parent):\n",
    "    def say_hello(self):\n",
    "        res = super().say_hello()\n",
    "        print(res)\n",
    "        print(\"hello from child\")"
   ]
  },
  {
   "cell_type": "code",
   "execution_count": 9,
   "id": "7ecf1a81-3ae3-40ff-a8ab-f13956a20d29",
   "metadata": {},
   "outputs": [
    {
     "name": "stdout",
     "output_type": "stream",
     "text": [
      "Hello from Parent\n",
      "0\n",
      "hello from child\n"
     ]
    }
   ],
   "source": [
    "obj = Child()\n",
    "obj.say_hello()"
   ]
  },
  {
   "cell_type": "markdown",
   "id": "68109ea6-3df2-4458-8526-ae91fa5e688b",
   "metadata": {},
   "source": [
    "In this example, `Child` is a subclass of `Parent`. The `Child` class overrides the `say_hello()` method of its parent class. When the `say_hello()` method is called on an object of the `Child` class, it will execute the overridden method in the `Child` class first, and then call the overridden method in the parent class using the `super()` function."
   ]
  },
  {
   "cell_type": "code",
   "execution_count": null,
   "id": "1abdb475-5c63-4a3c-ae2d-cfb46cf11c95",
   "metadata": {},
   "outputs": [],
   "source": []
  }
 ],
 "metadata": {
  "kernelspec": {
   "display_name": "Python 3 (ipykernel)",
   "language": "python",
   "name": "python3"
  },
  "language_info": {
   "codemirror_mode": {
    "name": "ipython",
    "version": 3
   },
   "file_extension": ".py",
   "mimetype": "text/x-python",
   "name": "python",
   "nbconvert_exporter": "python",
   "pygments_lexer": "ipython3",
   "version": "3.10.12"
  }
 },
 "nbformat": 4,
 "nbformat_minor": 5
}
