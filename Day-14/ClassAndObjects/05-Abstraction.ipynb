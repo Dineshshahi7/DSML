{
 "cells": [
  {
   "cell_type": "markdown",
   "id": "41524be4-22cb-40bf-9262-0daf35a4b6d7",
   "metadata": {},
   "source": [
    "# Abstraction in Python\n",
    "\n",
    "Abstraction is the process of hiding complex implementation details and providing a simple interface for the users to interact with the system. In Python, abstraction can be achieved through the use of abstract classes and interfaces.\n",
    "\n",
    "An abstract class is a class that cannot be instantiated, but can be subclassed. It defines a set of abstract methods that must be implemented by its subclasses. These abstract methods define the interface of the class and are used to enforce a contract between the abstract class and its subclasses."
   ]
  },
  {
   "cell_type": "code",
   "execution_count": 4,
   "id": "10d9227a-12cf-4e4f-8e9c-cdeea7062c92",
   "metadata": {},
   "outputs": [],
   "source": [
    "from abc import ABC, abstractmethod\n",
    "\n",
    "class Shape(ABC):\n",
    "\n",
    "    @abstractmethod\n",
    "    def area(self):\n",
    "        pass\n",
    "\n",
    "    def volume(self):\n",
    "        return \"Not Applicable for given shape\""
   ]
  },
  {
   "cell_type": "code",
   "execution_count": 5,
   "id": "a06f2aa7-2dd8-4007-819e-a36a45ec1b7a",
   "metadata": {},
   "outputs": [
    {
     "ename": "TypeError",
     "evalue": "Can't instantiate abstract class Shape with abstract method area",
     "output_type": "error",
     "traceback": [
      "\u001b[0;31m---------------------------------------------------------------------------\u001b[0m",
      "\u001b[0;31mTypeError\u001b[0m                                 Traceback (most recent call last)",
      "Cell \u001b[0;32mIn[5], line 1\u001b[0m\n\u001b[0;32m----> 1\u001b[0m shape \u001b[38;5;241m=\u001b[39m \u001b[43mShape\u001b[49m\u001b[43m(\u001b[49m\u001b[43m)\u001b[49m\n",
      "\u001b[0;31mTypeError\u001b[0m: Can't instantiate abstract class Shape with abstract method area"
     ]
    }
   ],
   "source": [
    "shape = Shape()"
   ]
  },
  {
   "cell_type": "markdown",
   "id": "fefb7ac4-0492-44a4-8cef-5d9dc61e3266",
   "metadata": {},
   "source": [
    "In this example, we define an abstract class called `Shape`. It has abstract methods, `area()`, which are used to define the interface of the class. Any subclass of `Shape` must implement these methods."
   ]
  },
  {
   "cell_type": "code",
   "execution_count": 9,
   "id": "2cc5ee1c-8275-4d36-87e5-014bca39ba21",
   "metadata": {},
   "outputs": [],
   "source": [
    "class Rectangle(Shape):\n",
    "    def __init__(self, width, length):\n",
    "        self.w = width\n",
    "        self.l = length\n",
    "\n",
    "    def area(self):\n",
    "        return self.w * self.l"
   ]
  },
  {
   "cell_type": "code",
   "execution_count": 10,
   "id": "6a09f6d2-295c-4cee-8627-bc9a20b6b094",
   "metadata": {},
   "outputs": [],
   "source": [
    "rect = Rectangle(32,24)"
   ]
  },
  {
   "cell_type": "code",
   "execution_count": 11,
   "id": "5fdcdd30-e4a5-4090-a4a1-0cee248aac4e",
   "metadata": {},
   "outputs": [
    {
     "data": {
      "text/plain": [
       "768"
      ]
     },
     "execution_count": 11,
     "metadata": {},
     "output_type": "execute_result"
    }
   ],
   "source": [
    "rect.area()"
   ]
  },
  {
   "cell_type": "code",
   "execution_count": 12,
   "id": "566567e7-994d-4286-8ca9-bc31d87b2920",
   "metadata": {},
   "outputs": [
    {
     "data": {
      "text/plain": [
       "'Not Applicable for given shape'"
      ]
     },
     "execution_count": 12,
     "metadata": {},
     "output_type": "execute_result"
    }
   ],
   "source": [
    "rect.volume()"
   ]
  },
  {
   "cell_type": "code",
   "execution_count": 19,
   "id": "3969073a-b599-4343-886b-4d185c32aa93",
   "metadata": {},
   "outputs": [],
   "source": [
    "class Cuboid(Shape):\n",
    "    def __init__(self, width, length, height):\n",
    "        self.w = width\n",
    "        self.l = length\n",
    "        self.h = height\n",
    "\n",
    "    def area(self):\n",
    "        return self.w * self.l\n",
    "\n",
    "    def volume(self):\n",
    "        return self.w * self.l * self.h"
   ]
  },
  {
   "cell_type": "code",
   "execution_count": 20,
   "id": "2ba3c5b5-43bd-4711-9356-e35356ea4eff",
   "metadata": {},
   "outputs": [],
   "source": [
    "cub = Cuboid(3,6,9)"
   ]
  },
  {
   "cell_type": "code",
   "execution_count": 21,
   "id": "e1067a3c-a132-4a9b-a445-b7b1c8ed0ae3",
   "metadata": {},
   "outputs": [
    {
     "data": {
      "text/plain": [
       "162"
      ]
     },
     "execution_count": 21,
     "metadata": {},
     "output_type": "execute_result"
    }
   ],
   "source": [
    "cub.volume()"
   ]
  },
  {
   "cell_type": "code",
   "execution_count": null,
   "id": "04665170-ebb7-4fc2-bce7-901f8913651e",
   "metadata": {},
   "outputs": [],
   "source": []
  }
 ],
 "metadata": {
  "kernelspec": {
   "display_name": "Python 3 (ipykernel)",
   "language": "python",
   "name": "python3"
  },
  "language_info": {
   "codemirror_mode": {
    "name": "ipython",
    "version": 3
   },
   "file_extension": ".py",
   "mimetype": "text/x-python",
   "name": "python",
   "nbconvert_exporter": "python",
   "pygments_lexer": "ipython3",
   "version": "3.10.12"
  }
 },
 "nbformat": 4,
 "nbformat_minor": 5
}
