{
 "cells": [
  {
   "cell_type": "markdown",
   "id": "9194ece6-a135-470c-9631-256a8a1c05d7",
   "metadata": {},
   "source": [
    "# Magic Methods in Python\n",
    "\n",
    "In Python, magic methods are special methods that start and end with double underscores (e.g., __init__), hence also known as `dunder` (double undersocres) methods. They are used to define various built-in operations and behaviors of objects in Python. Here are some of the most commonly used magic methods in Python:\n",
    "\n",
    "- **\\__init\\__:** Initializes an object of a class when it is created\n",
    "- **\\__str\\__:** Defines how an object is printed as a string\n",
    "- **\\__repr\\__:** Defines the string representation of an object, which can be used to recreate the object\n",
    "- **\\__len\\__:** Defines length of an object\n",
    "- **\\__call\\__:** Calls objects of the class like a normal function\n"
   ]
  },
  {
   "cell_type": "code",
   "execution_count": 20,
   "id": "3ed6d1e0-17fc-42b2-80ad-d4c438ac05c8",
   "metadata": {},
   "outputs": [],
   "source": [
    "class Person:\n",
    "    def __init__(objr, name, age):\n",
    "        objr.name = name\n",
    "        objr.age = age\n",
    "\n",
    "    def __str__(objr): #<- Overloading print()\n",
    "        return f\"{objr.name} of {objr.age} years old\"\n",
    "\n",
    "    def __repr__(objr):\n",
    "        return f\"Person({objr.name}, {objr.age})\"\n",
    "\n",
    "    def __len__(objr):\n",
    "        return objr.age\n",
    "\n",
    "    def __call__(objr, gender = \"Male\"): #< object to callable\n",
    "        return f\"{objr.name} is a {gender}\""
   ]
  },
  {
   "cell_type": "code",
   "execution_count": 21,
   "id": "0ff43932-a0db-4ccb-b07e-eb80d2ac40e1",
   "metadata": {},
   "outputs": [],
   "source": [
    "person = Person(\"Hamilton\", 32)"
   ]
  },
  {
   "cell_type": "code",
   "execution_count": 22,
   "id": "1a4ae2d9-5c3d-43f4-b7bc-b669180488db",
   "metadata": {},
   "outputs": [
    {
     "data": {
      "text/plain": [
       "'Hamilton'"
      ]
     },
     "execution_count": 22,
     "metadata": {},
     "output_type": "execute_result"
    }
   ],
   "source": [
    "person.name"
   ]
  },
  {
   "cell_type": "code",
   "execution_count": 23,
   "id": "879766cd-d4a0-4d3e-8ad7-09e484b4096f",
   "metadata": {},
   "outputs": [
    {
     "name": "stdout",
     "output_type": "stream",
     "text": [
      "Hamilton of 32 years old\n"
     ]
    }
   ],
   "source": [
    "print(person)"
   ]
  },
  {
   "cell_type": "code",
   "execution_count": 24,
   "id": "ec7ef292-a316-43a5-be64-1bf24106f2ac",
   "metadata": {},
   "outputs": [
    {
     "data": {
      "text/plain": [
       "Person(Hamilton, 32)"
      ]
     },
     "execution_count": 24,
     "metadata": {},
     "output_type": "execute_result"
    }
   ],
   "source": [
    "person"
   ]
  },
  {
   "cell_type": "code",
   "execution_count": 25,
   "id": "bddf7cce-f2a2-450d-aba6-0fa35035d7b5",
   "metadata": {},
   "outputs": [
    {
     "data": {
      "text/plain": [
       "32"
      ]
     },
     "execution_count": 25,
     "metadata": {},
     "output_type": "execute_result"
    }
   ],
   "source": [
    "len(person)"
   ]
  },
  {
   "cell_type": "code",
   "execution_count": 28,
   "id": "c3cb6206-5645-478a-9e5e-0fe0d802f012",
   "metadata": {},
   "outputs": [
    {
     "data": {
      "text/plain": [
       "'Hamilton is a Female'"
      ]
     },
     "execution_count": 28,
     "metadata": {},
     "output_type": "execute_result"
    }
   ],
   "source": [
    "person(\"Female\")"
   ]
  },
  {
   "cell_type": "markdown",
   "id": "bcac6aef-075a-47b3-b126-3ac8be5b977d",
   "metadata": {},
   "source": [
    "In this example, the `__init__` method is used to initialize the `name` and `age` instance variables. The `__str__` method returns a string representation of the object when it is printed, and the `__repr__` method returns a string representation of the object that can be used to recreate the object. The `__len__` method returns the age of the person, and the `__call__` method returns a string indicating that the object is being called.\n",
    "\n",
    "**`__str__` and `__repr__` methods seem similar. How do they serve different purposes?**\n",
    "- `str(obj)` method is used to return a string representation of an object that is meant to be human-readable. It is generally used for printing the object, logging, and displaying information to the user.\n",
    "- `repr(obj)` method, on the other hand, is used to return a string representation of an object that is meant to be unambiguous and suitable for debugging. It should ideally return a string that can be used to recreate the object."
   ]
  },
  {
   "cell_type": "code",
   "execution_count": null,
   "id": "5c041dfe-8026-4c54-bc66-61065803ede6",
   "metadata": {},
   "outputs": [],
   "source": []
  }
 ],
 "metadata": {
  "kernelspec": {
   "display_name": "Python 3 (ipykernel)",
   "language": "python",
   "name": "python3"
  },
  "language_info": {
   "codemirror_mode": {
    "name": "ipython",
    "version": 3
   },
   "file_extension": ".py",
   "mimetype": "text/x-python",
   "name": "python",
   "nbconvert_exporter": "python",
   "pygments_lexer": "ipython3",
   "version": "3.10.12"
  }
 },
 "nbformat": 4,
 "nbformat_minor": 5
}
