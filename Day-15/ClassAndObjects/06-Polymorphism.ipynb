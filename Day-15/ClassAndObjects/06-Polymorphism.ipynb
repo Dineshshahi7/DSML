{
 "cells": [
  {
   "cell_type": "markdown",
   "id": "760f2132-288c-4754-86d5-3ebc74040f81",
   "metadata": {},
   "source": [
    "# Polymorphism in Python\n",
    "\n",
    "Polymorphism is the ability of an object to take on different forms or have multiple behaviors depending on the context in which it is used. In Python, polymorphism can be implemented using four different techniques:\n",
    "\n",
    "1. **Method Overloading:** A class can have multiple methods with the same name but different parameters, and the method to be called is determined based on the number and types of arguments passed during the function call.\n",
    "2. **Method Overriding:** Method overriding occurs when a subclass defines a method with the same name and parameters as a method in its superclass. When this occurs, the method in the subclass overrides the method in the superclass, allowing the subclass to provide its own implementation of the method.\n",
    "3. **Operator Overloading:** Python allows operators to be overloaded, so that they can be used with user-defined classes. For example, the \"+\" operator can be overloaded to perform concatenation on two string objects.\n",
    "4. **Duck Typing:** In Python, an object's suitability for an operation is determined by its behavior (i.e., its methods and attributes) rather than its type. So, if two different objects have the same behavior, they can be used interchangeably.\n"
   ]
  },
  {
   "cell_type": "markdown",
   "id": "d7e7a7d5-4e3f-42c2-82d9-06ab8af51374",
   "metadata": {},
   "source": [
    "## Operator Overloading\n",
    "\n",
    "Operator overloading is the ability to redefine the built-in operators such as `+, -, *, /, ==, >, <, and so on` for custom classes. In Python, it is possible to define how these operators should work on objects of user-defined classes by implementing certain special methods called magic methods or dunder methods. There are several magic methods available with python that support `operator overloading`. Here's a list of some of the popular magic methods that support `operator overloading` with python:\n",
    "\n",
    "| Operation | Implementation | Expression |\n",
    "| :-- | :-: | :-: |\n",
    "| Addition | `a + b` | `a.__add__(b)` |\n",
    "| Subtraction | `a  - b` | `a.__sub__(b)` |\n",
    "| Multiplication | `a * b` | `a.__mul__(b)` |\n",
    "| Division | `a / b` | `a.__truediv__(b)` |\n",
    "| Floor Division | `a // b` | `a.__floordiv__(b)` |\n",
    "| Remainder (Modulo) | `a % b` | `a.__mod__(b)` |\n",
    "| Power | `a ** b` | `a.__pow__(b)` |\n",
    "| Equals To | `a == b` | `a.__eq__(b)` |\n",
    "| Less Than | `a < b` | `a.__lt__(b)` |\n",
    "| Greater Than | `a > b` | `a.__gt__(b)` |\n",
    "| Bitwise AND | `a & b` | `a.__and__(b)` |\n",
    "| Bitwise OR | `a \\| b` | `a.__or__(b)` |\n",
    "| Bitwise NOT | `~a` | `a.__invert__()` |\n",
    "| Bitwise XOR | `a ^ b` | `a.__xor__(b)` |\n",
    "| Bitwise Left Shift | `a << b` | `a.__lshift__(b)` |\n",
    "| Bitwise Right Shift | `a >> b` | `a.__rshift__(b)` |"
   ]
  },
  {
   "cell_type": "code",
   "execution_count": 53,
   "id": "9764ba11-3aa8-438c-b46b-21ae21e67d01",
   "metadata": {},
   "outputs": [],
   "source": [
    "class Point:\n",
    "    \"\"\"\n",
    "    Operation on 2D points.\n",
    "    \"\"\"\n",
    "    def __init__(self, x,y):\n",
    "        self.x = x\n",
    "        self.y = y\n",
    "\n",
    "    def __repr__(self):\n",
    "        return f\"Point({self.x},{self.y})\"\n",
    "\n",
    "    def __add__(self, other):\n",
    "        x = self.x + other.x\n",
    "        y = self.y + other.y\n",
    "        return Point(x,y)\n",
    "\n",
    "    def __sub__(self, other):\n",
    "        x = self.x - other.x\n",
    "        y = self.y - other.y\n",
    "        return Point(x,y)\n",
    "\n",
    "    def __pow__(self, exp):\n",
    "        x = self.x ** exp\n",
    "        y = self.y ** exp\n",
    "        return Point(x,y)\n",
    "\n",
    "    def __gt__(self, other):\n",
    "        return self.x > other.x and self.y > other.y"
   ]
  },
  {
   "cell_type": "code",
   "execution_count": 54,
   "id": "9c84472e-7b5e-468c-9248-2481cdf753bb",
   "metadata": {},
   "outputs": [],
   "source": [
    "A = Point(2,5)\n",
    "B = Point(4,9)"
   ]
  },
  {
   "cell_type": "code",
   "execution_count": 45,
   "id": "84d01f66-2abc-4a2d-81d7-0665b90ecfa9",
   "metadata": {},
   "outputs": [
    {
     "data": {
      "text/plain": [
       "Point(6,14)"
      ]
     },
     "execution_count": 45,
     "metadata": {},
     "output_type": "execute_result"
    }
   ],
   "source": [
    "A + B"
   ]
  },
  {
   "cell_type": "code",
   "execution_count": 46,
   "id": "e8220049-6071-41be-b7b1-099431be7d7c",
   "metadata": {},
   "outputs": [
    {
     "data": {
      "text/plain": [
       "Point(-2,-4)"
      ]
     },
     "execution_count": 46,
     "metadata": {},
     "output_type": "execute_result"
    }
   ],
   "source": [
    "A - B"
   ]
  },
  {
   "cell_type": "code",
   "execution_count": 47,
   "id": "205422eb-a27c-41f6-b57b-57d28175b446",
   "metadata": {},
   "outputs": [
    {
     "data": {
      "text/plain": [
       "Point(64,729)"
      ]
     },
     "execution_count": 47,
     "metadata": {},
     "output_type": "execute_result"
    }
   ],
   "source": [
    "B ** 3"
   ]
  },
  {
   "cell_type": "code",
   "execution_count": 49,
   "id": "98b44744-d2ec-4cda-ab49-61040b9881bd",
   "metadata": {},
   "outputs": [
    {
     "data": {
      "text/plain": [
       "True"
      ]
     },
     "execution_count": 49,
     "metadata": {},
     "output_type": "execute_result"
    }
   ],
   "source": [
    " A < B"
   ]
  },
  {
   "cell_type": "code",
   "execution_count": null,
   "id": "8ecb3669-d124-432e-b551-12cb5605e599",
   "metadata": {},
   "outputs": [],
   "source": []
  },
  {
   "cell_type": "code",
   "execution_count": 57,
   "id": "cc3fd6da-d4ab-4639-8afa-6641530dedf9",
   "metadata": {},
   "outputs": [
    {
     "name": "stdout",
     "output_type": "stream",
     "text": [
      "\n",
      "    Operation on 2D points.\n",
      "    \n"
     ]
    }
   ],
   "source": [
    "print(A.__doc__)"
   ]
  },
  {
   "cell_type": "code",
   "execution_count": 58,
   "id": "0eede161-49fa-401d-8f0d-3105c93a0609",
   "metadata": {},
   "outputs": [
    {
     "data": {
      "text/plain": [
       "'2.2.2'"
      ]
     },
     "execution_count": 58,
     "metadata": {},
     "output_type": "execute_result"
    }
   ],
   "source": [
    "import pandas\n",
    "\n",
    "pandas.__version__"
   ]
  },
  {
   "cell_type": "code",
   "execution_count": null,
   "id": "75f0a329-87a4-48b5-80e3-616452f02f6c",
   "metadata": {},
   "outputs": [],
   "source": []
  },
  {
   "cell_type": "code",
   "execution_count": null,
   "id": "1cec25a0-9950-477f-9f5a-9c35bbc66ae3",
   "metadata": {},
   "outputs": [],
   "source": []
  },
  {
   "cell_type": "markdown",
   "id": "420797d9-71d7-42a7-a9ee-255cdaa68833",
   "metadata": {},
   "source": [
    "## Duck Typing\n",
    "\n",
    "In this example, we have defined two classes: `Car` and `Bike`. Both classes have a method called `drive`. We have defined a function called `start_driving`, which takes a parameter called `vehicle`. The `start_driving` function calls the `drive` method of the `vehicle` object. We create objects of the `Car` and `Bike` classes and pass them to the `start_driving` function. The drive method of the object is called based on its type. This is an example of duck typing, where the type of the object is not checked, but the presence of a specific method is checked."
   ]
  },
  {
   "cell_type": "code",
   "execution_count": 1,
   "id": "c94bacd7-1595-47ae-9827-f3b30c684122",
   "metadata": {},
   "outputs": [],
   "source": [
    "class Car:\n",
    "    def drive(self):\n",
    "        print(\"Driving a Car\")\n",
    "\n",
    "class Bike:\n",
    "    def drive(self):\n",
    "        print(\"riding a bike\")"
   ]
  },
  {
   "cell_type": "code",
   "execution_count": 2,
   "id": "1d3a958e-1dca-49a8-b04e-f59f48fe6e61",
   "metadata": {},
   "outputs": [],
   "source": [
    "def start_driving(vechical):\n",
    "    vechical.drive()"
   ]
  },
  {
   "cell_type": "code",
   "execution_count": 3,
   "id": "4c8d2faf-9a4a-43bf-b569-9ccafde55e4a",
   "metadata": {},
   "outputs": [],
   "source": [
    "car = Car()\n",
    "bike = Bike()"
   ]
  },
  {
   "cell_type": "code",
   "execution_count": 4,
   "id": "e92d1bb3-f5ef-4d36-8d63-3777b208b415",
   "metadata": {},
   "outputs": [
    {
     "name": "stdout",
     "output_type": "stream",
     "text": [
      "Driving a Car\n"
     ]
    }
   ],
   "source": [
    "start_driving(car)"
   ]
  },
  {
   "cell_type": "code",
   "execution_count": 5,
   "id": "54a6cf55-c07b-4cb9-ae91-602eb9c7def8",
   "metadata": {},
   "outputs": [
    {
     "name": "stdout",
     "output_type": "stream",
     "text": [
      "riding a bike\n"
     ]
    }
   ],
   "source": [
    "start_driving(bike)"
   ]
  },
  {
   "cell_type": "code",
   "execution_count": null,
   "id": "195d6147-9699-4bb7-b491-33fa1a705b72",
   "metadata": {},
   "outputs": [],
   "source": []
  },
  {
   "cell_type": "code",
   "execution_count": null,
   "id": "981174cb-03bb-449b-8d0e-d8b8203ec9a0",
   "metadata": {},
   "outputs": [],
   "source": []
  }
 ],
 "metadata": {
  "kernelspec": {
   "display_name": "Python 3 (ipykernel)",
   "language": "python",
   "name": "python3"
  },
  "language_info": {
   "codemirror_mode": {
    "name": "ipython",
    "version": 3
   },
   "file_extension": ".py",
   "mimetype": "text/x-python",
   "name": "python",
   "nbconvert_exporter": "python",
   "pygments_lexer": "ipython3",
   "version": "3.10.12"
  }
 },
 "nbformat": 4,
 "nbformat_minor": 5
}
