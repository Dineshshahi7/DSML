{
 "cells": [
  {
   "cell_type": "markdown",
   "id": "9d6be677-5e45-4f00-ae3b-980011948dd1",
   "metadata": {},
   "source": [
    "# Python Sequence Types\n",
    "\n",
    "The sequence type of python includes two data structures: list and tuple\n"
   ]
  },
  {
   "cell_type": "markdown",
   "id": "25385d8b-6092-4247-ae4b-ea61f107df9c",
   "metadata": {
    "jp-MarkdownHeadingCollapsed": true
   },
   "source": [
    "## 1. List\n",
    "\n",
    "In Python, lists are used to store a collection of items, which can be of any data type. Here's a brief overview of the Python list type:\n",
    "\n",
    "### Defining Lists\n",
    "\n",
    "You can define a list in Python using square brackets []. Here are some examples:"
   ]
  },
  {
   "cell_type": "code",
   "execution_count": 1,
   "id": "362de181-05f0-43f4-bcce-2853a7493b01",
   "metadata": {},
   "outputs": [],
   "source": [
    "prime = [1, 3, 5, 7, 11, 13, 17, 19, 23, 29]"
   ]
  },
  {
   "cell_type": "code",
   "execution_count": 2,
   "id": "056adb78-4c59-4f28-a789-13a9440b534e",
   "metadata": {},
   "outputs": [
    {
     "data": {
      "text/plain": [
       "list"
      ]
     },
     "execution_count": 2,
     "metadata": {},
     "output_type": "execute_result"
    }
   ],
   "source": [
    "type(prime)"
   ]
  },
  {
   "cell_type": "code",
   "execution_count": 3,
   "id": "b80403e4-7dac-4bb7-81ba-916f1e91c226",
   "metadata": {},
   "outputs": [],
   "source": [
    "z = [\"apple\", 11.34, \"45Jhon\", -9, True]"
   ]
  },
  {
   "cell_type": "code",
   "execution_count": 4,
   "id": "5d08b519-2c4b-42e3-acd3-aa7b4cae5f49",
   "metadata": {},
   "outputs": [
    {
     "name": "stdout",
     "output_type": "stream",
     "text": [
      "['apple', 11.34, '45Jhon', -9, True]\n"
     ]
    }
   ],
   "source": [
    "print(z)"
   ]
  },
  {
   "cell_type": "code",
   "execution_count": 5,
   "id": "95b8ac7c-8c22-4a21-b1b5-5f411c1eb72d",
   "metadata": {},
   "outputs": [
    {
     "data": {
      "text/plain": [
       "5"
      ]
     },
     "execution_count": 5,
     "metadata": {},
     "output_type": "execute_result"
    }
   ],
   "source": [
    "len(z)"
   ]
  },
  {
   "cell_type": "markdown",
   "id": "7617f2b2-5b79-4c57-a451-0834d9b04e95",
   "metadata": {},
   "source": [
    "### Accessing List Items\n",
    "\n",
    "You can access individual items in a list using indexing. In Python, indexing starts at 0. Here are some examples:"
   ]
  },
  {
   "cell_type": "code",
   "execution_count": 6,
   "id": "639f82ed-17d8-4fda-958b-f852d7bb86dd",
   "metadata": {},
   "outputs": [
    {
     "data": {
      "text/plain": [
       "11.34"
      ]
     },
     "execution_count": 6,
     "metadata": {},
     "output_type": "execute_result"
    }
   ],
   "source": [
    "z[1]"
   ]
  },
  {
   "cell_type": "code",
   "execution_count": 7,
   "id": "dfad6404-56f5-4d32-992e-389edfae2f16",
   "metadata": {},
   "outputs": [
    {
     "data": {
      "text/plain": [
       "'45Jhon'"
      ]
     },
     "execution_count": 7,
     "metadata": {},
     "output_type": "execute_result"
    }
   ],
   "source": [
    "z[-3]"
   ]
  },
  {
   "cell_type": "markdown",
   "id": "57382c29-7b40-4267-8ab6-00e249048028",
   "metadata": {},
   "source": [
    "### Slicing Lists\n",
    "\n",
    "You can access a range of items in a list using slicing. Slicing uses the syntax `start:stop:step`, where `start` is the index of the first item you want to include, `stop` is the index of the first item you want to exclude, and `step` is the number of items to skip. Here are some examples:\n",
    "\n",
    "list[ start index : stop index : steps ]"
   ]
  },
  {
   "cell_type": "code",
   "execution_count": 8,
   "id": "ed433f58-1606-4e18-a5bb-0434bcfc926e",
   "metadata": {},
   "outputs": [],
   "source": [
    "prime = [1, 3, 5, 7, 11, 13, 17, 19, 23, 29]"
   ]
  },
  {
   "cell_type": "code",
   "execution_count": 9,
   "id": "e5111cfd-6041-4ba6-a2b6-56dc3c876823",
   "metadata": {},
   "outputs": [
    {
     "data": {
      "text/plain": [
       "[5, 11, 17, 23]"
      ]
     },
     "execution_count": 9,
     "metadata": {},
     "output_type": "execute_result"
    }
   ],
   "source": [
    "prime[2::2]"
   ]
  },
  {
   "cell_type": "code",
   "execution_count": 10,
   "id": "87320896-f8a1-4194-9c48-2bc57af4344f",
   "metadata": {},
   "outputs": [
    {
     "data": {
      "text/plain": [
       "[29, 23, 19, 17, 13, 11, 7, 5, 3, 1]"
      ]
     },
     "execution_count": 10,
     "metadata": {},
     "output_type": "execute_result"
    }
   ],
   "source": [
    "prime[::-1]"
   ]
  },
  {
   "cell_type": "code",
   "execution_count": 11,
   "id": "53fa0e8c-5852-4dc2-bfba-332df0131ad3",
   "metadata": {},
   "outputs": [
    {
     "data": {
      "text/plain": [
       "128"
      ]
     },
     "execution_count": 11,
     "metadata": {},
     "output_type": "execute_result"
    }
   ],
   "source": [
    "sum(prime)"
   ]
  },
  {
   "cell_type": "markdown",
   "id": "14840213-4cfe-4e93-93c9-57be10c38aa5",
   "metadata": {},
   "source": [
    "### Modifying Lists\n",
    "\n",
    "You can modify individual items in a list by assigning a new value to the index. You can also add or remove items from a list using built-in list methods. Here are some examples:\n",
    "\n",
    "Docs : https://python-reference.readthedocs.io/en/latest/docs/list/"
   ]
  },
  {
   "cell_type": "code",
   "execution_count": 12,
   "id": "22efb143-ca1e-41d1-be00-9c862df753c3",
   "metadata": {},
   "outputs": [],
   "source": [
    "z = [\"apple\", 11.34, \"45Jhon\", -9, True]"
   ]
  },
  {
   "cell_type": "code",
   "execution_count": 13,
   "id": "99244b2b-51a2-4ae6-a59f-bbe0f507100b",
   "metadata": {},
   "outputs": [],
   "source": [
    "z[2] = \"Jhon\"  #<- replace at any given index"
   ]
  },
  {
   "cell_type": "code",
   "execution_count": 14,
   "id": "4fda5cc5-11c9-431f-b807-b4bbf74cbfb2",
   "metadata": {},
   "outputs": [
    {
     "name": "stdout",
     "output_type": "stream",
     "text": [
      "['apple', 11.34, 'Jhon', -9, True]\n"
     ]
    }
   ],
   "source": [
    "print(z)"
   ]
  },
  {
   "cell_type": "code",
   "execution_count": null,
   "id": "7a1889aa-307f-407e-88a2-d15852d06313",
   "metadata": {},
   "outputs": [],
   "source": []
  },
  {
   "cell_type": "code",
   "execution_count": 15,
   "id": "c1aa69e9-774a-45ed-959d-a87347a82dda",
   "metadata": {},
   "outputs": [],
   "source": [
    "z.append(66) #<- add item to end of list"
   ]
  },
  {
   "cell_type": "code",
   "execution_count": 16,
   "id": "e2edcce9-b983-4580-b970-22d5c47d5e1d",
   "metadata": {},
   "outputs": [
    {
     "name": "stdout",
     "output_type": "stream",
     "text": [
      "['apple', 11.34, 'Jhon', -9, True, 66]\n"
     ]
    }
   ],
   "source": [
    "print(z)"
   ]
  },
  {
   "cell_type": "code",
   "execution_count": null,
   "id": "b388ee61-9763-42be-b85c-ea9d83b01325",
   "metadata": {},
   "outputs": [],
   "source": []
  },
  {
   "cell_type": "code",
   "execution_count": 17,
   "id": "ce1c8b05-84be-45fb-9ce5-7dd2570a4aa7",
   "metadata": {},
   "outputs": [],
   "source": [
    "z.insert(1, \"cow\") #<- Add an item at specific index"
   ]
  },
  {
   "cell_type": "code",
   "execution_count": 18,
   "id": "11e1ef96-197a-47f2-890d-e0395c267594",
   "metadata": {},
   "outputs": [
    {
     "name": "stdout",
     "output_type": "stream",
     "text": [
      "['apple', 'cow', 11.34, 'Jhon', -9, True, 66]\n"
     ]
    }
   ],
   "source": [
    "print(z)"
   ]
  },
  {
   "cell_type": "code",
   "execution_count": null,
   "id": "6e7b0a81-6979-40a9-bdca-896e7a1d41b2",
   "metadata": {},
   "outputs": [],
   "source": []
  },
  {
   "cell_type": "code",
   "execution_count": 19,
   "id": "c07d78bc-ca32-4fea-8df8-d292b9360172",
   "metadata": {},
   "outputs": [],
   "source": [
    "z.extend([1,2,3])"
   ]
  },
  {
   "cell_type": "code",
   "execution_count": 20,
   "id": "a18ecc67-9b7d-4d58-97c0-4b9f66e687db",
   "metadata": {},
   "outputs": [
    {
     "name": "stdout",
     "output_type": "stream",
     "text": [
      "['apple', 'cow', 11.34, 'Jhon', -9, True, 66, 1, 2, 3]\n"
     ]
    }
   ],
   "source": [
    "print(z)"
   ]
  },
  {
   "cell_type": "code",
   "execution_count": null,
   "id": "1872b40e-af48-46ff-8db5-701a1dda50df",
   "metadata": {},
   "outputs": [],
   "source": []
  },
  {
   "cell_type": "code",
   "execution_count": 21,
   "id": "2cb31d62-b389-4c8f-b002-420911946e6d",
   "metadata": {},
   "outputs": [],
   "source": [
    "z.remove(-9) # Removes the first occurrence of the specified item from the list"
   ]
  },
  {
   "cell_type": "code",
   "execution_count": 22,
   "id": "d8e0b1a6-8320-414d-bea8-526a5c75c735",
   "metadata": {},
   "outputs": [
    {
     "name": "stdout",
     "output_type": "stream",
     "text": [
      "['apple', 'cow', 11.34, 'Jhon', True, 66, 1, 2, 3]\n"
     ]
    }
   ],
   "source": [
    "print(z)"
   ]
  },
  {
   "cell_type": "code",
   "execution_count": null,
   "id": "e68186b4-a826-490d-8bda-ca3986448a43",
   "metadata": {},
   "outputs": [],
   "source": []
  },
  {
   "cell_type": "code",
   "execution_count": 23,
   "id": "0bed9944-6fa9-41a8-af56-4074e55f459d",
   "metadata": {},
   "outputs": [
    {
     "data": {
      "text/plain": [
       "3"
      ]
     },
     "execution_count": 23,
     "metadata": {},
     "output_type": "execute_result"
    }
   ],
   "source": [
    "z.pop() # Removes and returns the item at the specified index"
   ]
  },
  {
   "cell_type": "code",
   "execution_count": 24,
   "id": "95c768b0-8c6b-4fa5-9c5a-6322d66cf8ad",
   "metadata": {},
   "outputs": [
    {
     "name": "stdout",
     "output_type": "stream",
     "text": [
      "['apple', 'cow', 11.34, 'Jhon', True, 66, 1, 2]\n"
     ]
    }
   ],
   "source": [
    "print(z)"
   ]
  },
  {
   "cell_type": "code",
   "execution_count": null,
   "id": "2c68610c-c1e3-4ce9-90ac-a5dd0c168c71",
   "metadata": {},
   "outputs": [],
   "source": []
  },
  {
   "cell_type": "code",
   "execution_count": 25,
   "id": "c5766765-bd8a-4918-9c93-e20821aa54a9",
   "metadata": {},
   "outputs": [],
   "source": [
    "z.clear()"
   ]
  },
  {
   "cell_type": "code",
   "execution_count": 26,
   "id": "59ecca48-4388-45ba-8d58-bdd3d85ebea7",
   "metadata": {},
   "outputs": [
    {
     "name": "stdout",
     "output_type": "stream",
     "text": [
      "[]\n"
     ]
    }
   ],
   "source": [
    "print(z)"
   ]
  },
  {
   "cell_type": "code",
   "execution_count": null,
   "id": "d7a5f933-896c-454d-8efd-3f45262b3543",
   "metadata": {},
   "outputs": [],
   "source": []
  },
  {
   "cell_type": "markdown",
   "id": "ee0d11f7-3827-4285-baa9-4dfe3297ba9d",
   "metadata": {},
   "source": [
    "---"
   ]
  },
  {
   "cell_type": "code",
   "execution_count": 35,
   "id": "10888051-41da-4e7d-885f-a7ed5c443d85",
   "metadata": {},
   "outputs": [],
   "source": [
    "name = [\"hari\", \"shyam\",\"ram\"]"
   ]
  },
  {
   "cell_type": "code",
   "execution_count": 36,
   "id": "1976764c-f1f0-40ae-b15d-b30832dab912",
   "metadata": {},
   "outputs": [],
   "source": [
    "name_new = name.copy()"
   ]
  },
  {
   "cell_type": "code",
   "execution_count": 37,
   "id": "ae43eef9-be07-461e-9a63-2a09484ab520",
   "metadata": {},
   "outputs": [
    {
     "data": {
      "text/plain": [
       "['hari', 'shyam', 'ram']"
      ]
     },
     "execution_count": 37,
     "metadata": {},
     "output_type": "execute_result"
    }
   ],
   "source": [
    "name_new"
   ]
  },
  {
   "cell_type": "code",
   "execution_count": 38,
   "id": "019d832a-3e50-4bb3-be70-b258e84bbe64",
   "metadata": {},
   "outputs": [],
   "source": [
    "name_new.append(\"Krishna\")"
   ]
  },
  {
   "cell_type": "code",
   "execution_count": 39,
   "id": "2a963c39-b7c0-4150-8362-563dcf6b1393",
   "metadata": {},
   "outputs": [
    {
     "data": {
      "text/plain": [
       "['hari', 'shyam', 'ram', 'Krishna']"
      ]
     },
     "execution_count": 39,
     "metadata": {},
     "output_type": "execute_result"
    }
   ],
   "source": [
    "name_new"
   ]
  },
  {
   "cell_type": "code",
   "execution_count": 40,
   "id": "64a8414d-e8b4-4c33-8814-a99e04ced475",
   "metadata": {},
   "outputs": [
    {
     "data": {
      "text/plain": [
       "['hari', 'shyam', 'ram']"
      ]
     },
     "execution_count": 40,
     "metadata": {},
     "output_type": "execute_result"
    }
   ],
   "source": [
    "name"
   ]
  },
  {
   "cell_type": "code",
   "execution_count": null,
   "id": "d3b1c7c9-5afa-4d6a-bc81-1bda47db4c64",
   "metadata": {},
   "outputs": [],
   "source": []
  },
  {
   "cell_type": "code",
   "execution_count": null,
   "id": "fb23d871-22d1-4823-9207-976ee04e42b9",
   "metadata": {},
   "outputs": [],
   "source": []
  },
  {
   "cell_type": "markdown",
   "id": "7feb44d6-47f2-4e0c-9da1-e1ad1952a590",
   "metadata": {},
   "source": [
    "### List Methods\n",
    "\n",
    "Python provides a variety of built-in list methods that you can use to perform operations on lists. Some common list methods include `sort()`, `reverse()`, `count()`, and `index()`. Here are some examples:"
   ]
  },
  {
   "cell_type": "code",
   "execution_count": 50,
   "id": "f61cf65d-5043-4e7b-b3ab-09f897796be1",
   "metadata": {},
   "outputs": [],
   "source": [
    "mylist = [3,1,99,1,5,1,3.2]"
   ]
  },
  {
   "cell_type": "code",
   "execution_count": 51,
   "id": "0055f9dd-4b3a-4ae4-ae44-b836a3617583",
   "metadata": {},
   "outputs": [
    {
     "name": "stdout",
     "output_type": "stream",
     "text": [
      "[3, 1, 99, 1, 5, 1, 3.2]\n"
     ]
    }
   ],
   "source": [
    "print(mylist)"
   ]
  },
  {
   "cell_type": "code",
   "execution_count": 52,
   "id": "785d96ca-ead9-43f3-baba-595af4ee0808",
   "metadata": {},
   "outputs": [],
   "source": [
    "mylist.sort(reverse=True) # Sorts the list in descending order"
   ]
  },
  {
   "cell_type": "code",
   "execution_count": 53,
   "id": "13e3b373-4f22-4aab-8c57-ca5a94752e11",
   "metadata": {},
   "outputs": [
    {
     "name": "stdout",
     "output_type": "stream",
     "text": [
      "[99, 5, 3.2, 3, 1, 1, 1]\n"
     ]
    }
   ],
   "source": [
    "print(mylist)"
   ]
  },
  {
   "cell_type": "code",
   "execution_count": null,
   "id": "5160eca8-cded-479c-aeca-23d4c3755c88",
   "metadata": {},
   "outputs": [],
   "source": []
  },
  {
   "cell_type": "code",
   "execution_count": 54,
   "id": "8b526141-1f2c-4b50-acee-4222e5e22400",
   "metadata": {},
   "outputs": [],
   "source": [
    "mylist.reverse()"
   ]
  },
  {
   "cell_type": "code",
   "execution_count": 55,
   "id": "93edfed7-2575-45a1-bc2e-721dbbe062b6",
   "metadata": {},
   "outputs": [
    {
     "name": "stdout",
     "output_type": "stream",
     "text": [
      "[1, 1, 1, 3, 3.2, 5, 99]\n"
     ]
    }
   ],
   "source": [
    "print(mylist)"
   ]
  },
  {
   "cell_type": "code",
   "execution_count": null,
   "id": "9893d54c-1c16-440c-bbb5-8f112cc28847",
   "metadata": {},
   "outputs": [],
   "source": []
  },
  {
   "cell_type": "code",
   "execution_count": 58,
   "id": "3d6c0698-c953-4120-b659-cdf7306336bc",
   "metadata": {},
   "outputs": [
    {
     "data": {
      "text/plain": [
       "3"
      ]
     },
     "execution_count": 58,
     "metadata": {},
     "output_type": "execute_result"
    }
   ],
   "source": [
    "mylist.count(1)"
   ]
  },
  {
   "cell_type": "code",
   "execution_count": 61,
   "id": "252ad9c4-f346-4c36-81d8-ac9fcb3fd00c",
   "metadata": {},
   "outputs": [
    {
     "data": {
      "text/plain": [
       "6"
      ]
     },
     "execution_count": 61,
     "metadata": {},
     "output_type": "execute_result"
    }
   ],
   "source": [
    "mylist.index(99)"
   ]
  },
  {
   "cell_type": "code",
   "execution_count": null,
   "id": "7eb9f0cc-2ad7-453a-ba81-f806b05f5357",
   "metadata": {},
   "outputs": [],
   "source": []
  },
  {
   "cell_type": "markdown",
   "id": "17ebf86c-c55d-47e7-8066-cefee494dde5",
   "metadata": {
    "jp-MarkdownHeadingCollapsed": true
   },
   "source": [
    "## 2. Tuple\n",
    "\n",
    "In Python, a tuple is a collection of ordered, immutable objects. Once created, you cannot modify the contents of a tuple. Here is a tutorial on using tuples in Python:\n",
    "\n",
    "### Creating a Tuple:\n",
    "You can create a tuple by enclosing a sequence of objects in parentheses, separated by commas:\n"
   ]
  },
  {
   "cell_type": "code",
   "execution_count": 64,
   "id": "597aea72-474f-47bf-b3e5-b8acbcf78a85",
   "metadata": {},
   "outputs": [],
   "source": [
    "mytuple = (720, 1280, 66)"
   ]
  },
  {
   "cell_type": "code",
   "execution_count": 65,
   "id": "9ea5a470-9cf5-4c55-9542-7cb3057c3983",
   "metadata": {},
   "outputs": [
    {
     "name": "stdout",
     "output_type": "stream",
     "text": [
      "(720, 1280, 66)\n"
     ]
    }
   ],
   "source": [
    "print(mytuple)"
   ]
  },
  {
   "cell_type": "code",
   "execution_count": 66,
   "id": "f136e7d4-34c3-4882-9954-ae97df485f81",
   "metadata": {},
   "outputs": [
    {
     "data": {
      "text/plain": [
       "tuple"
      ]
     },
     "execution_count": 66,
     "metadata": {},
     "output_type": "execute_result"
    }
   ],
   "source": [
    "type(mytuple)"
   ]
  },
  {
   "cell_type": "code",
   "execution_count": null,
   "id": "1d842de6-d295-4a66-b670-1160fab34535",
   "metadata": {},
   "outputs": [],
   "source": []
  },
  {
   "cell_type": "markdown",
   "id": "0ec86e09-a00c-468f-9666-a6bb4ac723a5",
   "metadata": {},
   "source": [
    "### Accessing Tuple Elements\n",
    "\n",
    "You can access elements of a tuple using indexing, just like with a list:"
   ]
  },
  {
   "cell_type": "code",
   "execution_count": 67,
   "id": "90564297-7323-40d4-b32b-12668041cf71",
   "metadata": {},
   "outputs": [
    {
     "data": {
      "text/plain": [
       "720"
      ]
     },
     "execution_count": 67,
     "metadata": {},
     "output_type": "execute_result"
    }
   ],
   "source": [
    "mytuple[0]"
   ]
  },
  {
   "cell_type": "code",
   "execution_count": 68,
   "id": "8163d92f-579c-4527-b34b-0d4b900af5dc",
   "metadata": {},
   "outputs": [
    {
     "data": {
      "text/plain": [
       "66"
      ]
     },
     "execution_count": 68,
     "metadata": {},
     "output_type": "execute_result"
    }
   ],
   "source": [
    "mytuple[-1]"
   ]
  },
  {
   "cell_type": "markdown",
   "id": "512c2973-d8ac-4a5f-a792-f31630568d36",
   "metadata": {},
   "source": [
    "### Slicing Tuples\n",
    "\n",
    "You can slice a tuple using the same slicing syntax as a list:"
   ]
  },
  {
   "cell_type": "code",
   "execution_count": 69,
   "id": "bb5ec9b7-f039-4837-93f7-930d35f855e7",
   "metadata": {},
   "outputs": [],
   "source": [
    "longtuple = (1,3,6,33,66,0)"
   ]
  },
  {
   "cell_type": "code",
   "execution_count": 71,
   "id": "16d417f4-c367-4f70-b0db-254feea102c7",
   "metadata": {},
   "outputs": [
    {
     "name": "stdout",
     "output_type": "stream",
     "text": [
      "(1, 3, 6, 33, 66, 0)\n"
     ]
    }
   ],
   "source": [
    "print(longtuple)"
   ]
  },
  {
   "cell_type": "code",
   "execution_count": 72,
   "id": "711d76d7-667d-49ee-9486-7d854f5b7eba",
   "metadata": {},
   "outputs": [
    {
     "data": {
      "text/plain": [
       "(6, 33, 66, 0)"
      ]
     },
     "execution_count": 72,
     "metadata": {},
     "output_type": "execute_result"
    }
   ],
   "source": [
    "longtuple[2:6]"
   ]
  },
  {
   "cell_type": "markdown",
   "id": "acfe64b4-0d1c-40ec-b54e-f0435476299a",
   "metadata": {},
   "source": [
    "### Modifying Tuples\n",
    "\n",
    "####  Tuples are Immutable\n",
    "\n",
    "Once created, you cannot modify the contents of a tuple. This means that you cannot add, remove, or change elements of a tuple. It raises `TypeError`."
   ]
  },
  {
   "cell_type": "code",
   "execution_count": 73,
   "id": "86059df7-d9e0-48c5-aacc-27a6cba765a2",
   "metadata": {},
   "outputs": [
    {
     "ename": "TypeError",
     "evalue": "'tuple' object does not support item assignment",
     "output_type": "error",
     "traceback": [
      "\u001b[0;31m---------------------------------------------------------------------------\u001b[0m",
      "\u001b[0;31mTypeError\u001b[0m                                 Traceback (most recent call last)",
      "Cell \u001b[0;32mIn[73], line 1\u001b[0m\n\u001b[0;32m----> 1\u001b[0m \u001b[43mlongtuple\u001b[49m\u001b[43m[\u001b[49m\u001b[38;5;241;43m0\u001b[39;49m\u001b[43m]\u001b[49m \u001b[38;5;241m=\u001b[39m \u001b[38;5;241m4\u001b[39m\n",
      "\u001b[0;31mTypeError\u001b[0m: 'tuple' object does not support item assignment"
     ]
    }
   ],
   "source": [
    "longtuple[0] = 4"
   ]
  },
  {
   "cell_type": "code",
   "execution_count": null,
   "id": "72e0860e-40b2-4baa-ba05-0f457ad5e9cb",
   "metadata": {},
   "outputs": [],
   "source": []
  },
  {
   "cell_type": "markdown",
   "id": "8c44f95c-6874-41a2-864c-fafdbd9e652f",
   "metadata": {},
   "source": [
    "### Tuple Methods\n",
    "\n",
    "Tuples are immutable in Python, which means that they cannot be modified once created. As a result, they have fewer methods compared to lists. However, there are a few built-in methods that can be used with tuples in Python. Some of the commonly used methods for tuples are `count()`, `index()`.\n",
    "\n",
    "Syntax:\n",
    "\n",
    "```\n",
    "tuple.count(value)\n",
    "tuple.index(value[, start[, end]])\n",
    "```\n",
    "\n",
    "The `start` and `end` parameters are optional and specify the range of the tuple to search in. If `value` is not found, a `ValueError` is raised."
   ]
  },
  {
   "cell_type": "code",
   "execution_count": 75,
   "id": "296106bf-219a-4157-9f8f-2b2d5c626976",
   "metadata": {},
   "outputs": [
    {
     "data": {
      "text/plain": [
       "1"
      ]
     },
     "execution_count": 75,
     "metadata": {},
     "output_type": "execute_result"
    }
   ],
   "source": [
    "longtuple.count(0)"
   ]
  },
  {
   "cell_type": "code",
   "execution_count": 77,
   "id": "2e8f81b2-3d6c-4cb3-80a8-58200cb5e14e",
   "metadata": {},
   "outputs": [
    {
     "data": {
      "text/plain": [
       "[0, 1, 3, 6, 33, 66]"
      ]
     },
     "execution_count": 77,
     "metadata": {},
     "output_type": "execute_result"
    }
   ],
   "source": [
    "sorted(longtuple)"
   ]
  },
  {
   "cell_type": "code",
   "execution_count": null,
   "id": "18ecb6dc-0b84-47c7-842d-894d7c3fdb20",
   "metadata": {},
   "outputs": [],
   "source": []
  },
  {
   "cell_type": "markdown",
   "id": "458cef55-74a7-4b33-b334-0990c1bc5b71",
   "metadata": {},
   "source": [
    "## Type Conversion"
   ]
  },
  {
   "cell_type": "code",
   "execution_count": 79,
   "id": "76392c2d-4738-4165-a1fe-3d2d53f1d473",
   "metadata": {},
   "outputs": [
    {
     "data": {
      "text/plain": [
       "[1, 3, 6, 33, 66, 0]"
      ]
     },
     "execution_count": 79,
     "metadata": {},
     "output_type": "execute_result"
    }
   ],
   "source": [
    "list(longtuple)"
   ]
  },
  {
   "cell_type": "code",
   "execution_count": 80,
   "id": "124ff133-3eda-46c3-921e-34d1112bd798",
   "metadata": {},
   "outputs": [
    {
     "data": {
      "text/plain": [
       "(1, 1, 1, 3, 3.2, 5, 99)"
      ]
     },
     "execution_count": 80,
     "metadata": {},
     "output_type": "execute_result"
    }
   ],
   "source": [
    "tuple(mylist)"
   ]
  },
  {
   "cell_type": "code",
   "execution_count": null,
   "id": "5aa296ec-961a-438c-892e-9566de149714",
   "metadata": {},
   "outputs": [],
   "source": []
  },
  {
   "cell_type": "code",
   "execution_count": null,
   "id": "72a2442e-ffd0-497e-9beb-35bc1e8f6aef",
   "metadata": {},
   "outputs": [],
   "source": [
    " "
   ]
  }
 ],
 "metadata": {
  "kernelspec": {
   "display_name": "Python 3 (ipykernel)",
   "language": "python",
   "name": "python3"
  },
  "language_info": {
   "codemirror_mode": {
    "name": "ipython",
    "version": 3
   },
   "file_extension": ".py",
   "mimetype": "text/x-python",
   "name": "python",
   "nbconvert_exporter": "python",
   "pygments_lexer": "ipython3",
   "version": "3.10.12"
  }
 },
 "nbformat": 4,
 "nbformat_minor": 5
}
