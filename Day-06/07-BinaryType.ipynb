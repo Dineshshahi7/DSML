{
 "cells": [
  {
   "cell_type": "markdown",
   "id": "3a37368c-ac95-4ddd-9649-941806dd6f53",
   "metadata": {},
   "source": [
    "# Python Binary Type\n",
    "\n",
    "In Python, binary data is represented using the `bytes` and `bytearray` types.\n",
    "\n",
    "A `bytes` object is an immutable sequence of bytes, while a `bytearray` object is a mutable sequence of bytes.\n",
    "\n",
    "You can create `bytes` and `bytearray` objects using the built-in `bytes()` and `bytearray()` functions, passing them either a string of binary data or a list of integers representing the binary data.\n",
    "\n",
    "Here are some examples:"
   ]
  },
  {
   "cell_type": "code",
   "execution_count": 2,
   "id": "6f54b49a-0445-4bb0-b3ed-93323bf840eb",
   "metadata": {},
   "outputs": [],
   "source": [
    "# Create a bytes object from a string of binary data\n",
    "b = b'\\x00\\x01\\x02\\x03\\x04\\x05'\n",
    "\n",
    "# Create a bytes object from a list of integers representing the binary data\n",
    "b = bytes([0, 1, 2, 3, 4, 5])\n",
    "\n",
    "# Create a bytearray object from a string of binary data\n",
    "ba = bytearray(b'\\x00\\x01\\x02\\x03\\x04\\x05')\n",
    "\n",
    "# Create a bytearray object from a list of integers representing the binary data\n",
    "ba = bytearray([0, 1, 2, 3, 4, 5])"
   ]
  },
  {
   "cell_type": "code",
   "execution_count": 4,
   "id": "6389aafc-1b21-461d-9602-5bbc6f25776e",
   "metadata": {},
   "outputs": [
    {
     "data": {
      "text/plain": [
       "bytes"
      ]
     },
     "execution_count": 4,
     "metadata": {},
     "output_type": "execute_result"
    }
   ],
   "source": [
    "type(b)"
   ]
  },
  {
   "cell_type": "code",
   "execution_count": 5,
   "id": "fb082b81-7269-4371-b432-34efeeb0a848",
   "metadata": {},
   "outputs": [
    {
     "data": {
      "text/plain": [
       "bytearray"
      ]
     },
     "execution_count": 5,
     "metadata": {},
     "output_type": "execute_result"
    }
   ],
   "source": [
    "type(ba)"
   ]
  },
  {
   "cell_type": "code",
   "execution_count": null,
   "id": "8dfcd8bb-9ce3-40e8-b6b5-582dba1349b2",
   "metadata": {},
   "outputs": [],
   "source": []
  }
 ],
 "metadata": {
  "kernelspec": {
   "display_name": "Python 3 (ipykernel)",
   "language": "python",
   "name": "python3"
  },
  "language_info": {
   "codemirror_mode": {
    "name": "ipython",
    "version": 3
   },
   "file_extension": ".py",
   "mimetype": "text/x-python",
   "name": "python",
   "nbconvert_exporter": "python",
   "pygments_lexer": "ipython3",
   "version": "3.10.12"
  }
 },
 "nbformat": 4,
 "nbformat_minor": 5
}
