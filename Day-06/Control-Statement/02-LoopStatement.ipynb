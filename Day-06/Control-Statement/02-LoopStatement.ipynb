{
 "cells": [
  {
   "cell_type": "markdown",
   "id": "d481df1f-a616-433c-8d8e-793cb661f603",
   "metadata": {},
   "source": [
    "# Python Loop Statements\n",
    "\n",
    "In Python, loops are used to execute a block of code repeatedly. There are two types of loops in Python: for loops and while loops.\n"
   ]
  },
  {
   "cell_type": "markdown",
   "id": "429a907c-50c7-4c5a-b875-f13daf4ecf3e",
   "metadata": {},
   "source": [
    "## 1. Python For Loop\n",
    "\n",
    "The `for` loop is used in Python to iterate over a sequence of values, such as a list, tuple, string, or range. The basic syntax of a `for` loop is as follows:\n",
    "\n",
    "Syntax:\n",
    "```python\n",
    "for item in items:\n",
    "    do somethings\n",
    "```\n",
    "\n",
    "The `item` is a new variable that is created with each iteration of the loop, and takes on the value of the next element in the `items`. The code block that follows the `for` statement is executed for each value in the `items`.\n",
    "\n",
    "Here's an example of how to use the `for` loop to iterate over a list:"
   ]
  },
  {
   "cell_type": "code",
   "execution_count": 1,
   "id": "0747f250-4b94-40e5-9370-c0c3c81ad866",
   "metadata": {},
   "outputs": [],
   "source": [
    "fruits = ['apple',\"banana\",\"cherry\"]"
   ]
  },
  {
   "cell_type": "code",
   "execution_count": 2,
   "id": "8010aec7-bb1b-4f74-9a05-0b14faf4cba3",
   "metadata": {},
   "outputs": [
    {
     "name": "stdout",
     "output_type": "stream",
     "text": [
      "Fruit apple\n",
      "Fruit banana\n",
      "Fruit cherry\n",
      "completed\n"
     ]
    }
   ],
   "source": [
    "for each in fruits:\n",
    "    print(f\"Fruit {each}\")\n",
    "\n",
    "print(\"completed\")"
   ]
  },
  {
   "cell_type": "code",
   "execution_count": null,
   "id": "ffeaf3a0-2ea3-46dd-a98f-4f9faa563126",
   "metadata": {},
   "outputs": [],
   "source": []
  },
  {
   "cell_type": "markdown",
   "id": "9b5a6408-fb1d-4df6-bfbb-ad1981ffdb02",
   "metadata": {},
   "source": [
    "The `range` function is commonly used in `for` loops to generate a sequence of integers. Here's an example:"
   ]
  },
  {
   "cell_type": "code",
   "execution_count": 4,
   "id": "5d7f23d3-b25d-454d-9c2f-54305f7ebe1d",
   "metadata": {},
   "outputs": [
    {
     "data": {
      "text/plain": [
       "[0, 1, 2, 3, 4, 5, 6, 7, 8, 9]"
      ]
     },
     "execution_count": 4,
     "metadata": {},
     "output_type": "execute_result"
    }
   ],
   "source": [
    "list(range(10))"
   ]
  },
  {
   "cell_type": "code",
   "execution_count": 7,
   "id": "a137341c-2784-4344-aa12-1916afbbeb10",
   "metadata": {},
   "outputs": [
    {
     "data": {
      "text/plain": [
       "[10, 15, 20, 25, 30, 35, 40, 45, 50, 55, 60, 65, 70, 75, 80, 85, 90, 95]"
      ]
     },
     "execution_count": 7,
     "metadata": {},
     "output_type": "execute_result"
    }
   ],
   "source": [
    "list(range(10,100,5))"
   ]
  },
  {
   "cell_type": "code",
   "execution_count": 8,
   "id": "3ab78769-6dac-4820-ac07-7dfa8ac718bd",
   "metadata": {},
   "outputs": [
    {
     "name": "stdout",
     "output_type": "stream",
     "text": [
      "0\n",
      "1\n",
      "2\n",
      "3\n",
      "4\n",
      "5\n",
      "6\n",
      "7\n",
      "8\n",
      "9\n"
     ]
    }
   ],
   "source": [
    "for i in range(10):\n",
    "    print(i)"
   ]
  },
  {
   "cell_type": "raw",
   "id": "3090c506-b4cd-46a5-a40d-8cf3fd3a4968",
   "metadata": {},
   "source": [
    "*\n",
    "**\n",
    "***\n",
    "****\n",
    "*****"
   ]
  },
  {
   "cell_type": "code",
   "execution_count": 15,
   "id": "7b2f0260-7606-4b56-aa61-1bbe4b405981",
   "metadata": {},
   "outputs": [
    {
     "name": "stdout",
     "output_type": "stream",
     "text": [
      "*\n",
      "**\n",
      "***\n",
      "****\n",
      "*****\n"
     ]
    }
   ],
   "source": [
    "for i in range(1,6):\n",
    "    print(\"*\" * i)"
   ]
  },
  {
   "cell_type": "markdown",
   "id": "b14bcf84-dc16-44ff-b242-c8a4e5d45e5c",
   "metadata": {},
   "source": [
    "`Nested for` loops can also be used to iterate over multiple sequences. Here's an example:"
   ]
  },
  {
   "cell_type": "code",
   "execution_count": 20,
   "id": "63a6f139-d6da-42cc-9819-16ce5b97b162",
   "metadata": {},
   "outputs": [],
   "source": [
    "adj = ['red','big','tasty']\n",
    "fruits = ['apple',\"banana\",\"cherry\"]"
   ]
  },
  {
   "cell_type": "code",
   "execution_count": 21,
   "id": "196d889a-ad6d-4ba1-bb42-82c6bd90bf11",
   "metadata": {},
   "outputs": [
    {
     "name": "stdout",
     "output_type": "stream",
     "text": [
      "red apple\n",
      "red banana\n",
      "red cherry\n",
      "big apple\n",
      "big banana\n",
      "big cherry\n",
      "tasty apple\n",
      "tasty banana\n",
      "tasty cherry\n"
     ]
    }
   ],
   "source": [
    "for a in adj:\n",
    "    for f in fruits:\n",
    "        print(a, f)"
   ]
  },
  {
   "cell_type": "code",
   "execution_count": null,
   "id": "484a6a46-f633-4229-8dd3-536052ae3237",
   "metadata": {},
   "outputs": [],
   "source": []
  }
 ],
 "metadata": {
  "kernelspec": {
   "display_name": "Python 3 (ipykernel)",
   "language": "python",
   "name": "python3"
  },
  "language_info": {
   "codemirror_mode": {
    "name": "ipython",
    "version": 3
   },
   "file_extension": ".py",
   "mimetype": "text/x-python",
   "name": "python",
   "nbconvert_exporter": "python",
   "pygments_lexer": "ipython3",
   "version": "3.10.12"
  }
 },
 "nbformat": 4,
 "nbformat_minor": 5
}
