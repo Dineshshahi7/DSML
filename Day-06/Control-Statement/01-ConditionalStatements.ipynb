{
 "cells": [
  {
   "cell_type": "markdown",
   "id": "628fdf01-6da3-4bdd-9bc2-fe51a61d4d20",
   "metadata": {},
   "source": [
    "# Python Conditional statements\n",
    "\n",
    "The `if` statement is used in Python to check whether a condition is `True` or `False`, and then perform an action based on that condition. The basic syntax of the `if` statement is as follows:"
   ]
  },
  {
   "cell_type": "markdown",
   "id": "415a5f55-3ae7-47fe-b6d9-96099d35ac16",
   "metadata": {},
   "source": [
    "Syntax :\n",
    "```python\n",
    "if condition:\n",
    "    do something\n",
    "```"
   ]
  },
  {
   "cell_type": "markdown",
   "id": "3005ffd4-ac0a-4ce0-b6c7-e47a0bce6b7b",
   "metadata": {},
   "source": [
    "The `condition` is an expression that returns a boolean value (`True` or `False`). If the condition is `True`, then the code block that follows the `if` statement is executed. If the condition is `False`, then the code block is skipped.\n",
    "\n",
    "Here is an example of how to use the `if` statement in Python:"
   ]
  },
  {
   "cell_type": "code",
   "execution_count": 4,
   "id": "175eee91-0227-42e7-b194-7d8eb156329e",
   "metadata": {},
   "outputs": [
    {
     "name": "stdout",
     "output_type": "stream",
     "text": [
      "inside if block\n",
      "55 is greater than 0\n",
      "outside if block\n"
     ]
    }
   ],
   "source": [
    "x = 55\n",
    "\n",
    "if x > 0:\n",
    "    print(\"inside if block\")\n",
    "    print(f\"{x} is greater than 0\")\n",
    "\n",
    "print(\"outside if block\")\n",
    "    "
   ]
  },
  {
   "cell_type": "markdown",
   "id": "f82b1dd4-f6dd-4bed-9b24-3882f86093f5",
   "metadata": {},
   "source": [
    "In this example, the `if` statement checks whether `x` is greater than `0`. If the condition is `True`, then the code block that follows the `if` statement (which is just a print statement) is executed.\n",
    "\n",
    "Multiple conditions can be checked in an `if` statement by using logical operators like `and` and `or`. Here is an example:"
   ]
  },
  {
   "cell_type": "code",
   "execution_count": 5,
   "id": "013209db-b1ab-481d-9e2d-2ef6124f65ef",
   "metadata": {},
   "outputs": [],
   "source": [
    "x = 5\n",
    "y = -5\n",
    "\n",
    "if x > 0 and y > 0:\n",
    "    print(\"Both are positive\")\n",
    "\n"
   ]
  },
  {
   "cell_type": "markdown",
   "id": "66df952e-2844-4582-bf1a-ff545b205cc8",
   "metadata": {},
   "source": [
    "In this example, the `if` statement checks whether both `x` and `y` are greater than `0`. If the condition is `True`, then the code block that follows the `if` statement is executed.\n",
    "\n",
    "The `if` statement can also be followed by an `else` clause, which is executed if the condition is `False`. Here is an example:"
   ]
  },
  {
   "cell_type": "code",
   "execution_count": 6,
   "id": "b2f754dd-8d89-43f0-81da-6b3584ad734a",
   "metadata": {},
   "outputs": [
    {
     "name": "stdout",
     "output_type": "stream",
     "text": [
      "odd\n"
     ]
    }
   ],
   "source": [
    "x = 33\n",
    "\n",
    "if x%2 == 0:\n",
    "    print(\"even\")\n",
    "\n",
    "else:\n",
    "    print(\"odd\")\n",
    "\n"
   ]
  },
  {
   "cell_type": "code",
   "execution_count": 8,
   "id": "45fde33a-841d-4a5e-af02-decbae8d9c2d",
   "metadata": {},
   "outputs": [
    {
     "name": "stdout",
     "output_type": "stream",
     "text": [
      "It is not palindrome\n"
     ]
    }
   ],
   "source": [
    "name = \"mddam\"\n",
    "\n",
    "if name ==  name[::-1]:\n",
    "    print(\"It is palindrome\")\n",
    "else:\n",
    "    print(\"It is not palindrome\")"
   ]
  },
  {
   "cell_type": "code",
   "execution_count": null,
   "id": "97036cc4-7452-4b8a-9735-5edb5fd08285",
   "metadata": {},
   "outputs": [],
   "source": []
  },
  {
   "cell_type": "markdown",
   "id": "02c3f82c-8197-40b4-b838-41f234eab515",
   "metadata": {},
   "source": [
    "In addition to the `else` clause, the `if` statement can also be followed by an `elif` (short for \"else if\") clause, which allows for multiple conditions to be checked. Here is an example:"
   ]
  },
  {
   "cell_type": "code",
   "execution_count": 10,
   "id": "d2e76ec6-4a09-4cba-a50a-58f568a5d24b",
   "metadata": {},
   "outputs": [
    {
     "name": "stdout",
     "output_type": "stream",
     "text": [
      "x is positive\n"
     ]
    }
   ],
   "source": [
    "x = 6\n",
    "\n",
    "if x < 0:\n",
    "    print(\"x is negative\")\n",
    "\n",
    "elif x == 0:\n",
    "    prnit(\"x is zero\")\n",
    "\n",
    "else:\n",
    "    print(\"x is positive\")"
   ]
  },
  {
   "cell_type": "markdown",
   "id": "bf190d2a-c70e-4bf3-91ed-a8eb3866ba66",
   "metadata": {},
   "source": [
    "We used a single `elif` statement here but it can be followed by multiple other `elif` statements with different possible conditions as:\n",
    "\n",
    "Syntax: \n",
    "```python\n",
    "if condition 1:\n",
    "    do something\n",
    "elif condition 2:\n",
    "    do something\n",
    "...\n",
    "...\n",
    "elif condition n:\n",
    "    do something\n",
    "else:\n",
    "    do something\n",
    "```"
   ]
  },
  {
   "cell_type": "code",
   "execution_count": null,
   "id": "9b2fbc70-b460-4951-858f-27e19e835b9e",
   "metadata": {},
   "outputs": [],
   "source": []
  },
  {
   "cell_type": "markdown",
   "id": "b094a803-96d1-4b55-94f4-e3c4aa576bdd",
   "metadata": {},
   "source": [
    "## WAP to grade a number (100-80) Grade A, (80-60) Grade B , (60-40) Grade C and less than 40 Grade D. [if and elif control statement]\n",
    " "
   ]
  },
  {
   "cell_type": "code",
   "execution_count": 18,
   "id": "1347bac0-d31a-4709-be70-f5fdf193297a",
   "metadata": {},
   "outputs": [
    {
     "name": "stdout",
     "output_type": "stream",
     "text": [
      "Require Positive number\n"
     ]
    }
   ],
   "source": [
    "grade = -79\n",
    "\n",
    "if grade > 0:\n",
    "    if grade >= 80: \n",
    "        print(\"Grade A\")\n",
    "    \n",
    "    elif grade >= 60:\n",
    "        print(\"Grade B\")\n",
    "    \n",
    "    elif grade >= 40:\n",
    "        print(\"Grade C\")\n",
    "    \n",
    "    else:\n",
    "        print(\"Grade D\")\n",
    "else:\n",
    "    print(\"Require Positive number\")"
   ]
  },
  {
   "cell_type": "code",
   "execution_count": null,
   "id": "728b93cc-3347-4847-8f23-0dae8cf9a1a8",
   "metadata": {},
   "outputs": [],
   "source": []
  },
  {
   "cell_type": "markdown",
   "id": "f83e44d0-480e-4e7b-a4f2-4b986185fcee",
   "metadata": {},
   "source": [
    "## Nested If .. else"
   ]
  },
  {
   "cell_type": "code",
   "execution_count": null,
   "id": "df8b0df6-4040-4cac-a31d-88d612d9f721",
   "metadata": {},
   "outputs": [],
   "source": [
    "if grade > 0:\n",
    "    \n",
    "    if grade > 80:\n",
    "        print(\"Grade A\")\n",
    "\n",
    "    else:\n",
    "        print(\"Grade Other\")\n",
    "\n",
    "else:\n",
    "    print(\"Enter positive Value\")"
   ]
  }
 ],
 "metadata": {
  "kernelspec": {
   "display_name": "Python 3 (ipykernel)",
   "language": "python",
   "name": "python3"
  },
  "language_info": {
   "codemirror_mode": {
    "name": "ipython",
    "version": 3
   },
   "file_extension": ".py",
   "mimetype": "text/x-python",
   "name": "python",
   "nbconvert_exporter": "python",
   "pygments_lexer": "ipython3",
   "version": "3.10.12"
  }
 },
 "nbformat": 4,
 "nbformat_minor": 5
}
