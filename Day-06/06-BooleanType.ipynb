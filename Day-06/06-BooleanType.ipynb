{
 "cells": [
  {
   "cell_type": "markdown",
   "id": "96c3aea0-3e2a-483a-b444-ac9b77354f38",
   "metadata": {},
   "source": [
    "# Python Boolean Type\n",
    "\n",
    "In Python, the boolean type is a built-in data type that has two possible values: `True` and `False`. Booleans are used to represent the truth values of logical expressions, and they are often used in conditional statements to control the flow of a program.\n",
    "\n",
    "You can create boolean values using the literals `True` and `False`, or by using expressions that evaluate to boolean values.\n",
    "\n",
    "Here are some examples:"
   ]
  },
  {
   "cell_type": "code",
   "execution_count": 2,
   "id": "534c1077-5433-4b32-9333-97f4f9ced979",
   "metadata": {},
   "outputs": [
    {
     "data": {
      "text/plain": [
       "bool"
      ]
     },
     "execution_count": 2,
     "metadata": {},
     "output_type": "execute_result"
    }
   ],
   "source": [
    "flag = True\n",
    "type(flag)"
   ]
  },
  {
   "cell_type": "code",
   "execution_count": 3,
   "id": "996e72d1-4ea1-4158-a3d6-13462ed93176",
   "metadata": {},
   "outputs": [],
   "source": [
    "a = 5\n",
    "b = 10.0\n",
    "\n",
    "c = b > a"
   ]
  },
  {
   "cell_type": "code",
   "execution_count": 7,
   "id": "450e21b1-8a54-4781-8f0d-d9a15a75d850",
   "metadata": {},
   "outputs": [
    {
     "data": {
      "text/plain": [
       "True"
      ]
     },
     "execution_count": 7,
     "metadata": {},
     "output_type": "execute_result"
    }
   ],
   "source": [
    "c"
   ]
  },
  {
   "cell_type": "code",
   "execution_count": 5,
   "id": "278aaca4-38c4-40ee-839f-c97d95435107",
   "metadata": {},
   "outputs": [],
   "source": [
    "email = \"s@gmail.com\".endswith(\"gmail.com\")"
   ]
  },
  {
   "cell_type": "code",
   "execution_count": 6,
   "id": "481de5a3-af1e-4b65-a2c8-902507d99bef",
   "metadata": {},
   "outputs": [
    {
     "data": {
      "text/plain": [
       "True"
      ]
     },
     "execution_count": 6,
     "metadata": {},
     "output_type": "execute_result"
    }
   ],
   "source": [
    "email"
   ]
  },
  {
   "cell_type": "code",
   "execution_count": null,
   "id": "22708d95-05b7-4a8c-954b-094167268d6b",
   "metadata": {},
   "outputs": [],
   "source": []
  },
  {
   "cell_type": "markdown",
   "id": "9df64390-5d7d-4c87-847a-19feac1e6e85",
   "metadata": {},
   "source": [
    "Boolean values can be combined using logical operators. The most common logical operators are:\n",
    "\n",
    "- `and:` returns True if both operands are True, otherwise False.\n",
    "- `or:` returns True if either operand is True, otherwise False.\n",
    "- `not:` negates the value of the operand\n",
    "\n",
    "Here are some examples:"
   ]
  },
  {
   "cell_type": "code",
   "execution_count": 8,
   "id": "d74562c3-6216-4406-a0f2-c49150371ff4",
   "metadata": {},
   "outputs": [],
   "source": [
    "x = True\n",
    "y = False"
   ]
  },
  {
   "cell_type": "code",
   "execution_count": 11,
   "id": "3b1776c8-cf28-4e5a-8664-f4f0aafdbd4f",
   "metadata": {},
   "outputs": [
    {
     "data": {
      "text/plain": [
       "False"
      ]
     },
     "execution_count": 11,
     "metadata": {},
     "output_type": "execute_result"
    }
   ],
   "source": [
    "res = x and y\n",
    "res"
   ]
  },
  {
   "cell_type": "code",
   "execution_count": 12,
   "id": "4f44e333-24ee-47c6-9d73-9892b9b988a8",
   "metadata": {},
   "outputs": [
    {
     "data": {
      "text/plain": [
       "True"
      ]
     },
     "execution_count": 12,
     "metadata": {},
     "output_type": "execute_result"
    }
   ],
   "source": [
    "res = x or y\n",
    "res"
   ]
  },
  {
   "cell_type": "code",
   "execution_count": 14,
   "id": "ca0e40c6-1db3-4e53-b247-8da36f5f6cd0",
   "metadata": {},
   "outputs": [
    {
     "data": {
      "text/plain": [
       "True"
      ]
     },
     "execution_count": 14,
     "metadata": {},
     "output_type": "execute_result"
    }
   ],
   "source": [
    "not y"
   ]
  },
  {
   "cell_type": "code",
   "execution_count": null,
   "id": "35347c26-0b4c-43ba-a262-9aab4edced50",
   "metadata": {},
   "outputs": [],
   "source": []
  },
  {
   "cell_type": "markdown",
   "id": "6476ae99-6e91-4945-91df-3da537b51659",
   "metadata": {},
   "source": [
    "In Python, any non-zero number, non-empty string, non-empty list, non-empty tuple, non-empty dictionary, or non-None object is considered `True`. Zero, empty strings, empty lists, empty tuples, empty dictionaries, and None are considered `False`.\n",
    "\n",
    "Here are some examples:"
   ]
  },
  {
   "cell_type": "code",
   "execution_count": 17,
   "id": "f8a32891-baeb-4b51-8405-2051807e5c4f",
   "metadata": {},
   "outputs": [],
   "source": [
    "number = 0"
   ]
  },
  {
   "cell_type": "code",
   "execution_count": 18,
   "id": "5591bbec-6b6f-4fad-ab53-fa2b2aa2b728",
   "metadata": {},
   "outputs": [
    {
     "data": {
      "text/plain": [
       "False"
      ]
     },
     "execution_count": 18,
     "metadata": {},
     "output_type": "execute_result"
    }
   ],
   "source": [
    "bool(number)"
   ]
  },
  {
   "cell_type": "code",
   "execution_count": 19,
   "id": "711efb18-7f29-4cb3-af35-e643c9e6bd37",
   "metadata": {},
   "outputs": [
    {
     "data": {
      "text/plain": [
       "False"
      ]
     },
     "execution_count": 19,
     "metadata": {},
     "output_type": "execute_result"
    }
   ],
   "source": [
    "name = \"\"\n",
    "bool(name)"
   ]
  },
  {
   "cell_type": "code",
   "execution_count": 20,
   "id": "676bf517-e391-4d31-bd1f-e0e1e1ef1c7b",
   "metadata": {},
   "outputs": [
    {
     "data": {
      "text/plain": [
       "False"
      ]
     },
     "execution_count": 20,
     "metadata": {},
     "output_type": "execute_result"
    }
   ],
   "source": [
    "lst = []\n",
    "bool(lst)"
   ]
  },
  {
   "cell_type": "code",
   "execution_count": 21,
   "id": "362eda07-61b1-4940-929a-9edbc6c49d37",
   "metadata": {},
   "outputs": [
    {
     "data": {
      "text/plain": [
       "True"
      ]
     },
     "execution_count": 21,
     "metadata": {},
     "output_type": "execute_result"
    }
   ],
   "source": [
    "dd = {\"a\":1}\n",
    "bool(dd)"
   ]
  },
  {
   "cell_type": "code",
   "execution_count": null,
   "id": "15c7b3d6-3f3d-4899-8f28-eb58a6504178",
   "metadata": {},
   "outputs": [],
   "source": []
  }
 ],
 "metadata": {
  "kernelspec": {
   "display_name": "Python 3 (ipykernel)",
   "language": "python",
   "name": "python3"
  },
  "language_info": {
   "codemirror_mode": {
    "name": "ipython",
    "version": 3
   },
   "file_extension": ".py",
   "mimetype": "text/x-python",
   "name": "python",
   "nbconvert_exporter": "python",
   "pygments_lexer": "ipython3",
   "version": "3.10.12"
  }
 },
 "nbformat": 4,
 "nbformat_minor": 5
}
